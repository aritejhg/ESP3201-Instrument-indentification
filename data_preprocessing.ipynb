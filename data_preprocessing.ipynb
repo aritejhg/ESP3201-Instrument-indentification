{
  "nbformat": 4,
  "nbformat_minor": 0,
  "metadata": {
    "colab": {
      "provenance": [],
      "include_colab_link": true
    },
    "kernelspec": {
      "name": "python3",
      "display_name": "Python 3"
    },
    "language_info": {
      "name": "python"
    }
  },
  "cells": [
    {
      "cell_type": "markdown",
      "metadata": {
        "id": "view-in-github",
        "colab_type": "text"
      },
      "source": [
        "<a href=\"https://colab.research.google.com/github/aritejhg/ESP3201-Instrument-indentification/blob/main/data_preprocessing.ipynb\" target=\"_parent\"><img src=\"https://colab.research.google.com/assets/colab-badge.svg\" alt=\"Open In Colab\"/></a>"
      ]
    },
    {
      "cell_type": "markdown",
      "source": [
        "This notebook process the data from MedleyDB and OpenMIC to create a pipeline and transform the audio streams into audio-visual representations such as Log-Mel. \n",
        "\n",
        "OneDrive is used to store datasets pre and post processing.\n",
        "\n",
        "Workflow:\n",
        "\n",
        "wget zip --> process dataset --> convert back to zip file --> store in gdrive\n",
        "\n",
        "\n"
      ],
      "metadata": {
        "id": "eh1-w901SKfH"
      }
    },
    {
      "cell_type": "code",
      "source": [
        "# Common commands\n",
        "!zip -r '/content/folder/\"NewFileName.zip\"' '/content/folder/\"OrginalFileName\"'\n",
        "!unzip <filepath>\n",
        "!wget <url>\n",
        "%cp <zip_to_copy> /content/drive/MyDrive/ESP3201/Datasets/<dataset name>"
      ],
      "metadata": {
        "id": "e6gYCOiXaDfX"
      },
      "execution_count": null,
      "outputs": []
    },
    {
      "cell_type": "markdown",
      "source": [
        "## How processing works\n",
        "transform (short time fft/ fourier/ constant q) --> spectogram (mel/gamma) --> (maybe) log scale"
      ],
      "metadata": {
        "id": "T5pRqfRHw-_Q"
      }
    },
    {
      "cell_type": "markdown",
      "source": [
        "Extracting mel spectogram \n",
        "https://www.youtube.com/watch?v=TdnVE5m3o_0\n",
        "\n",
        "1. Should we convert to mel-spectogram while importing for training? not sure\n",
        "\n",
        "  maybe doing it as a form of pre-processing is more efficient\n",
        "\n",
        "2. What other pre-processing steps need to be taken?\n",
        "\n",
        "  Maybe data augmentation/weighting to adjust for the class imbalance?"
      ],
      "metadata": {
        "id": "ih37woUmnxi7"
      }
    },
    {
      "cell_type": "markdown",
      "source": [
        "#IRMAS"
      ],
      "metadata": {
        "id": "3kqpn9oMiZKY"
      }
    },
    {
      "cell_type": "code",
      "source": [
        "# Download dataset\n",
        "!wget https://zenodo.org/record/1290750/files/IRMAS-TrainingData.zip?download=1"
      ],
      "metadata": {
        "colab": {
          "base_uri": "https://localhost:8080/"
        },
        "id": "6qy0pfdpid7w",
        "outputId": "38a24bcb-8193-4254-e76c-68a8404131be"
      },
      "execution_count": null,
      "outputs": [
        {
          "output_type": "stream",
          "name": "stdout",
          "text": [
            "--2022-10-09 03:57:08--  https://zenodo.org/record/1290750/files/IRMAS-TrainingData.zip?download=1\n",
            "Resolving zenodo.org (zenodo.org)... 188.184.117.155\n",
            "Connecting to zenodo.org (zenodo.org)|188.184.117.155|:443... connected.\n",
            "HTTP request sent, awaiting response... 200 OK\n",
            "Length: 3181049879 (3.0G) [application/octet-stream]\n",
            "Saving to: ‘IRMAS-TrainingData.zip?download=1’\n",
            "\n",
            "IRMAS-TrainingData. 100%[===================>]   2.96G  26.2MB/s    in 1m 57s  \n",
            "\n",
            "2022-10-09 03:59:07 (25.9 MB/s) - ‘IRMAS-TrainingData.zip?download=1’ saved [3181049879/3181049879]\n",
            "\n"
          ]
        }
      ]
    },
    {
      "cell_type": "markdown",
      "source": [
        "#MedleyDB"
      ],
      "metadata": {
        "id": "RhazaBe0WCSi"
      }
    },
    {
      "cell_type": "code",
      "execution_count": null,
      "metadata": {
        "id": "_4VTf4HWt2vP"
      },
      "outputs": [],
      "source": []
    },
    {
      "cell_type": "markdown",
      "source": [
        "#PureMIC \n",
        "In case medleydb dun come thru"
      ],
      "metadata": {
        "id": "HOrfsghBxf_F"
      }
    },
    {
      "cell_type": "code",
      "source": [
        "# Download the zip file\n",
        "!wget ftp://193.136.94.104/PureMicDB/paper_files.7z"
      ],
      "metadata": {
        "id": "NiZqYfAAxkXe",
        "colab": {
          "base_uri": "https://localhost:8080/"
        },
        "outputId": "37520ebf-b729-475b-aa85-d31524b83c7e"
      },
      "execution_count": null,
      "outputs": [
        {
          "output_type": "stream",
          "name": "stdout",
          "text": [
            "--2022-10-08 08:52:55--  ftp://193.136.94.104/PureMicDB/paper_files.7z\n",
            "           => ‘paper_files.7z’\n",
            "Connecting to 193.136.94.104:21... failed: Connection refused.\n"
          ]
        }
      ]
    },
    {
      "cell_type": "code",
      "source": [
        "# Extracting the PureMic Dataset\n",
        "!tar --extract --file /content/PureMicDB/paper_files.7z\n",
        "!rm /content/PureMicDB/paper_files.7z"
      ],
      "metadata": {
        "id": "oKFLWIkNy2lf"
      },
      "execution_count": null,
      "outputs": []
    },
    {
      "cell_type": "code",
      "source": [],
      "metadata": {
        "id": "wkuyYkCVxkTE"
      },
      "execution_count": null,
      "outputs": []
    },
    {
      "cell_type": "markdown",
      "source": [
        "#OpenMIC"
      ],
      "metadata": {
        "id": "vH10oL1PWE_w"
      }
    },
    {
      "cell_type": "code",
      "source": [
        "# Download original zip\n",
        "!wget https://zenodo.org/record/1432913/files/openmic-2018-v1.0.0.tgz"
      ],
      "metadata": {
        "colab": {
          "base_uri": "https://localhost:8080/"
        },
        "id": "RN1ugAtKWG0u",
        "outputId": "7edd6ac0-c42c-4e4c-97d7-f5b5d7942d9a"
      },
      "execution_count": null,
      "outputs": [
        {
          "output_type": "stream",
          "name": "stdout",
          "text": [
            "--2022-10-08 04:08:45--  https://zenodo.org/record/1432913/files/openmic-2018-v1.0.0.tgz\n",
            "Resolving zenodo.org (zenodo.org)... 188.184.117.155\n",
            "Connecting to zenodo.org (zenodo.org)|188.184.117.155|:443... connected.\n",
            "HTTP request sent, awaiting response... 200 OK\n",
            "Length: 2623376754 (2.4G) [application/octet-stream]\n",
            "Saving to: ‘openmic-2018-v1.0.0.tgz’\n",
            "\n",
            "openmic-2018-v1.0.0 100%[===================>]   2.44G  29.1MB/s    in 92s     \n",
            "\n",
            "2022-10-08 04:10:19 (27.3 MB/s) - ‘openmic-2018-v1.0.0.tgz’ saved [2623376754/2623376754]\n",
            "\n"
          ]
        }
      ]
    },
    {
      "cell_type": "code",
      "source": [
        "# no need to copy zip to drive anymore since download is fast\n",
        "# %cp \"/content/openmic-2018-v1.0.0.tgz\" \"/content/drive/MyDrive/ESP3201/Datasets/openmic-2018-v1.0.0.tgz\""
      ],
      "metadata": {
        "id": "txycXlwmdvlo"
      },
      "execution_count": null,
      "outputs": []
    },
    {
      "cell_type": "code",
      "source": [
        "# Extract and delete the zip\n",
        "!tar --extract --file /content/openmic-2018-v1.0.0.tgz\n",
        "!rm /content/openmic-2018-v1.0.0.tgz"
      ],
      "metadata": {
        "id": "Nyv1bcohe8tR"
      },
      "execution_count": null,
      "outputs": []
    },
    {
      "cell_type": "markdown",
      "source": [
        "# Convert to log mel\n"
      ],
      "metadata": {
        "id": "I4AG0wpZ3NHs"
      }
    },
    {
      "cell_type": "code",
      "source": [
        "import librosa\n",
        "import librosa.display\n",
        "import IPython.display as ipd\n",
        "import matplotlib.pyplot as plt\n",
        "import numpy as np"
      ],
      "metadata": {
        "id": "7EV5uR6RymkL"
      },
      "execution_count": null,
      "outputs": []
    },
    {
      "cell_type": "code",
      "source": [
        "files = ['/content/openmic-2018/audio/000/000046_3840.ogg'] # we can make a list comprehension of all files needed\n",
        "save_path = \"/content/log_mel_OpenMIC/\"\n",
        "for file in files:\n",
        "  scale, sampling_rate = librosa.load(file)\n",
        "  # filter_banks = librosa.filters.mel(n_fft=2048, sr=22050, n_mels=10)\n",
        "  mel_spectrogram = librosa.feature.melspectrogram(scale, sr=sampling_rate, n_fft=2048, hop_length=512, n_mels=10)\n",
        "  log_mel_spectrogram = librosa.power_to_db(mel_spectrogram)\n",
        "  # print(log_mel_spectrogram.shape)\n",
        "  # print(type(log_mel_spectrogram))\n",
        "  np.save((save_path + file.split('/')[-1]).replace(\".ogg\",''), log_mel_spectrogram)\n",
        "  # CURRENTLY saves with just filename without the 000 folder structure as the\n",
        "  # first 3 numbers of filename indicate the folder anyw\n",
        "\n",
        "\n",
        "  "
      ],
      "metadata": {
        "id": "VVkYZOi6jfTy"
      },
      "execution_count": null,
      "outputs": []
    },
    {
      "cell_type": "code",
      "source": [],
      "metadata": {
        "colab": {
          "base_uri": "https://localhost:8080/"
        },
        "id": "26HUCQzC3h-X",
        "outputId": "fb47e58f-11a0-4f40-d802-472769a6b7b5"
      },
      "execution_count": null,
      "outputs": [
        {
          "output_type": "stream",
          "name": "stdout",
          "text": [
            "/content\n"
          ]
        }
      ]
    },
    {
      "cell_type": "code",
      "source": [
        "# For plotting\n",
        "plt.figure(figsize=(25, 10))\n",
        "librosa.display.specshow(log_mel_spectrogram, \n",
        "                         x_axis=\"time\",\n",
        "                         y_axis=\"mel\", \n",
        "                         sr=sampling_rate)\n",
        "plt.colorbar(format=\"%+2.f\")\n",
        "plt.show()\n"
      ],
      "metadata": {
        "colab": {
          "base_uri": "https://localhost:8080/",
          "height": 303
        },
        "id": "cHoolKbmyl-D",
        "outputId": "e514d2ee-bd8d-44f2-edd2-7222005c790b"
      },
      "execution_count": null,
      "outputs": [
        {
          "output_type": "display_data",
          "data": {
            "text/plain": [
              "<Figure size 1800x720 with 2 Axes>"
            ],
            "image/png": "[encoded data removed]"
          },
          "metadata": {
            "needs_background": "light"
          }
        }
      ]
    },
    {
      "cell_type": "markdown",
      "source": [
        "#Convert to gammatone\n"
      ],
      "metadata": {
        "id": "FH8645oV87cO"
      }
    },
    {
      "cell_type": "code",
      "source": [
        "!pip install git+https://github.com/detly/gammatone.git\n"
      ],
      "metadata": {
        "colab": {
          "base_uri": "https://localhost:8080/"
        },
        "id": "VmWAbG5Y0MR7",
        "outputId": "cc67c4e7-935e-4bf3-dd39-47c9b478abdd"
      },
      "execution_count": null,
      "outputs": [
        {
          "output_type": "stream",
          "name": "stdout",
          "text": [
            "Looking in indexes: https://pypi.org/simple, https://us-python.pkg.dev/colab-wheels/public/simple/\n",
            "Collecting git+https://github.com/detly/gammatone.git\n",
            "  Cloning https://github.com/detly/gammatone.git to /tmp/pip-req-build-s45bvlau\n",
            "  Running command git clone -q https://github.com/detly/gammatone.git /tmp/pip-req-build-s45bvlau\n",
            "Requirement already satisfied: numpy in /usr/local/lib/python3.7/dist-packages (from Gammatone==1.0) (1.21.6)\n",
            "Requirement already satisfied: scipy in /usr/local/lib/python3.7/dist-packages (from Gammatone==1.0) (1.7.3)\n",
            "Collecting nose\n",
            "  Downloading nose-1.3.7-py3-none-any.whl (154 kB)\n",
            "\u001b[K     |████████████████████████████████| 154 kB 32.5 MB/s \n",
            "\u001b[?25hCollecting mock\n",
            "  Downloading mock-4.0.3-py3-none-any.whl (28 kB)\n",
            "Requirement already satisfied: matplotlib in /usr/local/lib/python3.7/dist-packages (from Gammatone==1.0) (3.2.2)\n",
            "Requirement already satisfied: kiwisolver>=1.0.1 in /usr/local/lib/python3.7/dist-packages (from matplotlib->Gammatone==1.0) (1.4.4)\n",
            "Requirement already satisfied: pyparsing!=2.0.4,!=2.1.2,!=2.1.6,>=2.0.1 in /usr/local/lib/python3.7/dist-packages (from matplotlib->Gammatone==1.0) (3.0.9)\n",
            "Requirement already satisfied: python-dateutil>=2.1 in /usr/local/lib/python3.7/dist-packages (from matplotlib->Gammatone==1.0) (2.8.2)\n",
            "Requirement already satisfied: cycler>=0.10 in /usr/local/lib/python3.7/dist-packages (from matplotlib->Gammatone==1.0) (0.11.0)\n",
            "Requirement already satisfied: typing-extensions in /usr/local/lib/python3.7/dist-packages (from kiwisolver>=1.0.1->matplotlib->Gammatone==1.0) (4.1.1)\n",
            "Requirement already satisfied: six>=1.5 in /usr/local/lib/python3.7/dist-packages (from python-dateutil>=2.1->matplotlib->Gammatone==1.0) (1.15.0)\n",
            "Building wheels for collected packages: Gammatone\n",
            "  Building wheel for Gammatone (setup.py) ... \u001b[?25l\u001b[?25hdone\n",
            "  Created wheel for Gammatone: filename=Gammatone-1.0-py3-none-any.whl size=21795 sha256=92b59f197ac27303a9a58b198778a0fe9ab152bfbaa5a8527ceb342cce12c823\n",
            "  Stored in directory: /tmp/pip-ephem-wheel-cache-bq31qtb2/wheels/07/b9/a7/356576d1172ea99bf71c5f5502bb20e951769a34b4e86fe6cc\n",
            "Successfully built Gammatone\n",
            "Installing collected packages: nose, mock, Gammatone\n",
            "Successfully installed Gammatone-1.0 mock-4.0.3 nose-1.3.7\n"
          ]
        }
      ]
    },
    {
      "cell_type": "code",
      "source": [
        "!gammatone /content/000046_3840.wav -d 10"
      ],
      "metadata": {
        "colab": {
          "base_uri": "https://localhost:8080/"
        },
        "id": "a5FbnOc2At6y",
        "outputId": "29f2e223-45bb-43a9-c926-387c0fb55a20"
      },
      "execution_count": null,
      "outputs": [
        {
          "output_type": "stream",
          "name": "stdout",
          "text": [
            "Figure(640x480)\n"
          ]
        }
      ]
    },
    {
      "cell_type": "code",
      "source": [
        "import scipy.io.wavfile\n",
        "samplerate, data = scipy.io.wavfile.read('/content/000046_3840.wav')\n",
        "print(data)"
      ],
      "metadata": {
        "colab": {
          "base_uri": "https://localhost:8080/"
        },
        "id": "ESXJkbIbBSAJ",
        "outputId": "c7b5358f-b42f-4d42-ea65-f8e69e9a0982"
      },
      "execution_count": null,
      "outputs": [
        {
          "output_type": "stream",
          "name": "stdout",
          "text": [
            "[[    0     0]\n",
            " [    0     0]\n",
            " [    0     0]\n",
            " ...\n",
            " [-3068 -7416]\n",
            " [-3294 -7726]\n",
            " [-3015 -7698]]\n"
          ]
        }
      ]
    },
    {
      "cell_type": "code",
      "source": [
        "scale, sampling_rate = librosa.load('/content/openmic-2018/audio/000/000046_3840.ogg')\n",
        "print(scale)"
      ],
      "metadata": {
        "colab": {
          "base_uri": "https://localhost:8080/"
        },
        "id": "yNd87rxTCHfn",
        "outputId": "4ea6fa88-f786-4688-919e-60fb11b353c8"
      },
      "execution_count": null,
      "outputs": [
        {
          "output_type": "stream",
          "name": "stdout",
          "text": [
            "[ 0.          0.          0.         ... -0.15737659 -0.15117157\n",
            " -0.1723783 ]\n"
          ]
        }
      ]
    },
    {
      "cell_type": "markdown",
      "source": [],
      "metadata": {
        "id": "1Y9RZngvDgLM"
      }
    },
    {
      "cell_type": "code",
      "source": [],
      "metadata": {
        "id": "x541dgg3yXgn"
      },
      "execution_count": null,
      "outputs": []
    }
  ]
}