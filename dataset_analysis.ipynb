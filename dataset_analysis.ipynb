{
 "cells": [
  {
   "cell_type": "code",
   "execution_count": 3,
   "id": "ec339b8c-6ea3-4550-aea6-2dc7c012529e",
   "metadata": {},
   "outputs": [],
   "source": [
    "import json\n",
    "import os\n",
    "import numpy as np\n",
    "#!pip install pandas\n",
    "import pandas as pd\n",
    "import tensorflow as tf"
   ]
  },
  {
   "cell_type": "code",
   "execution_count": 3,
   "id": "0746009b-cd28-493e-99a0-a9f63907fd12",
   "metadata": {},
   "outputs": [
    {
     "name": "stdout",
     "output_type": "stream",
     "text": [
      "(20000, 10, 128) (20000, 20) (20000, 20) (20000,)\n"
     ]
    }
   ],
   "source": [
    "data = np.load(\"/home/studio-lab-user/sagemaker-studiolab-notebooks/openmic-2018/openmic-2018.npz\", allow_pickle = True)\n",
    "X, Y_true, Y_mask, sample_key = data['X'], data['Y_true'], data['Y_mask'], data['sample_key']\n",
    "print(X.shape, Y_true.shape, Y_mask.shape, sample_key.shape)"
   ]
  },
  {
   "cell_type": "code",
   "execution_count": 4,
   "id": "ef313b2a-d445-4274-aad4-6fe1ef09f28c",
   "metadata": {},
   "outputs": [
    {
     "name": "stdout",
     "output_type": "stream",
     "text": [
      "[0.5     0.5     0.5     0.5     0.17105 0.5     0.5     0.      0.5\n",
      " 0.5     0.5     0.5     0.5     0.5     0.5     0.5     0.      0.5\n",
      " 0.5     0.5    ]\n",
      "[0 0 0 0 0 0 0 0 0 0 0 0 0 0 0 0 0 0 0 0]\n"
     ]
    }
   ],
   "source": [
    "print(Y_true[0])\n",
    "Y_true_binary = np.where(Y_true > 0.5, 1, 0)\n",
    "print(Y_true_binary[0])"
   ]
  },
  {
   "cell_type": "code",
   "execution_count": 11,
   "id": "09975239-d075-4c00-a99d-f61dc449005f",
   "metadata": {},
   "outputs": [
    {
     "name": "stdout",
     "output_type": "stream",
     "text": [
      "20000\n"
     ]
    }
   ],
   "source": [
    "n_zeros = np.count_nonzero(Y_true_binary==0, axis=1)\n",
    "print(len(n_zeros))"
   ]
  },
  {
   "cell_type": "code",
   "execution_count": 12,
   "id": "e01e9400-3fc4-4b42-b8fa-53aef7e4ca47",
   "metadata": {},
   "outputs": [
    {
     "data": {
      "text/plain": [
       "382386"
      ]
     },
     "execution_count": 12,
     "metadata": {},
     "output_type": "execute_result"
    }
   ],
   "source": [
    "sum(n_zeros)"
   ]
  },
  {
   "cell_type": "code",
   "execution_count": 10,
   "id": "a8647750-8ce0-4519-a48d-db2bb5aaddea",
   "metadata": {},
   "outputs": [
    {
     "name": "stdout",
     "output_type": "stream",
     "text": [
      "382386\n"
     ]
    }
   ],
   "source": [
    "n_zeros_all = np.count_nonzero(Y_true_binary==0)\n",
    "print(n_zeros_all)"
   ]
  },
  {
   "cell_type": "code",
   "execution_count": 15,
   "id": "f368438e-de63-447c-bd1a-35af88c88027",
   "metadata": {},
   "outputs": [
    {
     "name": "stdout",
     "output_type": "stream",
     "text": [
      "0.955965\n"
     ]
    }
   ],
   "source": [
    "ratio_of_zeros = n_zeros_all/(20000*20)\n",
    "print(ratio_of_zeros)"
   ]
  },
  {
   "cell_type": "code",
   "execution_count": 16,
   "id": "d8082c79-73c6-4e11-bd78-3fd0c34465a3",
   "metadata": {},
   "outputs": [
    {
     "name": "stdout",
     "output_type": "stream",
     "text": [
      "41268\n"
     ]
    }
   ],
   "source": [
    "n_true = np.count_nonzero(Y_mask!=0)\n",
    "print(n_true)"
   ]
  },
  {
   "cell_type": "code",
   "execution_count": 18,
   "id": "a14812aa-2608-47e9-ba79-6c308b5f4e82",
   "metadata": {},
   "outputs": [
    {
     "data": {
      "text/plain": [
       "2.0634"
      ]
     },
     "execution_count": 18,
     "metadata": {},
     "output_type": "execute_result"
    }
   ],
   "source": [
    "n_true/20000"
   ]
  },
  {
   "cell_type": "code",
   "execution_count": 5,
   "id": "7752f3d4-9126-44fa-842d-ddecf95a3698",
   "metadata": {},
   "outputs": [],
   "source": [
    "responses = np.genfromtxt('/home/studio-lab-user/sagemaker-studiolab-notebooks/openmic-2018/openmic-2018-aggregated-labels.csv', delimiter=',')"
   ]
  },
  {
   "cell_type": "code",
   "execution_count": 6,
   "id": "b636466d-a1a0-4ea3-9efd-41f4c9126a66",
   "metadata": {},
   "outputs": [],
   "source": [
    "responses = responses[1:]"
   ]
  },
  {
   "cell_type": "code",
   "execution_count": 7,
   "id": "608a69e1-ee89-473f-9f02-fd9eb1b23917",
   "metadata": {},
   "outputs": [
    {
     "data": {
      "text/plain": [
       "array([[4.63840000e+05,            nan, 1.71050000e-01, 3.00000000e+00],\n",
       "       [4.63840000e+05,            nan, 0.00000000e+00, 3.00000000e+00],\n",
       "       [4.63840000e+05,            nan, 0.00000000e+00, 3.00000000e+00],\n",
       "       ...,\n",
       "       [1.55311453e+11,            nan, 1.00000000e+00, 3.00000000e+00],\n",
       "       [1.55311453e+11,            nan, 8.26050000e-01, 3.00000000e+00],\n",
       "       [1.55311453e+11,            nan, 1.00000000e+00, 3.00000000e+00]])"
      ]
     },
     "execution_count": 7,
     "metadata": {},
     "output_type": "execute_result"
    }
   ],
   "source": [
    "responses"
   ]
  },
  {
   "cell_type": "code",
   "execution_count": 8,
   "id": "be17ba36-b1ca-4181-aca7-4b67169a0e61",
   "metadata": {},
   "outputs": [],
   "source": [
    "ave_res = np.mean(responses, axis = 0)"
   ]
  },
  {
   "cell_type": "code",
   "execution_count": 9,
   "id": "423235a5-fca4-4eef-8b3f-135e57fb79fd",
   "metadata": {},
   "outputs": [
    {
     "name": "stdout",
     "output_type": "stream",
     "text": [
      "5.632590167092021\n"
     ]
    }
   ],
   "source": [
    "print(ave_res[-1])"
   ]
  },
  {
   "cell_type": "code",
   "execution_count": null,
   "id": "6485d41b-fbab-4619-916b-d92626eb3bff",
   "metadata": {},
   "outputs": [],
   "source": []
  }
 ],
 "metadata": {
  "kernelspec": {
   "display_name": "default:Python",
   "language": "python",
   "name": "conda-env-default-py"
  },
  "language_info": {
   "codemirror_mode": {
    "name": "ipython",
    "version": 3
   },
   "file_extension": ".py",
   "mimetype": "text/x-python",
   "name": "python",
   "nbconvert_exporter": "python",
   "pygments_lexer": "ipython3",
   "version": "3.9.13"
  }
 },
 "nbformat": 4,
 "nbformat_minor": 5
}
