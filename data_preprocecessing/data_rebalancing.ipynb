{
 "cells": [
  {
   "cell_type": "markdown",
   "id": "2b7adbe2-ad86-442d-83e6-d0817fea0b47",
   "metadata": {},
   "source": [
    "# Create weights for each sample, based on the instrument distribution in the dataset\n",
    "\n",
    "Data pipeline: \n",
    "\n",
    "Questions\n",
    "1. train and test splits are provided. should we balance the entire dataset and rechoose train and test (may disturb the pre-trained stuff) or we balance within train and test separately?\n",
    "- If pytorch, using a sampler is better. Allows per epoch random sampling according to the weights. But not sure if they can handle multi label multi instance problem?\n",
    "2. should cutmix be done as a part of balancing? other option being do when loading in data.\n",
    "3. should cutmix be used even? other augmentation techniques? no augmentation needed really?\n",
    "\n"
   ]
  },
  {
   "cell_type": "code",
   "execution_count": 2,
   "id": "4271ab65-fc26-443c-983a-d79986d0df89",
   "metadata": {},
   "outputs": [
    {
     "name": "stdout",
     "output_type": "stream",
     "text": [
      "/home/studio-lab-user/sagemaker-studiolab-notebooks/ESP3201-Instrument-indentification/openmic-2018\n"
     ]
    }
   ],
   "source": [
    "%cd openmic-2018/"
   ]
  },
  {
   "cell_type": "code",
   "execution_count": 3,
   "id": "a7c104c4-fe03-4166-a07f-659ebbf94c16",
   "metadata": {},
   "outputs": [
    {
     "name": "stdout",
     "output_type": "stream",
     "text": [
      "Requirement already satisfied: pandas in /home/studio-lab-user/.conda/envs/default/lib/python3.9/site-packages (1.5.1)\n",
      "Requirement already satisfied: python-dateutil>=2.8.1 in /home/studio-lab-user/.conda/envs/default/lib/python3.9/site-packages (from pandas) (2.8.2)\n",
      "Requirement already satisfied: pytz>=2020.1 in /home/studio-lab-user/.conda/envs/default/lib/python3.9/site-packages (from pandas) (2022.5)\n",
      "Requirement already satisfied: numpy>=1.20.3 in /home/studio-lab-user/.conda/envs/default/lib/python3.9/site-packages (from pandas) (1.23.4)\n",
      "Requirement already satisfied: six>=1.5 in /home/studio-lab-user/.conda/envs/default/lib/python3.9/site-packages (from python-dateutil>=2.8.1->pandas) (1.16.0)\n"
     ]
    }
   ],
   "source": [
    "import json\n",
    "import os\n",
    "import numpy as np\n",
    "!pip install pandas\n",
    "import pandas as pd"
   ]
  },
  {
   "cell_type": "code",
   "execution_count": 4,
   "id": "8e2157a1-4534-4edd-bb41-cefe4c2fcb0d",
   "metadata": {},
   "outputs": [
    {
     "name": "stdout",
     "output_type": "stream",
     "text": [
      "(20000, 10, 128) (20000, 20) (20000, 20) (20000,)\n"
     ]
    }
   ],
   "source": [
    "data = np.load(\"openmic-2018.npz\", allow_pickle = True)\n",
    "X, Y_true, Y_mask, sample_key = data['X'], data['Y_true'], data['Y_mask'], data['sample_key']\n",
    "print(X.shape, Y_true.shape, Y_mask.shape, sample_key.shape)"
   ]
  },
  {
   "cell_type": "markdown",
   "id": "b3b053fb-fff8-4f06-aa2c-fe40f274b7db",
   "metadata": {
    "tags": []
   },
   "source": [
    "## What's included in the data?\n",
    "- X: 20000 10 128 array of VGGish features\n",
    "    - First index (0..19999) corresponds to the sample key\n",
    "    - Second index (0..9) corresponds to the time within the clip (each time slice is 960 ms long)\n",
    "    - Third index (0..127) corresponds to the VGGish features at each point in the 10sec clip\n",
    "    - Example X[40, 8] is the 128-dimensional feature vector for the 9th time slice in the 41st example\n",
    "- Y_true: 20000 20 array of true* label probabilities\n",
    "    - First index corresponds to sample key, as above\n",
    "    - Second index corresponds to the label class (accordion, ..., voice)\n",
    "    - Example: Y[40, 4] indicates the confidence that example #41 contains the 5th instrument\n",
    "- Y_mask: 20000 * 20 binary mask values (not sure what this is)\n",
    "    - First index corresponds to sample key\n",
    "    - Second index corresponds to the label class\n",
    "    - Example: Y[40, 4] indicates *whether or not we have observations* for the 5th instrument for example #41\n",
    "- sample_key: 20000 array of sample key strings\n",
    "    - Example: sample_key[40] is the sample key for example #41\n"
   ]
  },
  {
   "cell_type": "code",
   "execution_count": 5,
   "id": "91b7d042-1c42-4bd2-8a48-416285f00d7e",
   "metadata": {},
   "outputs": [
    {
     "name": "stdout",
     "output_type": "stream",
     "text": [
      "(14915,)\n",
      "(5085,)\n",
      "(14915,)\n",
      "(5085,)\n"
     ]
    }
   ],
   "source": [
    "# PROLLY DONT NEED THIS\n",
    "# Load training split csv file\n",
    "with open(\"partitions/split01_train.csv\") as f:\n",
    "    train_IDs = f.readlines()\n",
    "    train_IDs = np.array([ID.strip() for ID in train_IDs])\n",
    "print(train_IDs.shape)\n",
    "\n",
    "# Load test split csv file\n",
    "with open(\"partitions/split01_test.csv\") as f:\n",
    "    test_IDs = f.readlines()\n",
    "    test_IDs = np.array([ID.strip() for ID in test_IDs])\n",
    "print(test_IDs.shape)\n",
    "\n",
    "# Get the training and testing split data into np arrays\n",
    "# Creates an array, which contains the index of the sample in data.  \n",
    "train_index = np.array([i for i in range(20000) if sample_key[i] in train_IDs])\n",
    "test_index = np.array([i for i in range(20000) if sample_key[i] in test_IDs])\n",
    "\n",
    "print(train_index.shape)\n",
    "print(test_index.shape)"
   ]
  },
  {
   "cell_type": "code",
   "execution_count": null,
   "id": "035d0a10-cbf1-42c1-b8f3-08c7f833b913",
   "metadata": {},
   "outputs": [],
   "source": []
  },
  {
   "cell_type": "code",
   "execution_count": 6,
   "id": "83fd4245-a2c2-4e1d-b594-1d07b74e0e41",
   "metadata": {},
   "outputs": [
    {
     "name": "stdout",
     "output_type": "stream",
     "text": [
      "{'accordion': 0, 'banjo': 1, 'bass': 2, 'cello': 3, 'clarinet': 4, 'cymbals': 5, 'drums': 6, 'flute': 7, 'guitar': 8, 'mallet_percussion': 9, 'mandolin': 10, 'organ': 11, 'piano': 12, 'saxophone': 13, 'synthesizer': 14, 'trombone': 15, 'trumpet': 16, 'ukulele': 17, 'violin': 18, 'voice': 19}\n"
     ]
    }
   ],
   "source": [
    "with open('class-map.json', 'r') as f:\n",
    "    class_map = json.load(f)\n",
    "print(class_map)"
   ]
  },
  {
   "cell_type": "code",
   "execution_count": 9,
   "id": "42716c29-e14b-40c4-8de4-4ff32c84f48a",
   "metadata": {
    "scrolled": true,
    "tags": []
   },
   "outputs": [
    {
     "name": "stdout",
     "output_type": "stream",
     "text": [
      "{0: 489, 1: 732, 2: 549, 3: 824, 4: 533, 5: 1111, 6: 1106, 7: 647, 8: 1138, 9: 733, 10: 845, 11: 603, 12: 1170, 13: 1135, 14: 1091, 15: 863, 16: 1146, 17: 738, 18: 1173, 19: 988}\n",
      "0.024660382028429725\n"
     ]
    }
   ],
   "source": [
    "# distribution of classes in the dataset \n",
    "def get_label(Y_true, idx, inst):\n",
    "    label = Y_true[idx, inst]\n",
    "    label = label > 0.5\n",
    "    return label\n",
    "indices = list(range(0,20000))\n",
    "inst_freq = {}\n",
    "#inefficient but since one time, dont care\n",
    "for inst in list(class_map.values()):\n",
    "    label_to_count = {}\n",
    "    # print(inst)\n",
    "    for idx in indices:\n",
    "        # print(idx)\n",
    "        label = get_label(Y_true, idx, inst)\n",
    "        if label in label_to_count:\n",
    "            label_to_count[label] += 1\n",
    "        else:\n",
    "            label_to_count[label] = 1\n",
    "    # print(label_to_count)\n",
    "    inst_freq[inst] = label_to_count[True]\n",
    "\n",
    "print(inst_freq)    \n",
    "weights = [1.0 / i for i in list(inst_freq.values())] \n",
    "print(weights)\n",
    "    # weight for each sample\n",
    "    # weights = [1.0 / label_to_count[get_label(data, idx, inst)] for idx in indices]\n",
    "    # weights = torch.DoubleTensor(weights)\n",
    "    # print(weights)\n",
    "\n",
    "# def __iter__(self):\n",
    "#     return (self.indices[i] for i in torch.multinomial(\n",
    "#         self.weights, self.num_samples, replacement=True))\n",
    "\n",
    "# def __len__(self):\n",
    "#     return self.num_samples"
   ]
  },
  {
   "cell_type": "code",
   "execution_count": null,
   "id": "42af8ad1-b2c5-4990-8d5c-f88d3ed1e937",
   "metadata": {},
   "outputs": [
    {
     "name": "stdout",
     "output_type": "stream",
     "text": [
      "[False False False False False False False False False False False False\n",
      " False  True False False  True False False  True]\n"
     ]
    }
   ],
   "source": [
    "print(Y_mask[1])\n"
   ]
  },
  {
   "cell_type": "code",
   "execution_count": 28,
   "id": "c0c76f7d-cfe5-4412-b9d3-4a2fbca3234e",
   "metadata": {},
   "outputs": [
    {
     "name": "stdout",
     "output_type": "stream",
     "text": [
      "[0.5     0.5     0.5     0.5     0.5     0.5     0.5     0.5     0.5\n",
      " 0.5     0.5     0.5     0.5     0.14705 0.5     0.5     0.      0.5\n",
      " 0.5     1.     ]\n"
     ]
    }
   ],
   "source": [
    "print(Y_true[1])\n"
   ]
  },
  {
   "cell_type": "code",
   "execution_count": null,
   "id": "4e908f1a-4c87-47d6-8ce5-f82074f7c322",
   "metadata": {},
   "outputs": [],
   "source": []
  }
 ],
 "metadata": {
  "kernelspec": {
   "display_name": "default:Python",
   "language": "python",
   "name": "conda-env-default-py"
  },
  "language_info": {
   "codemirror_mode": {
    "name": "ipython",
    "version": 3
   },
   "file_extension": ".py",
   "mimetype": "text/x-python",
   "name": "python",
   "nbconvert_exporter": "python",
   "pygments_lexer": "ipython3",
   "version": "3.9.13"
  }
 },
 "nbformat": 4,
 "nbformat_minor": 5
}
