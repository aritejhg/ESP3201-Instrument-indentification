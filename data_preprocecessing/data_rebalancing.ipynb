{
 "cells": [
  {
   "cell_type": "markdown",
   "id": "2b7adbe2-ad86-442d-83e6-d0817fea0b47",
   "metadata": {},
   "source": [
    "# Create weights for each sample, based on the instrument distribution in the dataset\n",
    "\n",
    "Data pipeline: \n",
    "\n",
    "Questions\n",
    "1. train and test splits are provided. should we balance the entire dataset and rechoose train and test (may disturb the pre-trained stuff) or we balance within train and test separately?\n",
    "- If pytorch, using a sampler is better. Allows per epoch random sampling according to the weights. But not sure if they can handle multi label multi instance problem?\n",
    "2. should cutmix be done as a part of balancing? other option being do when loading in data.\n",
    "3. should cutmix be used even? other augmentation techniques? no augmentation needed really?\n",
    "\n"
   ]
  },
  {
   "cell_type": "code",
   "execution_count": 30,
   "id": "4271ab65-fc26-443c-983a-d79986d0df89",
   "metadata": {},
   "outputs": [
    {
     "name": "stdout",
     "output_type": "stream",
     "text": [
      "[Errno 2] No such file or directory: 'openmic-2018/'\n",
      "/home/studio-lab-user/sagemaker-studiolab-notebooks/ESP3201-Instrument-indentification/openmic-2018\n"
     ]
    }
   ],
   "source": [
    "%cd openmic-2018/"
   ]
  },
  {
   "cell_type": "code",
   "execution_count": 22,
   "id": "a7c104c4-fe03-4166-a07f-659ebbf94c16",
   "metadata": {},
   "outputs": [
    {
     "name": "stdout",
     "output_type": "stream",
     "text": [
      "Collecting pandas\n",
      "  Downloading pandas-1.5.1-cp39-cp39-manylinux_2_17_x86_64.manylinux2014_x86_64.whl (12.2 MB)\n",
      "\u001b[K     |████████████████████████████████| 12.2 MB 3.0 MB/s eta 0:00:01\n",
      "\u001b[?25hRequirement already satisfied: numpy>=1.20.3 in /home/studio-lab-user/.conda/envs/default/lib/python3.9/site-packages (from pandas) (1.23.4)\n",
      "Requirement already satisfied: python-dateutil>=2.8.1 in /home/studio-lab-user/.conda/envs/default/lib/python3.9/site-packages (from pandas) (2.8.2)\n",
      "Collecting pytz>=2020.1\n",
      "  Downloading pytz-2022.5-py2.py3-none-any.whl (500 kB)\n",
      "\u001b[K     |████████████████████████████████| 500 kB 9.7 MB/s eta 0:00:01\n",
      "\u001b[?25hRequirement already satisfied: six>=1.5 in /home/studio-lab-user/.conda/envs/default/lib/python3.9/site-packages (from python-dateutil>=2.8.1->pandas) (1.16.0)\n",
      "Installing collected packages: pytz, pandas\n",
      "Successfully installed pandas-1.5.1 pytz-2022.5\n"
     ]
    }
   ],
   "source": [
    "import json\n",
    "import os\n",
    "import numpy as np\n",
    "!pip install pandas\n",
    "import pandas as pd"
   ]
  },
  {
   "cell_type": "code",
   "execution_count": 19,
   "id": "8e2157a1-4534-4edd-bb41-cefe4c2fcb0d",
   "metadata": {},
   "outputs": [
    {
     "name": "stdout",
     "output_type": "stream",
     "text": [
      "(20000, 10, 128) (20000, 20) (20000, 20) (20000,)\n"
     ]
    }
   ],
   "source": [
    "data = np.load(\"openmic-2018.npz\", allow_pickle = True)\n",
    "X, Y_true, Y_mask, sample_key = data['X'], data['Y_true'], data['Y_mask'], data['sample_key']\n",
    "print(X.shape, Y_true.shape, Y_mask.shape, sample_key.shape)"
   ]
  },
  {
   "cell_type": "markdown",
   "id": "b3b053fb-fff8-4f06-aa2c-fe40f274b7db",
   "metadata": {
    "tags": []
   },
   "source": [
    "## What's included in the data?\n",
    "- X: 20000 10 128 array of VGGish features\n",
    "    - First index (0..19999) corresponds to the sample key\n",
    "    - Second index (0..9) corresponds to the time within the clip (each time slice is 960 ms long)\n",
    "    - Third index (0..127) corresponds to the VGGish features at each point in the 10sec clip\n",
    "    - Example X[40, 8] is the 128-dimensional feature vector for the 9th time slice in the 41st example\n",
    "- Y_true: 20000 20 array of true* label probabilities\n",
    "    - First index corresponds to sample key, as above\n",
    "    - Second index corresponds to the label class (accordion, ..., voice)\n",
    "    - Example: Y[40, 4] indicates the confidence that example #41 contains the 5th instrument\n",
    "- Y_mask: 20000 * 20 binary mask values (not sure what this is)\n",
    "    - First index corresponds to sample key\n",
    "    - Second index corresponds to the label class\n",
    "    - Example: Y[40, 4] indicates *whether or not we have observations* for the 5th instrument for example #41\n",
    "- sample_key: 20000 array of sample key strings\n",
    "    - Example: sample_key[40] is the sample key for example #41\n"
   ]
  },
  {
   "cell_type": "code",
   "execution_count": 43,
   "id": "91b7d042-1c42-4bd2-8a48-416285f00d7e",
   "metadata": {},
   "outputs": [
    {
     "name": "stdout",
     "output_type": "stream",
     "text": [
      "(14915,)\n",
      "(5085,)\n",
      "(14915,)\n",
      "(5085,)\n"
     ]
    }
   ],
   "source": [
    "# PROLLY DONT NEED THIS\n",
    "# Load training split csv file\n",
    "with open(\"partitions/split01_train.csv\") as f:\n",
    "    train_IDs = f.readlines()\n",
    "    train_IDs = np.array([ID.strip() for ID in train_IDs])\n",
    "print(train_IDs.shape)\n",
    "\n",
    "# Load test split csv file\n",
    "with open(\"partitions/split01_test.csv\") as f:\n",
    "    test_IDs = f.readlines()\n",
    "    test_IDs = np.array([ID.strip() for ID in test_IDs])\n",
    "print(test_IDs.shape)\n",
    "\n",
    "# Get the training and testing split data into np arrays\n",
    "# Creates an array, which contains the index of the sample in data.  \n",
    "train_index = np.array([i for i in range(20000) if sample_key[i] in train_IDs])\n",
    "test_index = np.array([i for i in range(20000) if sample_key[i] in test_IDs])\n",
    "\n",
    "print(train_index.shape)\n",
    "print(test_index.shape)"
   ]
  },
  {
   "cell_type": "code",
   "execution_count": null,
   "id": "035d0a10-cbf1-42c1-b8f3-08c7f833b913",
   "metadata": {},
   "outputs": [],
   "source": []
  },
  {
   "cell_type": "code",
   "execution_count": 24,
   "id": "83fd4245-a2c2-4e1d-b594-1d07b74e0e41",
   "metadata": {},
   "outputs": [
    {
     "name": "stdout",
     "output_type": "stream",
     "text": [
      "{'accordion': 0, 'banjo': 1, 'bass': 2, 'cello': 3, 'clarinet': 4, 'cymbals': 5, 'drums': 6, 'flute': 7, 'guitar': 8, 'mallet_percussion': 9, 'mandolin': 10, 'organ': 11, 'piano': 12, 'saxophone': 13, 'synthesizer': 14, 'trombone': 15, 'trumpet': 16, 'ukulele': 17, 'violin': 18, 'voice': 19}\n"
     ]
    }
   ],
   "source": [
    "with open('class-map.json', 'r') as f:\n",
    "    class_map = json.load(f)\n",
    "print(class_map)"
   ]
  },
  {
   "cell_type": "code",
   "execution_count": 52,
   "id": "42716c29-e14b-40c4-8de4-4ff32c84f48a",
   "metadata": {},
   "outputs": [
    {
     "name": "stdout",
     "output_type": "stream",
     "text": [
      "{False: 19511, True: 489}\n"
     ]
    },
    {
     "ename": "TypeError",
     "evalue": "not all arguments converted during string formatting",
     "output_type": "error",
     "traceback": [
      "\u001b[0;31m---------------------------------------------------------------------------\u001b[0m",
      "\u001b[0;31mTypeError\u001b[0m                                 Traceback (most recent call last)",
      "\u001b[0;32m/tmp/ipykernel_3337/1253725137.py\u001b[0m in \u001b[0;36m<cell line: 8>\u001b[0;34m()\u001b[0m\n\u001b[1;32m     16\u001b[0m \u001b[0;34m\u001b[0m\u001b[0m\n\u001b[1;32m     17\u001b[0m     \u001b[0;31m# weight for each sample\u001b[0m\u001b[0;34m\u001b[0m\u001b[0;34m\u001b[0m\u001b[0m\n\u001b[0;32m---> 18\u001b[0;31m     weights = [1.0 / label_to_count[get_label(data, idx, inst)]\n\u001b[0m\u001b[1;32m     19\u001b[0m                for idx in indices]\n\u001b[1;32m     20\u001b[0m     \u001b[0;31m# weights = torch.DoubleTensor(weights)\u001b[0m\u001b[0;34m\u001b[0m\u001b[0;34m\u001b[0m\u001b[0m\n",
      "\u001b[0;32m/tmp/ipykernel_3337/1253725137.py\u001b[0m in \u001b[0;36m<listcomp>\u001b[0;34m(.0)\u001b[0m\n\u001b[1;32m     16\u001b[0m \u001b[0;34m\u001b[0m\u001b[0m\n\u001b[1;32m     17\u001b[0m     \u001b[0;31m# weight for each sample\u001b[0m\u001b[0;34m\u001b[0m\u001b[0;34m\u001b[0m\u001b[0m\n\u001b[0;32m---> 18\u001b[0;31m     weights = [1.0 / label_to_count[get_label(data, idx, inst)]\n\u001b[0m\u001b[1;32m     19\u001b[0m                for idx in indices]\n\u001b[1;32m     20\u001b[0m     \u001b[0;31m# weights = torch.DoubleTensor(weights)\u001b[0m\u001b[0;34m\u001b[0m\u001b[0;34m\u001b[0m\u001b[0m\n",
      "\u001b[0;32m/tmp/ipykernel_3337/1253725137.py\u001b[0m in \u001b[0;36mget_label\u001b[0;34m(Y_true, idx, inst)\u001b[0m\n\u001b[1;32m      2\u001b[0m \u001b[0mlabel_to_count\u001b[0m \u001b[0;34m=\u001b[0m \u001b[0;34m{\u001b[0m\u001b[0;34m}\u001b[0m\u001b[0;34m\u001b[0m\u001b[0;34m\u001b[0m\u001b[0m\n\u001b[1;32m      3\u001b[0m \u001b[0;32mdef\u001b[0m \u001b[0mget_label\u001b[0m\u001b[0;34m(\u001b[0m\u001b[0mY_true\u001b[0m\u001b[0;34m,\u001b[0m \u001b[0midx\u001b[0m\u001b[0;34m,\u001b[0m \u001b[0minst\u001b[0m\u001b[0;34m)\u001b[0m\u001b[0;34m:\u001b[0m\u001b[0;34m\u001b[0m\u001b[0;34m\u001b[0m\u001b[0m\n\u001b[0;32m----> 4\u001b[0;31m     \u001b[0mlabel\u001b[0m \u001b[0;34m=\u001b[0m \u001b[0mY_true\u001b[0m\u001b[0;34m[\u001b[0m\u001b[0midx\u001b[0m\u001b[0;34m,\u001b[0m \u001b[0minst\u001b[0m\u001b[0;34m]\u001b[0m\u001b[0;34m\u001b[0m\u001b[0;34m\u001b[0m\u001b[0m\n\u001b[0m\u001b[1;32m      5\u001b[0m     \u001b[0mlabel\u001b[0m \u001b[0;34m=\u001b[0m \u001b[0mlabel\u001b[0m \u001b[0;34m>\u001b[0m \u001b[0;36m0.5\u001b[0m\u001b[0;34m\u001b[0m\u001b[0;34m\u001b[0m\u001b[0m\n\u001b[1;32m      6\u001b[0m     \u001b[0;32mreturn\u001b[0m \u001b[0mlabel\u001b[0m\u001b[0;34m\u001b[0m\u001b[0;34m\u001b[0m\u001b[0m\n",
      "\u001b[0;32m~/.conda/envs/default/lib/python3.9/site-packages/numpy/lib/npyio.py\u001b[0m in \u001b[0;36m__getitem__\u001b[0;34m(self, key)\u001b[0m\n\u001b[1;32m    249\u001b[0m                 \u001b[0;32mreturn\u001b[0m \u001b[0mself\u001b[0m\u001b[0;34m.\u001b[0m\u001b[0mzip\u001b[0m\u001b[0;34m.\u001b[0m\u001b[0mread\u001b[0m\u001b[0;34m(\u001b[0m\u001b[0mkey\u001b[0m\u001b[0;34m)\u001b[0m\u001b[0;34m\u001b[0m\u001b[0;34m\u001b[0m\u001b[0m\n\u001b[1;32m    250\u001b[0m         \u001b[0;32melse\u001b[0m\u001b[0;34m:\u001b[0m\u001b[0;34m\u001b[0m\u001b[0;34m\u001b[0m\u001b[0m\n\u001b[0;32m--> 251\u001b[0;31m             \u001b[0;32mraise\u001b[0m \u001b[0mKeyError\u001b[0m\u001b[0;34m(\u001b[0m\u001b[0;34m\"%s is not a file in the archive\"\u001b[0m \u001b[0;34m%\u001b[0m \u001b[0mkey\u001b[0m\u001b[0;34m)\u001b[0m\u001b[0;34m\u001b[0m\u001b[0;34m\u001b[0m\u001b[0m\n\u001b[0m\u001b[1;32m    252\u001b[0m \u001b[0;34m\u001b[0m\u001b[0m\n\u001b[1;32m    253\u001b[0m \u001b[0;34m\u001b[0m\u001b[0m\n",
      "\u001b[0;31mTypeError\u001b[0m: not all arguments converted during string formatting"
     ]
    }
   ],
   "source": [
    "# distribution of classes in the dataset \n",
    "label_to_count = {}\n",
    "def get_label(Y_true, idx, inst):\n",
    "    label = Y_true[idx, inst]\n",
    "    label = label > 0.5\n",
    "    return label\n",
    "indices = list(range(20000))\n",
    "for inst in list(class_map.values()):\n",
    "    for idx in indices:\n",
    "        label = get_label(Y_true, idx, inst)\n",
    "        if label in label_to_count:\n",
    "            label_to_count[label] += 1\n",
    "        else:\n",
    "            label_to_count[label] = 1\n",
    "    print(label_to_count)\n",
    "\n",
    "    # weight for each sample\n",
    "    weights = [1.0 / label_to_count[get_label(data, idx, inst)]\n",
    "               for idx in indices]\n",
    "    # weights = torch.DoubleTensor(weights)\n",
    "    print(weights)\n",
    "\n",
    "\n",
    "# def __iter__(self):\n",
    "#     return (self.indices[i] for i in torch.multinomial(\n",
    "#         self.weights, self.num_samples, replacement=True))\n",
    "\n",
    "# def __len__(self):\n",
    "#     return self.num_samples"
   ]
  },
  {
   "cell_type": "code",
   "execution_count": 29,
   "id": "42af8ad1-b2c5-4990-8d5c-f88d3ed1e937",
   "metadata": {},
   "outputs": [
    {
     "name": "stdout",
     "output_type": "stream",
     "text": [
      "[False False False False False False False False False False False False\n",
      " False  True False False  True False False  True]\n"
     ]
    }
   ],
   "source": [
    "print(Y_mask[1])\n"
   ]
  },
  {
   "cell_type": "code",
   "execution_count": 28,
   "id": "c0c76f7d-cfe5-4412-b9d3-4a2fbca3234e",
   "metadata": {},
   "outputs": [
    {
     "name": "stdout",
     "output_type": "stream",
     "text": [
      "[0.5     0.5     0.5     0.5     0.5     0.5     0.5     0.5     0.5\n",
      " 0.5     0.5     0.5     0.5     0.14705 0.5     0.5     0.      0.5\n",
      " 0.5     1.     ]\n"
     ]
    }
   ],
   "source": [
    "print(Y_true[1])\n"
   ]
  },
  {
   "cell_type": "code",
   "execution_count": null,
   "id": "4e908f1a-4c87-47d6-8ce5-f82074f7c322",
   "metadata": {},
   "outputs": [],
   "source": []
  }
 ],
 "metadata": {
  "kernelspec": {
   "display_name": "default:Python",
   "language": "python",
   "name": "conda-env-default-py"
  },
  "language_info": {
   "codemirror_mode": {
    "name": "ipython",
    "version": 3
   },
   "file_extension": ".py",
   "mimetype": "text/x-python",
   "name": "python",
   "nbconvert_exporter": "python",
   "pygments_lexer": "ipython3",
   "version": "3.9.13"
  }
 },
 "nbformat": 4,
 "nbformat_minor": 5
}
