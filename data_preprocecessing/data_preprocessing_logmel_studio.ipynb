{
 "cells": [
  {
   "cell_type": "markdown",
   "metadata": {
    "id": "P7L73tBcnKxz"
   },
   "source": [
    "# Instrumentify data pre processing: logmel"
   ]
  },
  {
   "cell_type": "markdown",
   "metadata": {
    "id": "eh1-w901SKfH"
   },
   "source": [
    "This notebook process the data OpenMIC to create a pipeline and transform the audio streams into audio-visual representations such as Log-Mel and Gammatone spectrograms."
   ]
  },
  {
   "cell_type": "code",
   "execution_count": null,
   "metadata": {
    "id": "e6gYCOiXaDfX"
   },
   "outputs": [],
   "source": [
    "# Common commands\n",
    "!zip -r '/content/folder/\"NewFileName.zip\"' '/content/folder/\"OrginalFileName\"'\n",
    "!unzip <filepath>\n",
    "!wget <url>\n",
    "%cp <zip_to_copy> /content/drive/MyDrive/ESP3201/Datasets/<dataset name>\n",
    "plt.imsave() #for saving only the image without axes/borders and all\n",
    "!du -h -s <filepath> #check size"
   ]
  },
  {
   "cell_type": "markdown",
   "metadata": {
    "id": "T5pRqfRHw-_Q"
   },
   "source": [
    "## How processing works\n",
    "transform (short time fft/ fourier/ constant q) --> spectogram (mel/gamma) --> log scale"
   ]
  },
  {
   "cell_type": "markdown",
   "metadata": {
    "id": "vH10oL1PWE_w"
   },
   "source": [
    "# OpenMIC"
   ]
  },
  {
   "cell_type": "code",
   "execution_count": 59,
   "metadata": {
    "id": "3EC3V0mxit83"
   },
   "outputs": [
    {
     "name": "stdout",
     "output_type": "stream",
     "text": [
      "/home/studio-lab-user/sagemaker-studiolab-notebooks/ESP3201-Instrument-indentification\n"
     ]
    }
   ],
   "source": [
    "!pwd"
   ]
  },
  {
   "cell_type": "code",
   "execution_count": null,
   "metadata": {
    "id": "RN1ugAtKWG0u",
    "tags": []
   },
   "outputs": [],
   "source": [
    "# Download original zip for OpenMIC\n",
    "!wget https://zenodo.org/record/1432913/files/openmic-2018-v1.0.0.tgz"
   ]
  },
  {
   "cell_type": "code",
   "execution_count": 16,
   "metadata": {
    "id": "Nyv1bcohe8tR"
   },
   "outputs": [],
   "source": [
    "# Extract and delete the zip\n",
    "!tar --extract --file openmic-2018-v1.0.0.tgz\n",
    "!rm openmic-2018-v1.0.0.tgz"
   ]
  },
  {
   "cell_type": "code",
   "execution_count": null,
   "metadata": {
    "colab": {
     "base_uri": "https://localhost:8080/"
    },
    "id": "09uiOv6JGpvn",
    "outputId": "28b5d34a-eab3-4865-bd9c-24d38674383e"
   },
   "outputs": [],
   "source": [
    "# HELPFUL for getting list of audio files for running mel/gammatone on all, also to verify\n",
    "import os\n",
    "filelist=[]\n",
    "for root, dirs, files in os.walk(\"openmic-2018/audio\"):\n",
    "\tfor file in files:\n",
    "        #append the file name to the list\n",
    "\t\tfilelist.append(os.path.join(root,file))\n",
    "print(len(filelist))"
   ]
  },
  {
   "cell_type": "code",
   "execution_count": 14,
   "metadata": {
    "id": "3i1PMf5yhbZd"
   },
   "outputs": [],
   "source": [
    "# to remove the folder if needed\n",
    "!rm -r openmic-2018"
   ]
  },
  {
   "cell_type": "markdown",
   "metadata": {
    "id": "I4AG0wpZ3NHs",
    "tags": []
   },
   "source": [
    "# Convert to log mel\n"
   ]
  },
  {
   "cell_type": "markdown",
   "metadata": {
    "tags": []
   },
   "source": [
    "### Import libraries"
   ]
  },
  {
   "cell_type": "code",
   "execution_count": 3,
   "metadata": {
    "colab": {
     "base_uri": "https://localhost:8080/",
     "height": 35
    },
    "id": "ftVg5KM6Y-Ww",
    "outputId": "4f84d5ab-ddd9-4eac-f6c2-fad2afe5946c",
    "tags": []
   },
   "outputs": [],
   "source": [
    "import shutil\n",
    "import os\n",
    "\n",
    "import librosa\n",
    "import librosa.display\n",
    "import IPython.display as ipd\n",
    "import matplotlib\n",
    "import numpy as np"
   ]
  },
  {
   "cell_type": "markdown",
   "metadata": {
    "jp-MarkdownHeadingCollapsed": true,
    "tags": []
   },
   "source": [
    "### Rename folder to ogg audio files"
   ]
  },
  {
   "cell_type": "code",
   "execution_count": 2,
   "metadata": {
    "tags": []
   },
   "outputs": [],
   "source": [
    "# rename original audio to audio-ogg for clarity\n",
    "os.rename(\"openmic-2018/audio\",\"openmic-2018/audio-ogg\")"
   ]
  },
  {
   "cell_type": "code",
   "execution_count": 19,
   "metadata": {
    "colab": {
     "base_uri": "https://localhost:8080/"
    },
    "id": "BDsCIwPJh0jl",
    "outputId": "2bdaf481-5be3-4300-b315-8e8fdbc244ec",
    "tags": []
   },
   "outputs": [
    {
     "name": "stdout",
     "output_type": "stream",
     "text": [
      "20000\n"
     ]
    }
   ],
   "source": [
    "# HELPFUL for getting list of audio files for running mel/gammatone on all\n",
    "# use this here to rename audio to audio-ogg and get new file list\n",
    "import os\n",
    "oggfilelist=[]\n",
    "for root, dirs, files in os.walk(\"openmic-2018/audio-ogg\"):\n",
    "\tfor file in files:\n",
    "        #append the file name to the list\n",
    "\t\toggfilelist.append(os.path.join(root,file))\n",
    "print (len(oggfilelist))"
   ]
  },
  {
   "cell_type": "code",
   "execution_count": 5,
   "metadata": {
    "colab": {
     "base_uri": "https://localhost:8080/"
    },
    "id": "SDDlCcJmXbyh",
    "outputId": "3ecb2fd8-3819-4c97-e057-0f13676ac782"
   },
   "outputs": [
    {
     "name": "stdout",
     "output_type": "stream",
     "text": [
      "2.9G\topenmic-2018\n"
     ]
    }
   ],
   "source": [
    "# check size for no specific reason\n",
    "!du -h -s openmic-2018\n",
    "# !rm -r openmic-2018/audio-wav/"
   ]
  },
  {
   "cell_type": "code",
   "execution_count": 22,
   "metadata": {},
   "outputs": [
    {
     "name": "stdout",
     "output_type": "stream",
     "text": [
      "5.2G\topenmic-2018\n"
     ]
    }
   ],
   "source": [
    "# check size for no specific reason\n",
    "!du -h -s openmic-2018"
   ]
  },
  {
   "cell_type": "markdown",
   "metadata": {},
   "source": [
    "### Create conversion function for one file"
   ]
  },
  {
   "cell_type": "code",
   "execution_count": 2,
   "metadata": {},
   "outputs": [],
   "source": [
    "# parameters of the librosa.feature.melspectrogram is added for flexibility\n",
    "def render_logmel_from_file(path, fft_window, hop_size, mel_bands, save_path):\n",
    "    # load the file using Librosa and obtain the scale and sampling rate.\n",
    "    scale, sampling_rate = librosa.load(path)\n",
    "    # generate the mel_spectrogram and convert to dB (logmel)\n",
    "    mel_spectrogram = librosa.feature.melspectrogram(scale, sr=sampling_rate, n_fft=fft_window, hop_length=hop_size, n_mels=mel_bands)\n",
    "    log_mel_spectrogram = librosa.power_to_db(mel_spectrogram)\n",
    "    \n",
    "    # convert spectrogram numpy to image\n",
    "    img = librosa.display.specshow(log_mel_spectrogram, x_axis=\"time\", y_axis=\"mel\", sr=sampling_rate)\n",
    "    \n",
    "    # save the figure as a png\n",
    "    matplotlib.pyplot.axis(\"off\")\n",
    "    matplotlib.pyplot.savefig(save_path, bbox_inches='tight',pad_inches = 0)\n",
    "    # print(save_path)\n",
    "    matplotlib.pyplot.close()\n",
    "    \n",
    "matplotlib.rcParams.update({'figure.max_open_warning': 0})"
   ]
  },
  {
   "cell_type": "code",
   "execution_count": 28,
   "metadata": {
    "id": "v7yI_t5HGpzi"
   },
   "outputs": [],
   "source": [
    "# test on one file if needed\n",
    "# ogg_file = \"/home/studio-lab-user/sagemaker-studiolab-notebooks/openmic-2018/audio-ogg/000/000046_3840.ogg\"\n",
    "# logmelfile = os.path.splitext(ogg_file)[0]+'.png'\n",
    "# logmelfile = logmelfile.replace(logmelfile[logmelfile.index(\"audio-ogg\"):],\"audio-logmel\" + logmelfile[logmelfile.index(\"audio-ogg\")+9:])\n",
    "# render_logmel_from_file(ogg_file, 2048, 512, 128, logmelfile)"
   ]
  },
  {
   "cell_type": "markdown",
   "metadata": {
    "id": "lyfj020kkqXR"
   },
   "source": [
    "### Bulk convert\n"
   ]
  },
  {
   "cell_type": "code",
   "execution_count": 15,
   "metadata": {},
   "outputs": [
    {
     "data": {
      "text/plain": [
       "'openmic-2018/audio-logmel/'"
      ]
     },
     "execution_count": 15,
     "metadata": {},
     "output_type": "execute_result"
    }
   ],
   "source": [
    "# defining the function to ignore the files if present in any folder\n",
    "def ignore_files(dir, files):\n",
    "    return [f for f in files if os.path.isfile(os.path.join(dir, f))]\n",
    "\n",
    "# remove the file used in testing\n",
    "!rm -r openmic-2018/audio-logmel\n",
    "\n",
    "# create data folder structure for logmel of similar structure to audio-ogg\n",
    "shutil.copytree('openmic-2018/audio-ogg/',\n",
    "                'openmic-2018/audio-logmel/',\n",
    "                ignore=ignore_files)"
   ]
  },
  {
   "cell_type": "code",
   "execution_count": 11,
   "metadata": {},
   "outputs": [],
   "source": [
    "ogg_file = \"openmic-2018/audio-ogg/000/000046_3840.ogg\""
   ]
  },
  {
   "cell_type": "code",
   "execution_count": 32,
   "metadata": {
    "colab": {
     "base_uri": "https://localhost:8080/",
     "height": 1000
    },
    "id": "282PEoLoj30Q",
    "outputId": "cdb9ad7a-df90-4371-bdae-6c0e9aab1ebd"
   },
   "outputs": [],
   "source": [
    "def bulk_convert(ogg_file):\n",
    "    logmelfile = os.path.splitext(ogg_file)[0]+'.png'\n",
    "    logmelfile = logmelfile.replace(logmelfile[logmelfile.index(\"audio-ogg\"):],\"audio-logmel\" + logmelfile[logmelfile.index(\"audio-ogg\")+9:])\n",
    "    render_logmel_from_file(ogg_file, 2048, 512, 128, logmelfile)\n",
    "    # print(logmelfile)\n",
    "    \n",
    "#bulk_convert(ogg_file)"
   ]
  },
  {
   "cell_type": "code",
   "execution_count": null,
   "metadata": {
    "id": "Z2Mar9h3lKxt",
    "scrolled": true,
    "tags": []
   },
   "outputs": [],
   "source": [
    "#!pip install tqdm\n",
    "from tqdm import tqdm\n",
    "from multiprocessing import Pool\n",
    "\n",
    "# convert with multiprocessing, 2 coz with 3 for some reason the third one stops working v early\n",
    "p = Pool(processes=2)\n",
    "a = list(tqdm(p.imap(bulk_convert, oggfilelist), total = 20000))\n",
    "# p.map(bulk_convert, oggfilelist)\n",
    "# the tqdm not rly working sadly :(\n",
    "# IF IT GETS STUCK, RESTART KERNEL \n",
    "# for ogg in tqdm(oggfilelist):\n",
    "#     bulk_convert(ogg)"
   ]
  },
  {
   "cell_type": "code",
   "execution_count": 26,
   "metadata": {},
   "outputs": [
    {
     "name": "stdout",
     "output_type": "stream",
     "text": [
      "19990\n"
     ]
    }
   ],
   "source": [
    "import os\n",
    "logmelfilelist=[]\n",
    "for root, dirs, files in os.walk(\"openmic-2018/audio-logmel\"):\n",
    "\tfor file in files:\n",
    "        \n",
    "        #append the file name to the list\n",
    "\t\tlogmelfilelist.append(os.path.join(root,file))\n",
    "print(len(logmelfilelist))"
   ]
  },
  {
   "cell_type": "markdown",
   "metadata": {
    "tags": []
   },
   "source": [
    "# Troubleshooting\n",
    "for any data that is unsuccessfully converted"
   ]
  },
  {
   "cell_type": "code",
   "execution_count": 12,
   "metadata": {},
   "outputs": [
    {
     "name": "stdout",
     "output_type": "stream",
     "text": [
      "/home/studio-lab-user/sagemaker-studiolab-notebooks\n"
     ]
    }
   ],
   "source": [
    "%cd .."
   ]
  },
  {
   "cell_type": "code",
   "execution_count": null,
   "metadata": {},
   "outputs": [],
   "source": [
    "import os\n",
    "oggfilelist=[]\n",
    "for root, dirs, files in os.walk(\"openmic-2018/audio-ogg\"):\n",
    "    for file in files:\n",
    "        #append the file name to the list\n",
    "        oggfilelist.append(os.path.splitext(file)[0])\n",
    "        #oggfilelist.append(file)\n",
    "print(len(oggfilelist))\n",
    "print(oggfilelist[1])"
   ]
  },
  {
   "cell_type": "code",
   "execution_count": null,
   "metadata": {},
   "outputs": [],
   "source": [
    "import os\n",
    "logmelfilelist=[]\n",
    "for root, dirs, files in os.walk(\"openmic-2018/audio-logmel\"):\n",
    "\tfor file in files:\n",
    "        \n",
    "        #append the file name to the list\n",
    "\t\tlogmelfilelist.append(os.path.splitext(file)[0])\n",
    "print(len(logmelfilelist))\n",
    "print(logmelfilelist[1])"
   ]
  },
  {
   "cell_type": "code",
   "execution_count": 17,
   "metadata": {
    "tags": []
   },
   "outputs": [
    {
     "name": "stdout",
     "output_type": "stream",
     "text": [
      "26\n",
      "['087246_145920', '155311_453120', '007116_107520-checkpoint', '029496_26880', '019964_88320', '155204_7680', '155294_184320', '052862_364800', '138182_311040', '155293_26880', '042332_11520', '155245_629760', '155278_211200', '149448_88320', '155225_126720', '007122_218880-checkpoint', '155307_211200', '115592_180480', '155197_34560', '155295_76800', '155310_372480', '104759_314880', '126419_207360', '155233_364800', '073544_533760', '062742_15360']\n"
     ]
    }
   ],
   "source": [
    "diff = list(set(logmelfilelist) ^ set(oggfilelist[:19988])) # Symmetric diff\n",
    "print(len(diff))\n",
    "print(diff)"
   ]
  },
  {
   "cell_type": "code",
   "execution_count": 18,
   "metadata": {},
   "outputs": [
    {
     "name": "stdout",
     "output_type": "stream",
     "text": [
      "14\n",
      "['087246_145920', '007116_107520-checkpoint', '029496_26880', '019964_88320', '052862_364800', '138182_311040', '042332_11520', '149448_88320', '007122_218880-checkpoint', '115592_180480', '104759_314880', '126419_207360', '073544_533760', '062742_15360']\n"
     ]
    }
   ],
   "source": [
    "diff = list(set(logmelfilelist) ^ set(oggfilelist)) # check diff\n",
    "print(len(diff))\n",
    "print(diff)"
   ]
  },
  {
   "cell_type": "code",
   "execution_count": null,
   "metadata": {},
   "outputs": [],
   "source": [
    "diff = []\n",
    "for file in oggfilelist:\n",
    "    if file not in logmelfilelist:\n",
    "        diff.append(file)\n",
    "print(len(diff))\n",
    "print(diff)"
   ]
  },
  {
   "cell_type": "code",
   "execution_count": 44,
   "metadata": {},
   "outputs": [
    {
     "name": "stdout",
     "output_type": "stream",
     "text": [
      "11\n",
      "['openmic-2018/audio-ogg/029/029496_26880.ogg', 'openmic-2018/audio-ogg/042/042332_11520.ogg', 'openmic-2018/audio-ogg/052/052862_364800.ogg', 'openmic-2018/audio-ogg/062/062742_15360.ogg', 'openmic-2018/audio-ogg/073/073544_533760.ogg', 'openmic-2018/audio-ogg/087/087246_145920.ogg', 'openmic-2018/audio-ogg/104/104759_314880.ogg', 'openmic-2018/audio-ogg/115/115592_180480.ogg', 'openmic-2018/audio-ogg/126/126419_207360.ogg', 'openmic-2018/audio-ogg/138/138182_311040.ogg', 'openmic-2018/audio-ogg/149/149448_88320.ogg']\n"
     ]
    }
   ],
   "source": [
    "file_paths = []\n",
    "for file in diff:\n",
    "    path = \"openmic-2018/audio-ogg/\"\n",
    "    path += file[:3] + \"/\" + file + \".ogg\"\n",
    "    file_paths.append(path)\n",
    "\n",
    "print(len(file_paths))\n",
    "print(file_paths)"
   ]
  },
  {
   "cell_type": "code",
   "execution_count": null,
   "metadata": {},
   "outputs": [],
   "source": [
    "for path in file_paths:\n",
    "    bulk_convert(path)\n",
    "print(\"done\")"
   ]
  }
 ],
 "metadata": {
  "colab": {
   "collapsed_sections": [],
   "include_colab_link": true,
   "provenance": []
  },
  "kernelspec": {
   "display_name": "default:Python",
   "language": "python",
   "name": "conda-env-default-py"
  },
  "language_info": {
   "codemirror_mode": {
    "name": "ipython",
    "version": 3
   },
   "file_extension": ".py",
   "mimetype": "text/x-python",
   "name": "python",
   "nbconvert_exporter": "python",
   "pygments_lexer": "ipython3",
   "version": "3.9.13"
  }
 },
 "nbformat": 4,
 "nbformat_minor": 4
}
