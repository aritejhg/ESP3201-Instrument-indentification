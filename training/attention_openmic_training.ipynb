{
 "cells": [
  {
   "cell_type": "markdown",
   "metadata": {
    "colab_type": "text",
    "id": "view-in-github"
   },
   "source": [
    "<a href=\"https://colab.research.google.com/github/aritejhg/ESP3201-Instrument-indentification/blob/main/attention_openmic_training.ipynb\" target=\"_parent\"><img src=\"https://colab.research.google.com/assets/colab-badge.svg\" alt=\"Open In Colab\"/></a>"
   ]
  },
  {
   "cell_type": "markdown",
   "metadata": {
    "id": "MYDh0XHUfVRW",
    "tags": []
   },
   "source": [
    "## download repo and dataset\n"
   ]
  },
  {
   "cell_type": "code",
   "execution_count": null,
   "metadata": {
    "colab": {
     "base_uri": "https://localhost:8080/"
    },
    "id": "6pot5j1BazKt",
    "outputId": "19342556-77ea-49ed-c7f1-8a32f0217a3c"
   },
   "outputs": [],
   "source": [
    "!git clone https://github.com/aritejhg/AttentionMIC.git"
   ]
  },
  {
   "cell_type": "code",
   "execution_count": null,
   "metadata": {
    "id": "Smt9vWbqcb_U"
   },
   "outputs": [],
   "source": [
    "# !wget https://zenodo.org/record/1432913/files/openmic-2018-v1.0.0.tgz \n",
    "# NOT NEEDED as we can download just the npz straight"
   ]
  },
  {
   "cell_type": "code",
   "execution_count": null,
   "metadata": {
    "colab": {
     "base_uri": "https://localhost:8080/"
    },
    "id": "zDn3jAUoa66-",
    "outputId": "b21846f5-3e75-478d-c50a-10fbe46e4c33"
   },
   "outputs": [],
   "source": [
    "!pip install gdown"
   ]
  },
  {
   "cell_type": "markdown",
   "metadata": {
    "id": "YvSBJuTJd4A1"
   },
   "source": [
    "Splits used for training by AttentionMIC\n",
    "\n",
    "Test.npz : https://drive.google.com/file/d/1mf0UDhzN9cYtzqXuqbNSPS8_JuRt6MAA/view?usp=share_link\n",
    "\n",
    "Train.npz : https://drive.google.com/file/d/1bUwrN2iLYJBPsVsm3S_4PnITYrJMDDC1/view?usp=share_link\n",
    "\n",
    "split: https://drive.google.com/file/d/1di3IrCHeKsLlpMJwOYDDYTNOot4WVxJD/view?usp=share_link"
   ]
  },
  {
   "cell_type": "code",
   "execution_count": null,
   "metadata": {
    "colab": {
     "base_uri": "https://localhost:8080/"
    },
    "id": "g4JN8MGQdrFt",
    "outputId": "82e809cf-6d6d-47d6-95f0-034f607c2bc2"
   },
   "outputs": [],
   "source": [
    "%cd AttentionMIC/data\n",
    "\n",
    "!gdown https://drive.google.com/uc?id=1mf0UDhzN9cYtzqXuqbNSPS8_JuRt6MAA\n",
    "!gdown https://drive.google.com/uc?id=1bUwrN2iLYJBPsVsm3S_4PnITYrJMDDC1\n",
    "!gdown https://drive.google.com/uc?id=1di3IrCHeKsLlpMJwOYDDYTNOot4WVxJD"
   ]
  },
  {
   "cell_type": "code",
   "execution_count": null,
   "metadata": {
    "colab": {
     "base_uri": "https://localhost:8080/"
    },
    "id": "qUaruKTZd7ll",
    "outputId": "6291ff69-38d6-4332-ee8a-166428521150"
   },
   "outputs": [],
   "source": [
    "%cd .."
   ]
  },
  {
   "cell_type": "markdown",
   "metadata": {
    "id": "7ChuG5sHfcGU"
   },
   "source": [
    "## train commands\n"
   ]
  },
  {
   "cell_type": "code",
   "execution_count": null,
   "metadata": {
    "colab": {
     "base_uri": "https://localhost:8080/"
    },
    "id": "WWDxygEKfiE-",
    "outputId": "c3188cfd-09da-44db-d204-d2ad97bdf83e"
   },
   "outputs": [],
   "source": [
    "!pip install tensorboardX\n",
    "!pip install torch"
   ]
  },
  {
   "cell_type": "code",
   "execution_count": null,
   "metadata": {},
   "outputs": [],
   "source": [
    "!pwd\n",
    "%cd ..\n",
    "%cd AttentionMIC"
   ]
  },
  {
   "cell_type": "code",
   "execution_count": null,
   "metadata": {
    "colab": {
     "base_uri": "https://localhost:8080/"
    },
    "id": "TTAowdd5fiJW",
    "outputId": "3f062a36-d6ea-45c1-a59a-f77317e13619",
    "scrolled": true,
    "tags": []
   },
   "outputs": [],
   "source": [
    "!python train_attention_multiruns.py --num_epochs 40 --batch_size 32 --id Resnet_128_3_0.6_lr0.0005_noannealing_res --loss_type BCE --lr 0.0005 --dropout_rate 0.6 --hidden_size 128 --emb_layers 3 --log_dir Resnet --model_type Resnet\n",
    "# main train command, change hyperparameters here"
   ]
  },
  {
   "cell_type": "code",
   "execution_count": null,
   "metadata": {
    "id": "k37O0r2XiOYq"
   },
   "outputs": [],
   "source": [
    "%load_ext tensorboard\n",
    "# used for data visualisation"
   ]
  },
  {
   "cell_type": "code",
   "execution_count": null,
   "metadata": {
    "id": "l-EAQsBniPO5"
   },
   "outputs": [],
   "source": [
    "%tensorboard --logdir Resnet/Resnet"
   ]
  }
 ],
 "metadata": {
  "accelerator": "GPU",
  "colab": {
   "authorship_tag": "ABX9TyMk2CECccpYvVuBEltDBrAA",
   "collapsed_sections": [],
   "include_colab_link": true,
   "provenance": []
  },
  "gpuClass": "standard",
  "kernelspec": {
   "display_name": "default:Python",
   "language": "python",
   "name": "conda-env-default-py"
  },
  "language_info": {
   "codemirror_mode": {
    "name": "ipython",
    "version": 3
   },
   "file_extension": ".py",
   "mimetype": "text/x-python",
   "name": "python",
   "nbconvert_exporter": "python",
   "pygments_lexer": "ipython3",
   "version": "3.9.13"
  }
 },
 "nbformat": 4,
 "nbformat_minor": 4
}
