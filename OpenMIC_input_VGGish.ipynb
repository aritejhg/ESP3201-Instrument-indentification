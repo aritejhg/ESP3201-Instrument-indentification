{
 "cells": [
  {
   "cell_type": "markdown",
   "id": "de5c0af3-22e0-45d4-9454-7e5ea5cb337d",
   "metadata": {},
   "source": [
    "# Test Out wav_read on OGG files"
   ]
  },
  {
   "cell_type": "code",
   "execution_count": 5,
   "id": "4956bbbd-c934-4077-960c-168f20439547",
   "metadata": {},
   "outputs": [],
   "source": [
    "import numpy as np\n",
    "import resampy\n",
    "\n",
    "import mel_features\n",
    "import vggish_params"
   ]
  },
  {
   "cell_type": "code",
   "execution_count": 6,
   "id": "e4604cbf-c40f-46d1-a9a9-d8df38de7f76",
   "metadata": {},
   "outputs": [],
   "source": [
    "import librosa\n",
    "import librosa.display\n",
    "import IPython.display as ipd\n",
    "import matplotlib"
   ]
  },
  {
   "cell_type": "code",
   "execution_count": 13,
   "id": "0a590ecb-e857-4537-bc05-a88a50485d4c",
   "metadata": {},
   "outputs": [],
   "source": [
    "ogg_file = \"/home/studio-lab-user/sagemaker-studiolab-notebooks/openmic-2018/audio-ogg/000/000046_3840.ogg\""
   ]
  },
  {
   "cell_type": "code",
   "execution_count": 10,
   "id": "ff214c83-cf40-4956-9688-015192bb4c02",
   "metadata": {},
   "outputs": [
    {
     "name": "stdout",
     "output_type": "stream",
     "text": [
      "/home/studio-lab-user/sagemaker-studiolab-notebooks\n"
     ]
    }
   ],
   "source": [
    "cd sagemaker-studiolab-notebooks"
   ]
  },
  {
   "cell_type": "code",
   "execution_count": 9,
   "id": "23a33f31-6cb3-486b-90c9-109b866af571",
   "metadata": {},
   "outputs": [],
   "source": [
    "try:\n",
    "  import soundfile as sf\n",
    "\n",
    "  def wav_read(wav_file):\n",
    "    wav_data, sr = sf.read(wav_file, dtype='int16')\n",
    "    return wav_data, sr\n",
    "\n",
    "except ImportError:\n",
    "  def wav_read(wav_file):\n",
    "    raise NotImplementedError('WAV file reading requires soundfile package.')"
   ]
  },
  {
   "cell_type": "code",
   "execution_count": 12,
   "id": "1e48496e-2f9c-481c-a8fa-80cf58259bca",
   "metadata": {},
   "outputs": [
    {
     "data": {
      "text/plain": [
       "(array([[    0,     0],\n",
       "        [    0,     0],\n",
       "        [    0,     0],\n",
       "        ...,\n",
       "        [-3068, -7416],\n",
       "        [-3293, -7726],\n",
       "        [-3015, -7698]], dtype=int16),\n",
       " 44100)"
      ]
     },
     "execution_count": 12,
     "metadata": {},
     "output_type": "execute_result"
    }
   ],
   "source": [
    "wav_read(ogg_file)"
   ]
  },
  {
   "cell_type": "code",
   "execution_count": 13,
   "id": "787e22e6-c539-4d0c-b720-2fc6cf7d3fb7",
   "metadata": {
    "tags": []
   },
   "outputs": [],
   "source": [
    "scale, sampling_rate = librosa.load(ogg_file)"
   ]
  },
  {
   "cell_type": "markdown",
   "id": "b9156637-557d-4a23-80c4-89372274f321",
   "metadata": {},
   "source": [
    "# Test out wavfile_to_examples on OGG files"
   ]
  },
  {
   "cell_type": "code",
   "execution_count": 10,
   "id": "c4b06388-0cf4-4a2c-86ad-9bd39d35bb66",
   "metadata": {
    "tags": []
   },
   "outputs": [],
   "source": [
    "import vggish_slim\n",
    "import vggish_params\n",
    "import vggish_input"
   ]
  },
  {
   "cell_type": "code",
   "execution_count": 11,
   "id": "ecec3b3a-daf8-4b6d-b38e-01dd92d818f7",
   "metadata": {},
   "outputs": [],
   "source": [
    "import numpy as np\n",
    "import vggish_postprocess"
   ]
  },
  {
   "cell_type": "code",
   "execution_count": 12,
   "id": "ed1b34f9-8351-4eac-80a7-5a3e9b462893",
   "metadata": {
    "tags": []
   },
   "outputs": [],
   "source": [
    "def waveform_to_examples(data, sample_rate):\n",
    "  \"\"\"Converts audio waveform into an array of examples for VGGish.\n",
    "\n",
    "  Args:\n",
    "    data: np.array of either one dimension (mono) or two dimensions\n",
    "      (multi-channel, with the outer dimension representing channels).\n",
    "      Each sample is generally expected to lie in the range [-1.0, +1.0],\n",
    "      although this is not required.\n",
    "    sample_rate: Sample rate of data.\n",
    "\n",
    "  Returns:\n",
    "    3-D np.array of shape [num_examples, num_frames, num_bands] which represents\n",
    "    a sequence of examples, each of which contains a patch of log mel\n",
    "    spectrogram, covering num_frames frames of audio and num_bands mel frequency\n",
    "    bands, where the frame length is vggish_params.STFT_HOP_LENGTH_SECONDS.\n",
    "  \"\"\"\n",
    "  # Convert to mono.\n",
    "  if len(data.shape) > 1:\n",
    "    data = np.mean(data, axis=1)\n",
    "  # Resample to the rate assumed by VGGish.\n",
    "  if sample_rate != vggish_params.SAMPLE_RATE:\n",
    "    data = resampy.resample(data, sample_rate, vggish_params.SAMPLE_RATE)\n",
    "\n",
    "  # Compute log mel spectrogram features.\n",
    "  log_mel = mel_features.log_mel_spectrogram(\n",
    "      data,\n",
    "      audio_sample_rate=vggish_params.SAMPLE_RATE,\n",
    "      log_offset=vggish_params.LOG_OFFSET,\n",
    "      window_length_secs=vggish_params.STFT_WINDOW_LENGTH_SECONDS,\n",
    "      hop_length_secs=vggish_params.STFT_HOP_LENGTH_SECONDS,\n",
    "      num_mel_bins=vggish_params.NUM_MEL_BINS,\n",
    "      lower_edge_hertz=vggish_params.MEL_MIN_HZ,\n",
    "      upper_edge_hertz=vggish_params.MEL_MAX_HZ)\n",
    "\n",
    "  # Frame features into examples.\n",
    "  features_sample_rate = 1.0 / vggish_params.STFT_HOP_LENGTH_SECONDS\n",
    "  example_window_length = int(round(\n",
    "      vggish_params.EXAMPLE_WINDOW_SECONDS * features_sample_rate))\n",
    "  example_hop_length = int(round(\n",
    "      vggish_params.EXAMPLE_HOP_SECONDS * features_sample_rate))\n",
    "  log_mel_examples = mel_features.frame(\n",
    "      log_mel,\n",
    "      window_length=example_window_length,\n",
    "      hop_length=example_hop_length)\n",
    "  return log_mel_examples\n",
    "\n",
    "\n",
    "def wavfile_to_examples(wav_file):\n",
    "  \"\"\"Convenience wrapper around waveform_to_examples() for a common WAV format.\n",
    "\n",
    "  Args:\n",
    "    wav_file: String path to a file, or a file-like object. The file\n",
    "    is assumed to contain WAV audio data with signed 16-bit PCM samples.\n",
    "\n",
    "  Returns:\n",
    "    See waveform_to_examples.\n",
    "  \"\"\"\n",
    "  wav_data, sr = wav_read(wav_file)\n",
    "  assert wav_data.dtype == np.int16, 'Bad sample type: %r' % wav_data.dtype\n",
    "  samples = wav_data / 32768.0  # Convert to [-1.0, +1.0]\n",
    "  return waveform_to_examples(samples, sr)"
   ]
  },
  {
   "cell_type": "code",
   "execution_count": 15,
   "id": "a3f37814-317d-4b2f-874e-f74855de67ac",
   "metadata": {
    "tags": []
   },
   "outputs": [],
   "source": [
    "example = vggish_input.wavfile_to_examples(ogg_file)"
   ]
  },
  {
   "cell_type": "code",
   "execution_count": 64,
   "id": "ca0237e8-8960-4b12-ba37-9244433ddaf0",
   "metadata": {},
   "outputs": [
    {
     "data": {
      "text/plain": [
       "array([[ 2.51149453,  2.60651203,  1.96133896, ..., -0.521486  ,\n",
       "        -0.08668707,  0.56043407],\n",
       "       [ 2.34245532,  2.46880769,  1.74214255, ..., -0.20441542,\n",
       "        -0.13434715, -0.17198743],\n",
       "       [ 2.36846426,  2.47827471,  1.8040517 , ..., -0.04506807,\n",
       "         0.16628694,  0.38816167],\n",
       "       ...,\n",
       "       [ 2.32895718,  2.87466782,  2.54148587, ..., -0.47428836,\n",
       "        -0.35848927, -0.57632454],\n",
       "       [ 2.69073276,  2.9098468 ,  2.44787603, ..., -0.43853564,\n",
       "        -0.50331557, -0.66511921],\n",
       "       [ 2.39707648,  2.81003938,  2.3965639 , ..., -0.03917692,\n",
       "        -0.55333859, -0.42275099]])"
      ]
     },
     "execution_count": 64,
     "metadata": {},
     "output_type": "execute_result"
    }
   ],
   "source": [
    "example[9]"
   ]
  },
  {
   "cell_type": "code",
   "execution_count": 21,
   "id": "4f85a001-b3e5-4023-8f50-96e5da70eb6c",
   "metadata": {},
   "outputs": [
    {
     "data": {
      "text/plain": [
       "(10, 96, 64)"
      ]
     },
     "execution_count": 21,
     "metadata": {},
     "output_type": "execute_result"
    }
   ],
   "source": [
    "example.shape"
   ]
  },
  {
   "cell_type": "code",
   "execution_count": 66,
   "id": "7c8e880f-54f7-4b62-87fc-a55e09a76252",
   "metadata": {},
   "outputs": [
    {
     "data": {
      "text/plain": [
       "<matplotlib.image.AxesImage at 0x7f60ca6dd490>"
      ]
     },
     "execution_count": 66,
     "metadata": {},
     "output_type": "execute_result"
    },
    {
     "data": {
      "image/png": "[encoded data removed]",
      "text/plain": [
       "<Figure size 640x480 with 1 Axes>"
      ]
     },
     "metadata": {},
     "output_type": "display_data"
    }
   ],
   "source": [
    "import matplotlib.pyplot as plt\n",
    "plt.imshow(example[9])"
   ]
  },
  {
   "cell_type": "code",
   "execution_count": 5,
   "id": "6a4c4057-3734-44b1-b858-2a17fbf34e77",
   "metadata": {},
   "outputs": [],
   "source": [
    "def CreateVGGishNetwork(hop_size=0.96):   # Hop size is in seconds.\n",
    "  \"\"\"Define VGGish model, load the checkpoint, and return a dictionary that points\n",
    "  to the different tensors defined by the model.\n",
    "  \"\"\"\n",
    "  vggish_slim.define_vggish_slim()\n",
    "  checkpoint_path = 'vggish_model.ckpt'\n",
    "  vggish_params.EXAMPLE_HOP_SECONDS = hop_size\n",
    "  vggish_slim.load_vggish_slim_checkpoint(sess, checkpoint_path)\n",
    "  features_tensor = sess.graph.get_tensor_by_name(\n",
    "      vggish_params.INPUT_TENSOR_NAME)\n",
    "  embedding_tensor = sess.graph.get_tensor_by_name(\n",
    "      vggish_params.OUTPUT_TENSOR_NAME)\n",
    "  layers = {'conv1': 'vggish/conv1/Relu',\n",
    "            'pool1': 'vggish/pool1/MaxPool',\n",
    "            'conv2': 'vggish/conv2/Relu',\n",
    "            'pool2': 'vggish/pool2/MaxPool',\n",
    "            'conv3': 'vggish/conv3/conv3_2/Relu',\n",
    "            'pool3': 'vggish/pool3/MaxPool',\n",
    "            'conv4': 'vggish/conv4/conv4_2/Relu',\n",
    "            'pool4': 'vggish/pool4/MaxPool',\n",
    "            'fc1': 'vggish/fc1/fc1_2/Relu',\n",
    "            #'fc2': 'vggish/fc2/Relu',\n",
    "            'embedding': 'vggish/embedding',\n",
    "            'features': 'vggish/input_features',\n",
    "         }\n",
    "  g = tf.get_default_graph()\n",
    "  for k in layers:\n",
    "    layers[k] = g.get_tensor_by_name( layers[k] + ':0')\n",
    "  return {'features': features_tensor,\n",
    "          'embedding': embedding_tensor,\n",
    "          'layers': layers,\n",
    "         }"
   ]
  },
  {
   "cell_type": "code",
   "execution_count": 6,
   "id": "0e148400-ae3a-40de-9715-456895a3cf3e",
   "metadata": {},
   "outputs": [],
   "source": [
    "def ProcessWithVGGish(vgg, file_path):\n",
    "  '''Run the VGGish model, starting with an audio file with path file_path. \n",
    "  Return a whitened version of the embeddings. Sound must be scaled to be\n",
    "  floats between -1 and +1.'''\n",
    "  # Produce a batch of log mel spectrogram examples.\n",
    "  input_batch = vggish_input.wavfile_to_examples(file_path)\n",
    "  # print('Log Mel Spectrogram example: ', input_batch[0])\n",
    "  [embedding_batch] = sess.run([vgg['embedding']],\n",
    "                               feed_dict={vgg['features']: input_batch})\n",
    "  # Postprocess the results to produce whitened quantized embeddings.\n",
    "  pca_params_path = 'vggish_pca_params.npz'\n",
    "  pproc = vggish_postprocess.Postprocessor(pca_params_path)\n",
    "  postprocessed_batch = pproc.postprocess(embedding_batch)\n",
    "  # print('Postprocessed VGGish embedding: ', postprocessed_batch[0])\n",
    "  return postprocessed_batch[0]"
   ]
  },
  {
   "cell_type": "code",
   "execution_count": 11,
   "id": "ec2bbd28-1366-4f84-ace7-9b8c3e0189c8",
   "metadata": {},
   "outputs": [
    {
     "name": "stdout",
     "output_type": "stream",
     "text": [
      "INFO:tensorflow:Restoring parameters from vggish_model.ckpt\n"
     ]
    },
    {
     "name": "stderr",
     "output_type": "stream",
     "text": [
      "2022-10-24 02:14:33.598503: W tensorflow/core/framework/cpu_allocator_impl.cc:82] Allocation of 1420296192 exceeds 10% of free system memory.\n",
      "2022-10-24 02:14:34.550323: W tensorflow/core/framework/cpu_allocator_impl.cc:82] Allocation of 710148096 exceeds 10% of free system memory.\n"
     ]
    },
    {
     "name": "stdout",
     "output_type": "stream",
     "text": [
      "Postprocessed VGGish embedding:  160\n"
     ]
    }
   ],
   "source": [
    "# Test these new functions with the original test.\n",
    "import tensorflow.compat.v1 as tf\n",
    "tf.compat.v1.disable_eager_execution()\n",
    "\n",
    "tf.reset_default_graph()\n",
    "\n",
    "sess = tf.Session()\n",
    "\n",
    "vgg = CreateVGGishNetwork(0.01)\n",
    "\n",
    "file_path = \"/home/studio-lab-user/sagemaker-studiolab-notebooks/openmic-2018/audio-ogg/000/000046_3840.ogg\"\n",
    "\n",
    "postprocessed_batch = ProcessWithVGGish(vgg, file_path)\n",
    "\n",
    "print('Postprocessed VGGish embedding: ', postprocessed_batch[0])"
   ]
  },
  {
   "cell_type": "code",
   "execution_count": 12,
   "id": "4255dbf9-35b5-4518-a8cd-6abc2db273c5",
   "metadata": {},
   "outputs": [],
   "source": [
    "def EmbeddingsFromVGGish(vgg, file_path):\n",
    "  '''Run the VGGish model, starting with an audio file with path file_path.\n",
    "  Return a dictionary of embeddings from the different layers\n",
    "  of the model.'''\n",
    "  # Produce a batch of log mel spectrogram examples.\n",
    "  input_batch = vggish_input.wavfile_to_examples(file_path)\n",
    "  # print('Log Mel Spectrogram example: ', input_batch[0])\n",
    "  layer_names = vgg['layers'].keys()\n",
    "  tensors = [vgg['layers'][k] for k in layer_names]\n",
    "  results = sess.run(tensors,\n",
    "                     feed_dict={vgg['features']: input_batch})\n",
    "  resdict = {}\n",
    "  for i, k in enumerate(layer_names):\n",
    "    resdict[k] = results[i]\n",
    "  return resdict"
   ]
  },
  {
   "cell_type": "code",
   "execution_count": 13,
   "id": "4b3fd38a-645f-475b-9764-f934afbbaabb",
   "metadata": {},
   "outputs": [
    {
     "name": "stderr",
     "output_type": "stream",
     "text": [
      "2022-10-24 02:15:20.370515: W tensorflow/core/framework/cpu_allocator_impl.cc:82] Allocation of 1420296192 exceeds 10% of free system memory.\n"
     ]
    }
   ],
   "source": [
    "resdict = EmbeddingsFromVGGish(vgg, file_path)"
   ]
  },
  {
   "cell_type": "code",
   "execution_count": 14,
   "id": "c22e753d-b85a-4bb3-a01c-5c1233abe497",
   "metadata": {},
   "outputs": [
    {
     "name": "stdout",
     "output_type": "stream",
     "text": [
      "conv1 (903, 96, 64, 64)\n",
      "pool1 (903, 48, 32, 64)\n",
      "conv2 (903, 48, 32, 128)\n",
      "pool2 (903, 24, 16, 128)\n",
      "conv3 (903, 24, 16, 256)\n",
      "pool3 (903, 12, 8, 256)\n",
      "conv4 (903, 12, 8, 512)\n",
      "pool4 (903, 6, 4, 512)\n",
      "fc1 (903, 4096)\n",
      "embedding (903, 128)\n",
      "features (903, 96, 64)\n"
     ]
    }
   ],
   "source": [
    "for k in resdict:\n",
    "  print(k, resdict[k].shape)"
   ]
  },
  {
   "cell_type": "code",
   "execution_count": 16,
   "id": "d2e5d234-2fea-4fc3-a424-45dfdccc4d56",
   "metadata": {},
   "outputs": [
    {
     "data": {
      "image/png": "[encoded data removed]",
      "text/plain": [
       "<Figure size 640x480 with 1 Axes>"
      ]
     },
     "metadata": {},
     "output_type": "display_data"
    }
   ],
   "source": [
    "import matplotlib.pyplot as plt\n",
    "plt.imshow(resdict['embedding'], \n",
    "           aspect='auto', cmap='binary')\n",
    "plt.xlabel('Embedding Dimension')\n",
    "plt.ylabel('Time (frame number)')\n",
    "plt.title('Embedded Representation for OGG File')\n",
    "plt.grid(False);"
   ]
  },
  {
   "cell_type": "markdown",
   "id": "90c58a77-c5ea-4a4d-b3e8-47ebc239c2b4",
   "metadata": {},
   "source": [
    "# Test out VGGish training mode (again :\"))"
   ]
  },
  {
   "cell_type": "code",
   "execution_count": 1,
   "id": "7c949e43-f740-46a2-9ecf-d7c7bf877de3",
   "metadata": {},
   "outputs": [
    {
     "name": "stdout",
     "output_type": "stream",
     "text": [
      "OpenMIC_input_VGGish.ipynb  \u001b[0m\u001b[01;34m__pycache__\u001b[0m/     vggish_params.py\n",
      "__init__.py                 vggish_input.py  vggish_slim.py\n"
     ]
    }
   ],
   "source": [
    "ls"
   ]
  },
  {
   "cell_type": "code",
   "execution_count": 2,
   "id": "c3bf0dae-ca20-4cb0-b04f-a1fa97eac1cb",
   "metadata": {},
   "outputs": [
    {
     "name": "stdout",
     "output_type": "stream",
     "text": [
      "/home/studio-lab-user/sagemaker-studiolab-notebooks/VGGish\n"
     ]
    }
   ],
   "source": [
    "cd .."
   ]
  },
  {
   "cell_type": "code",
   "execution_count": 3,
   "id": "d1429f54-68cc-4c1c-8b2a-f412465bc9d5",
   "metadata": {},
   "outputs": [
    {
     "name": "stderr",
     "output_type": "stream",
     "text": [
      "2022-10-27 05:48:36.878606: I tensorflow/core/platform/cpu_feature_guard.cc:193] This TensorFlow binary is optimized with oneAPI Deep Neural Network Library (oneDNN) to use the following CPU instructions in performance-critical operations:  AVX2 AVX512F FMA\n",
      "To enable them in other operations, rebuild TensorFlow with the appropriate compiler flags.\n",
      "2022-10-27 05:48:37.202501: W tensorflow/stream_executor/platform/default/dso_loader.cc:64] Could not load dynamic library 'libcudart.so.11.0'; dlerror: libcudart.so.11.0: cannot open shared object file: No such file or directory\n",
      "2022-10-27 05:48:37.202528: I tensorflow/stream_executor/cuda/cudart_stub.cc:29] Ignore above cudart dlerror if you do not have a GPU set up on your machine.\n",
      "2022-10-27 05:48:37.235909: E tensorflow/stream_executor/cuda/cuda_blas.cc:2981] Unable to register cuBLAS factory: Attempting to register factory for plugin cuBLAS when one has already been registered\n",
      "2022-10-27 05:48:38.204582: W tensorflow/stream_executor/platform/default/dso_loader.cc:64] Could not load dynamic library 'libnvinfer.so.7'; dlerror: libnvinfer.so.7: cannot open shared object file: No such file or directory\n",
      "2022-10-27 05:48:38.204692: W tensorflow/stream_executor/platform/default/dso_loader.cc:64] Could not load dynamic library 'libnvinfer_plugin.so.7'; dlerror: libnvinfer_plugin.so.7: cannot open shared object file: No such file or directory\n",
      "2022-10-27 05:48:38.204701: W tensorflow/compiler/tf2tensorrt/utils/py_utils.cc:38] TF-TRT Warning: Cannot dlopen some TensorRT libraries. If you would like to use Nvidia GPU with TensorRT, please make sure the missing libraries mentioned above are installed properly.\n"
     ]
    }
   ],
   "source": [
    "from __future__ import print_function\n",
    "\n",
    "from random import shuffle\n",
    "\n",
    "import numpy as np\n",
    "import tensorflow.compat.v1 as tf\n",
    "import tf_slim as slim\n",
    "\n",
    "import vggish_input\n",
    "import vggish_params\n",
    "import vggish_slim"
   ]
  },
  {
   "cell_type": "code",
   "execution_count": 4,
   "id": "05416023-c2e4-4d42-bc17-8317b6b37e64",
   "metadata": {},
   "outputs": [],
   "source": [
    "flags = tf.app.flags\n",
    "\n",
    "flags.DEFINE_integer(\n",
    "    'num_batches', 3,\n",
    "    'Number of batches of examples to feed into the model. Each batch is of '\n",
    "    'variable size and contains shuffled examples of each class of audio.')\n",
    "\n",
    "flags.DEFINE_boolean(\n",
    "    'train_vggish', True,\n",
    "    'If True, allow VGGish parameters to change during training, thus '\n",
    "    'fine-tuning VGGish. If False, VGGish parameters are fixed, thus using '\n",
    "    'VGGish as a fixed feature extractor.')\n",
    "\n",
    "flags.DEFINE_string(\n",
    "    'checkpoint', 'vggish_model.ckpt',\n",
    "    'Path to the VGGish checkpoint file.')\n",
    "\n",
    "FLAGS = flags.FLAGS\n",
    "\n",
    "_NUM_CLASSES = 3"
   ]
  },
  {
   "cell_type": "code",
   "execution_count": 5,
   "id": "df97e9e5-f9da-4c5a-a831-4e5427b6a472",
   "metadata": {},
   "outputs": [],
   "source": [
    "def _get_examples_batch():\n",
    "  \"\"\"Returns a shuffled batch of examples of all audio classes.\n",
    "\n",
    "  Note that this is just a toy function because this is a simple demo intended\n",
    "  to illustrate how the training code might work.\n",
    "\n",
    "  Returns:\n",
    "    a tuple (features, labels) where features is a NumPy array of shape\n",
    "    [batch_size, num_frames, num_bands] where the batch_size is variable and\n",
    "    each row is a log mel spectrogram patch of shape [num_frames, num_bands]\n",
    "    suitable for feeding VGGish, while labels is a NumPy array of shape\n",
    "    [batch_size, num_classes] where each row is a multi-hot label vector that\n",
    "    provides the labels for corresponding rows in features.\n",
    "  \"\"\"\n",
    "  # Make a waveform for each class.\n",
    "  num_seconds = 5\n",
    "  sr = 44100  # Sampling rate.\n",
    "  t = np.arange(0, num_seconds, 1 / sr)  # Time axis\n",
    "  # Random sine wave.\n",
    "  freq = np.random.uniform(100, 1000)\n",
    "  sine = np.sin(2 * np.pi * freq * t)\n",
    "  # Random constant signal.\n",
    "  magnitude = np.random.uniform(-1, 1)\n",
    "  const = magnitude * t\n",
    "  # White noise.\n",
    "  noise = np.random.normal(-1, 1, size=t.shape)\n",
    "\n",
    "  # Make examples of each signal and corresponding labels.\n",
    "  # Sine is class index 0, Const class index 1, Noise class index 2.\n",
    "  sine_examples = vggish_input.waveform_to_examples(sine, sr)\n",
    "  sine_labels = np.array([[1, 0, 0]] * sine_examples.shape[0])\n",
    "  const_examples = vggish_input.waveform_to_examples(const, sr)\n",
    "  const_labels = np.array([[0, 1, 0]] * const_examples.shape[0])\n",
    "  noise_examples = vggish_input.waveform_to_examples(noise, sr)\n",
    "  noise_labels = np.array([[0, 0, 1]] * noise_examples.shape[0])\n",
    "\n",
    "  # Shuffle (example, label) pairs across all classes.\n",
    "  all_examples = np.concatenate((sine_examples, const_examples, noise_examples))\n",
    "  all_labels = np.concatenate((sine_labels, const_labels, noise_labels))\n",
    "  labeled_examples = list(zip(all_examples, all_labels))\n",
    "  shuffle(labeled_examples)\n",
    "\n",
    "  # Separate and return the features and labels.\n",
    "  features = [example for (example, _) in labeled_examples]\n",
    "  labels = [label for (_, label) in labeled_examples]\n",
    "  print(\"finished processing data\")\n",
    "  return (features, labels)"
   ]
  },
  {
   "cell_type": "code",
   "execution_count": 22,
   "id": "f34dc0d1-9126-4239-9317-7495928551bc",
   "metadata": {},
   "outputs": [],
   "source": [
    "hi = _get_examples_batch()"
   ]
  },
  {
   "cell_type": "markdown",
   "id": "662b5c7b-46b8-4be9-ac68-bcedb50d9747",
   "metadata": {},
   "source": [
    "### hi is the examples batch tuple with a list of arrays and a list of labels"
   ]
  },
  {
   "cell_type": "code",
   "execution_count": 61,
   "id": "9163db22-b4e2-4d22-bf8b-426e222d332e",
   "metadata": {},
   "outputs": [
    {
     "data": {
      "text/plain": [
       "15"
      ]
     },
     "execution_count": 61,
     "metadata": {},
     "output_type": "execute_result"
    }
   ],
   "source": [
    "len(hi[0])"
   ]
  },
  {
   "cell_type": "code",
   "execution_count": 62,
   "id": "f9efbd70-65c5-409e-bab0-f1c57d58990f",
   "metadata": {},
   "outputs": [
    {
     "data": {
      "text/plain": [
       "(96, 64)"
      ]
     },
     "execution_count": 62,
     "metadata": {},
     "output_type": "execute_result"
    }
   ],
   "source": [
    "hi[0][0].shape"
   ]
  },
  {
   "cell_type": "code",
   "execution_count": 63,
   "id": "12218df7-4aca-414e-9e91-bb54ab74ab22",
   "metadata": {},
   "outputs": [
    {
     "data": {
      "text/plain": [
       "[array([1, 0, 0]),\n",
       " array([1, 0, 0]),\n",
       " array([0, 1, 0]),\n",
       " array([0, 1, 0]),\n",
       " array([0, 1, 0]),\n",
       " array([0, 0, 1]),\n",
       " array([0, 0, 1]),\n",
       " array([0, 1, 0]),\n",
       " array([1, 0, 0]),\n",
       " array([0, 0, 1]),\n",
       " array([1, 0, 0]),\n",
       " array([0, 0, 1]),\n",
       " array([0, 1, 0]),\n",
       " array([0, 0, 1]),\n",
       " array([1, 0, 0])]"
      ]
     },
     "execution_count": 63,
     "metadata": {},
     "output_type": "execute_result"
    }
   ],
   "source": [
    "hi[1]"
   ]
  },
  {
   "cell_type": "code",
   "execution_count": 7,
   "id": "1d4c27c6-e8df-4b82-aa53-91ba67237408",
   "metadata": {},
   "outputs": [],
   "source": [
    "def main(_):\n",
    "  with tf.Graph().as_default(), tf.Session() as sess:\n",
    "    # Define VGGish.\n",
    "    embeddings = vggish_slim.define_vggish_slim(training=FLAGS.train_vggish)\n",
    "\n",
    "    # Define a shallow classification model and associated training ops on top\n",
    "    # of VGGish.\n",
    "    with tf.variable_scope('mymodel'):\n",
    "      # Add a fully connected layer with 100 units. Add an activation function\n",
    "      # to the embeddings since they are pre-activation.\n",
    "      num_units = 100\n",
    "      fc = slim.fully_connected(tf.nn.relu(embeddings), num_units)\n",
    "\n",
    "      # Add a classifier layer at the end, consisting of parallel logistic\n",
    "      # classifiers, one per class. This allows for multi-class tasks.\n",
    "      logits = slim.fully_connected(\n",
    "          fc, _NUM_CLASSES, activation_fn=None, scope='logits')\n",
    "      tf.sigmoid(logits, name='prediction')\n",
    "\n",
    "      # Add training ops.\n",
    "      with tf.variable_scope('train'):\n",
    "        global_step = tf.train.create_global_step()\n",
    "\n",
    "        # Labels are assumed to be fed as a batch multi-hot vectors, with\n",
    "        # a 1 in the position of each positive class label, and 0 elsewhere.\n",
    "        labels_input = tf.placeholder(\n",
    "            tf.float32, shape=(None, _NUM_CLASSES), name='labels')\n",
    "\n",
    "        # Cross-entropy label loss.\n",
    "        xent = tf.nn.sigmoid_cross_entropy_with_logits(\n",
    "            logits=logits, labels=labels_input, name='xent')\n",
    "        loss = tf.reduce_mean(xent, name='loss_op')\n",
    "        tf.summary.scalar('loss', loss)\n",
    "\n",
    "        # We use the same optimizer and hyperparameters as used to train VGGish.\n",
    "        optimizer = tf.train.AdamOptimizer(\n",
    "            learning_rate=vggish_params.LEARNING_RATE,\n",
    "            epsilon=vggish_params.ADAM_EPSILON)\n",
    "        #print(f\"model set epoch\n",
    "        train_op = optimizer.minimize(loss, global_step=global_step)\n",
    "\n",
    "    # Initialize all variables in the model, and then load the pre-trained\n",
    "    # VGGish checkpoint.\n",
    "    sess.run(tf.global_variables_initializer())\n",
    "    vggish_slim.load_vggish_slim_checkpoint(sess, FLAGS.checkpoint)\n",
    "\n",
    "    # The training loop.\n",
    "    features_input = sess.graph.get_tensor_by_name(\n",
    "        vggish_params.INPUT_TENSOR_NAME)\n",
    "    for _ in range(FLAGS.num_batches):\n",
    "      (features, labels) = _get_examples_batch()\n",
    "      [num_steps, loss_value, _] = sess.run(\n",
    "          [global_step, loss, train_op],\n",
    "          feed_dict={features_input: features, labels_input: labels})\n",
    "      print('Step %d: loss %g' % (num_steps, loss_value))"
   ]
  },
  {
   "cell_type": "code",
   "execution_count": 8,
   "id": "37381df7-ecab-476c-af94-3f6d3365b7aa",
   "metadata": {},
   "outputs": [
    {
     "name": "stdout",
     "output_type": "stream",
     "text": [
      "  % Total    % Received % Xferd  Average Speed   Time    Time     Time  Current\n",
      "                                 Dload  Upload   Total   Spent    Left  Speed\n",
      "100  277M  100  277M    0     0   130M      0  0:00:02  0:00:02 --:--:--  130M\n",
      "  % Total    % Received % Xferd  Average Speed   Time    Time     Time  Current\n",
      "                                 Dload  Upload   Total   Spent    Left  Speed\n",
      "100 73020  100 73020    0     0   713k      0 --:--:-- --:--:-- --:--:--  713k\n"
     ]
    }
   ],
   "source": [
    "!curl -O https://storage.googleapis.com/audioset/vggish_model.ckpt\n",
    "!curl -O https://storage.googleapis.com/audioset/vggish_pca_params.npz"
   ]
  },
  {
   "cell_type": "code",
   "execution_count": 9,
   "id": "c85541d1-6eb4-46d3-9dbc-137556ff91fa",
   "metadata": {},
   "outputs": [
    {
     "name": "stderr",
     "output_type": "stream",
     "text": [
      "2022-10-27 05:50:02.875302: W tensorflow/stream_executor/platform/default/dso_loader.cc:64] Could not load dynamic library 'libcuda.so.1'; dlerror: libcuda.so.1: cannot open shared object file: No such file or directory\n",
      "2022-10-27 05:50:02.875341: W tensorflow/stream_executor/cuda/cuda_driver.cc:263] failed call to cuInit: UNKNOWN ERROR (303)\n",
      "2022-10-27 05:50:02.875377: I tensorflow/stream_executor/cuda/cuda_diagnostics.cc:156] kernel driver does not appear to be running on this host (default): /proc/driver/nvidia/version does not exist\n",
      "2022-10-27 05:50:02.878446: I tensorflow/core/platform/cpu_feature_guard.cc:193] This TensorFlow binary is optimized with oneAPI Deep Neural Network Library (oneDNN) to use the following CPU instructions in performance-critical operations:  AVX2 AVX512F FMA\n",
      "To enable them in other operations, rebuild TensorFlow with the appropriate compiler flags.\n",
      "/home/studio-lab-user/.conda/envs/default/lib/python3.9/site-packages/tensorflow/python/keras/engine/base_layer_v1.py:1694: UserWarning: `layer.apply` is deprecated and will be removed in a future version. Please use `layer.__call__` method instead.\n",
      "  warnings.warn('`layer.apply` is deprecated and '\n",
      "/home/studio-lab-user/.conda/envs/default/lib/python3.9/site-packages/tensorflow/python/keras/legacy_tf_layers/core.py:332: UserWarning: `tf.layers.flatten` is deprecated and will be removed in a future version. Please use `tf.keras.layers.Flatten` instead.\n",
      "  warnings.warn('`tf.layers.flatten` is deprecated and '\n",
      "2022-10-27 05:50:04.170470: I tensorflow/compiler/mlir/mlir_graph_optimization_pass.cc:354] MLIR V1 optimization pass is not enabled\n"
     ]
    },
    {
     "name": "stdout",
     "output_type": "stream",
     "text": [
      "INFO:tensorflow:Restoring parameters from vggish_model.ckpt\n"
     ]
    },
    {
     "name": "stderr",
     "output_type": "stream",
     "text": [
      "I1027 05:50:06.009806 140057292429120 saver.py:1410] Restoring parameters from vggish_model.ckpt\n"
     ]
    },
    {
     "name": "stdout",
     "output_type": "stream",
     "text": [
      "Step 0: loss 0.687599\n",
      "Step 1: loss 0.659951\n",
      "Step 2: loss 0.607468\n",
      "Step 3: loss 0.599099\n",
      "Step 4: loss 0.572809\n",
      "Step 5: loss 0.555413\n",
      "Step 6: loss 0.537134\n",
      "Step 7: loss 0.538144\n",
      "Step 8: loss 0.529852\n",
      "Step 9: loss 0.490556\n",
      "Step 10: loss 0.509996\n",
      "Step 11: loss 0.495182\n",
      "Step 12: loss 0.483333\n",
      "Step 13: loss 0.467015\n",
      "Step 14: loss 0.455899\n",
      "Step 15: loss 0.424814\n",
      "Step 16: loss 0.422491\n",
      "Step 17: loss 0.412193\n",
      "Step 18: loss 0.392472\n",
      "Step 19: loss 0.371535\n",
      "Step 20: loss 0.364371\n",
      "Step 21: loss 0.355959\n",
      "Step 22: loss 0.367308\n",
      "Step 23: loss 0.335401\n",
      "Step 24: loss 0.326684\n",
      "Step 25: loss 0.337332\n",
      "Step 26: loss 0.298309\n",
      "Step 27: loss 0.29946\n",
      "Step 28: loss 0.291302\n",
      "Step 29: loss 0.281041\n",
      "Step 30: loss 0.27244\n",
      "Step 31: loss 0.260093\n"
     ]
    },
    {
     "ename": "SystemExit",
     "evalue": "",
     "output_type": "error",
     "traceback": [
      "An exception has occurred, use %tb to see the full traceback.\n",
      "\u001b[0;31mSystemExit\u001b[0m\n"
     ]
    },
    {
     "name": "stderr",
     "output_type": "stream",
     "text": [
      "/home/studio-lab-user/.conda/envs/default/lib/python3.9/site-packages/IPython/core/interactiveshell.py:3560: UserWarning: To exit: use 'exit', 'quit', or Ctrl-D.\n",
      "  warn(\"To exit: use 'exit', 'quit', or Ctrl-D.\", stacklevel=1)\n"
     ]
    }
   ],
   "source": [
    "if __name__ == '__main__':\n",
    "  tf.app.run()"
   ]
  },
  {
   "cell_type": "markdown",
   "id": "0211928c-07e2-4075-b4b8-f2c5ec906d48",
   "metadata": {},
   "source": [
    "# Importing OpenMIC with labels"
   ]
  },
  {
   "cell_type": "code",
   "execution_count": 5,
   "id": "9d68cac6-b2fb-426c-babb-5396147f120a",
   "metadata": {},
   "outputs": [
    {
     "name": "stdout",
     "output_type": "stream",
     "text": [
      "/home/studio-lab-user/sagemaker-studiolab-notebooks\n"
     ]
    }
   ],
   "source": [
    "cd .."
   ]
  },
  {
   "cell_type": "code",
   "execution_count": 6,
   "id": "0162367a-1d0f-4c4a-bffe-2b94461b3d35",
   "metadata": {},
   "outputs": [
    {
     "name": "stdout",
     "output_type": "stream",
     "text": [
      "/home/studio-lab-user/sagemaker-studiolab-notebooks/openmic-2018\n"
     ]
    }
   ],
   "source": [
    "cd openmic-2018"
   ]
  },
  {
   "cell_type": "code",
   "execution_count": 7,
   "id": "c455790b-b394-4fcc-bc6f-f47026ddd662",
   "metadata": {},
   "outputs": [],
   "source": [
    "import json\n",
    "import os\n",
    "import numpy as np\n",
    "#!pip install pandas\n",
    "import pandas as pd"
   ]
  },
  {
   "cell_type": "code",
   "execution_count": 8,
   "id": "ab729e52-ef1f-4803-8ec3-d84bf8b97bc7",
   "metadata": {},
   "outputs": [
    {
     "name": "stdout",
     "output_type": "stream",
     "text": [
      "(20000, 10, 128) (20000, 20) (20000, 20) (20000,)\n"
     ]
    }
   ],
   "source": [
    "data = np.load(\"openmic-2018.npz\", allow_pickle = True)\n",
    "X, Y_true, Y_mask, sample_key = data['X'], data['Y_true'], data['Y_mask'], data['sample_key']\n",
    "print(X.shape, Y_true.shape, Y_mask.shape, sample_key.shape)"
   ]
  },
  {
   "cell_type": "code",
   "execution_count": 9,
   "id": "19b45310-7ec8-4043-a1a4-9210f36a4b8a",
   "metadata": {},
   "outputs": [
    {
     "data": {
      "text/plain": [
       "(10, 128)"
      ]
     },
     "execution_count": 9,
     "metadata": {},
     "output_type": "execute_result"
    }
   ],
   "source": [
    "X[0].shape"
   ]
  },
  {
   "cell_type": "code",
   "execution_count": 11,
   "id": "e16872a9-c2eb-44cc-bd1c-a23a954cca34",
   "metadata": {},
   "outputs": [
    {
     "data": {
      "text/plain": [
       "array([173,  16, 162, 107, 197,  53, 155, 139, 149, 183, 157,  50, 130,\n",
       "       104, 120,  96, 172, 113, 151, 159,  47, 238, 127,  83,  81, 201,\n",
       "       143, 113, 238, 110, 145,  88, 157, 121,  63, 125, 146,  67, 106,\n",
       "       150, 230, 213, 102, 185, 117, 188, 134, 112,  72, 135, 112, 125,\n",
       "       131,  77, 162, 137,  78,  57, 130, 187, 146, 198,  52, 191, 211,\n",
       "       187, 116,  97, 112, 148,  45, 231, 145, 202, 112, 148,  43, 255,\n",
       "       220, 182, 143, 104, 213,  82,  61, 107, 114, 190, 162, 127, 140,\n",
       "       125, 159, 216, 119, 176,  65,  66,  30, 132, 242, 176,  62,  89,\n",
       "        95, 123, 106, 195, 172, 253, 168, 164,  82, 122, 163,  66,  87,\n",
       "       124,   4, 139, 139,   0,  25,  44, 195,  42,  37, 255])"
      ]
     },
     "execution_count": 11,
     "metadata": {},
     "output_type": "execute_result"
    }
   ],
   "source": [
    "X[0][0]"
   ]
  },
  {
   "cell_type": "code",
   "execution_count": 27,
   "id": "5980a2eb-4bcd-40a9-a2f3-b696e0563b2e",
   "metadata": {},
   "outputs": [
    {
     "data": {
      "text/plain": [
       "array([0.5, 0.5, 0.5, 0.5, 0.5, 0.5, 0.5, 0.5, 0.5, 0.5, 0.5, 0.5, 0. ,\n",
       "       0.5, 0.5, 0.5, 0.5, 0.5, 0.5, 1. ])"
      ]
     },
     "execution_count": 27,
     "metadata": {},
     "output_type": "execute_result"
    }
   ],
   "source": [
    "Y_true[8]"
   ]
  },
  {
   "cell_type": "code",
   "execution_count": 28,
   "id": "23e92f6a-07c7-4c30-ad43-354bacb49148",
   "metadata": {},
   "outputs": [
    {
     "data": {
      "text/plain": [
       "array([False, False, False, False, False, False, False, False, False,\n",
       "       False, False, False,  True, False, False, False, False, False,\n",
       "       False,  True])"
      ]
     },
     "execution_count": 28,
     "metadata": {},
     "output_type": "execute_result"
    }
   ],
   "source": [
    "Y_mask[8]"
   ]
  },
  {
   "cell_type": "code",
   "execution_count": 29,
   "id": "c5c0958e-9933-4345-96b6-0ba213775826",
   "metadata": {},
   "outputs": [
    {
     "data": {
      "text/plain": [
       "'000182_145920'"
      ]
     },
     "execution_count": 29,
     "metadata": {},
     "output_type": "execute_result"
    }
   ],
   "source": [
    "sample_key[8]"
   ]
  },
  {
   "cell_type": "markdown",
   "id": "04122a6b-f4eb-43e9-88bf-a460d9916815",
   "metadata": {},
   "source": [
    "# Create a _get_examples_batch using the function provided by the creators of VGGish"
   ]
  },
  {
   "cell_type": "code",
   "execution_count": 31,
   "id": "521878fd-5403-4bbb-bb3d-b731ceb64162",
   "metadata": {},
   "outputs": [
    {
     "name": "stdout",
     "output_type": "stream",
     "text": [
      "/home/studio-lab-user/sagemaker-studiolab-notebooks\n"
     ]
    }
   ],
   "source": [
    "cd .."
   ]
  },
  {
   "cell_type": "code",
   "execution_count": 32,
   "id": "96499518-5770-40f8-9de5-06f2115da733",
   "metadata": {},
   "outputs": [
    {
     "name": "stdout",
     "output_type": "stream",
     "text": [
      "/home/studio-lab-user/sagemaker-studiolab-notebooks/VGGish\n"
     ]
    }
   ],
   "source": [
    "cd VGGish"
   ]
  },
  {
   "cell_type": "code",
   "execution_count": 33,
   "id": "aa98be2e-1ed1-47fe-bb50-f12a2fa2631d",
   "metadata": {},
   "outputs": [
    {
     "name": "stdout",
     "output_type": "stream",
     "text": [
      "  % Total    % Received % Xferd  Average Speed   Time    Time     Time  Current\n",
      "                                 Dload  Upload   Total   Spent    Left  Speed\n",
      "100  277M  100  277M    0     0  56.0M      0  0:00:04  0:00:04 --:--:-- 61.4M\n",
      "  % Total    % Received % Xferd  Average Speed   Time    Time     Time  Current\n",
      "                                 Dload  Upload   Total   Spent    Left  Speed\n",
      "100 73020  100 73020    0     0   310k      0 --:--:-- --:--:-- --:--:--  308k\n"
     ]
    }
   ],
   "source": [
    "!curl -O https://storage.googleapis.com/audioset/vggish_model.ckpt\n",
    "!curl -O https://storage.googleapis.com/audioset/vggish_pca_params.npz"
   ]
  },
  {
   "cell_type": "code",
   "execution_count": 35,
   "id": "da03cf56-91d5-4c75-b8c9-b23b25aed0ac",
   "metadata": {},
   "outputs": [],
   "source": [
    "from __future__ import print_function\n",
    "\n",
    "from random import shuffle\n",
    "\n",
    "import numpy as np\n",
    "import tensorflow.compat.v1 as tf\n",
    "import tf_slim as slim\n",
    "\n",
    "import vggish_input\n",
    "import vggish_params\n",
    "import vggish_slim"
   ]
  },
  {
   "cell_type": "code",
   "execution_count": 36,
   "id": "7cb7bd96-b118-4222-87c8-a77b0e154e45",
   "metadata": {},
   "outputs": [],
   "source": [
    "flags = tf.app.flags\n",
    "\n",
    "flags.DEFINE_integer(\n",
    "    'num_batches', 5,\n",
    "    'Number of batches of examples to feed into the model. Each batch is of '\n",
    "    'variable size and contains shuffled examples of each class of audio.')\n",
    "\n",
    "flags.DEFINE_boolean(\n",
    "    'train_vggish', True,\n",
    "    'If True, allow VGGish parameters to change during training, thus '\n",
    "    'fine-tuning VGGish. If False, VGGish parameters are fixed, thus using '\n",
    "    'VGGish as a fixed feature extractor.')\n",
    "\n",
    "flags.DEFINE_string(\n",
    "    'checkpoint', 'vggish_model.ckpt',\n",
    "    'Path to the VGGish checkpoint file.')\n",
    "\n",
    "FLAGS = flags.FLAGS\n",
    "\n",
    "_NUM_CLASSES = 20"
   ]
  },
  {
   "cell_type": "code",
   "execution_count": 48,
   "id": "53ab1782-a7c9-4219-8c6d-8bb98166dd2d",
   "metadata": {},
   "outputs": [],
   "source": [
    "def _get_examples_batch():\n",
    "  \"\"\"Returns a shuffled batch of examples of all audio classes.\n",
    "\n",
    "  Returns:\n",
    "    a tuple (features, labels) where features is a NumPy array of shape\n",
    "    [batch_size, num_frames, num_bands] where the batch_size is variable and\n",
    "    each row is a log mel spectrogram patch of shape [num_frames, num_bands]\n",
    "    suitable for feeding VGGish, while labels is a NumPy array of shape\n",
    "    [batch_size, num_classes] where each row is a multi-hot label vector that\n",
    "    provides the labels for corresponding rows in features.\n",
    "  \"\"\"\n",
    "  # Get file directory.\n",
    "  file1 = \"/home/studio-lab-user/sagemaker-studiolab-notebooks/openmic-2018/audio-ogg/000/000046_3840.ogg\"\n",
    "  file2 = \"/home/studio-lab-user/sagemaker-studiolab-notebooks/openmic-2018/audio-ogg/000/000135_483840.ogg\"\n",
    "  file3 = \"/home/studio-lab-user/sagemaker-studiolab-notebooks/openmic-2018/audio-ogg/000/000139_119040.ogg\"\n",
    "\n",
    "  # Make examples of each signal and corresponding labels.\n",
    "  # Sine is class index 0, Const class index 1, Noise class index 2.\n",
    "  file1_examples = vggish_input.wavfile_to_examples(file1)\n",
    "  file1_labels = np.array([Y_true[0]] * file1_examples.shape[0])\n",
    "  file2_examples = vggish_input.wavfile_to_examples(file2)\n",
    "  file2_labels = np.array([Y_true[1]] * file2_examples.shape[0])\n",
    "  file3_examples = vggish_input.wavfile_to_examples(file3)\n",
    "  file3_labels = np.array([Y_true[2]] * file3_examples.shape[0])\n",
    "\n",
    "  # Shuffle (example, label) pairs across all classes.\n",
    "  all_examples = np.concatenate((file1_examples, file2_examples, file3_examples))\n",
    "  all_labels = np.concatenate((file1_labels, file2_labels, file3_labels))\n",
    "  labeled_examples = list(zip(all_examples, all_labels))\n",
    "  \n",
    "  print(\"finished processing data\")\n",
    "  return labeled_examples"
   ]
  },
  {
   "cell_type": "code",
   "execution_count": 46,
   "id": "ce6c7df0-9b4b-41f5-8bfd-9afc52103cd6",
   "metadata": {},
   "outputs": [],
   "source": [
    "def shuffle_data(labeled_examples):\n",
    "    shuffle(labeled_examples)\n",
    "    # Separate and return the features and labels.\n",
    "    features = [example for (example, _) in labeled_examples]\n",
    "    labels = [label for (_, label) in labeled_examples]\n",
    "    print(\"finished shuffling data\")\n",
    "    return (features, labels)"
   ]
  },
  {
   "cell_type": "code",
   "execution_count": 43,
   "id": "8ae22a42-79c0-4289-8d9d-76f0a0d69ac5",
   "metadata": {},
   "outputs": [],
   "source": [
    "def main(_):\n",
    "  with tf.Graph().as_default(), tf.Session() as sess:\n",
    "    # Define VGGish.\n",
    "    embeddings = vggish_slim.define_vggish_slim(training=FLAGS.train_vggish)\n",
    "\n",
    "    # Define a shallow classification model and associated training ops on top\n",
    "    # of VGGish.\n",
    "    with tf.variable_scope('mymodel'):\n",
    "      # Add a fully connected layer with 100 units. Add an activation function\n",
    "      # to the embeddings since they are pre-activation.\n",
    "      num_units = 100\n",
    "      fc = slim.fully_connected(tf.nn.relu(embeddings), num_units)\n",
    "\n",
    "      # Add a classifier layer at the end, consisting of parallel logistic\n",
    "      # classifiers, one per class. This allows for multi-class tasks.\n",
    "      logits = slim.fully_connected(\n",
    "          fc, _NUM_CLASSES, activation_fn=None, scope='logits')\n",
    "      tf.sigmoid(logits, name='prediction')\n",
    "\n",
    "      # Add training ops.\n",
    "      with tf.variable_scope('train'):\n",
    "        global_step = tf.train.create_global_step()\n",
    "\n",
    "        # Labels are assumed to be fed as a batch multi-hot vectors, with\n",
    "        # a 1 in the position of each positive class label, and 0 elsewhere.\n",
    "        labels_input = tf.placeholder(\n",
    "            tf.float32, shape=(None, _NUM_CLASSES), name='labels')\n",
    "\n",
    "        # Cross-entropy label loss.\n",
    "        xent = tf.nn.sigmoid_cross_entropy_with_logits(\n",
    "            logits=logits, labels=labels_input, name='xent')\n",
    "        loss = tf.reduce_mean(xent, name='loss_op')\n",
    "        tf.summary.scalar('loss', loss)\n",
    "\n",
    "        # We use the same optimizer and hyperparameters as used to train VGGish.\n",
    "        optimizer = tf.train.AdamOptimizer(\n",
    "            learning_rate=vggish_params.LEARNING_RATE,\n",
    "            epsilon=vggish_params.ADAM_EPSILON)\n",
    "        #print(f\"model set epoch\n",
    "        train_op = optimizer.minimize(loss, global_step=global_step)\n",
    "\n",
    "    # Initialize all variables in the model, and then load the pre-trained\n",
    "    # VGGish checkpoint.\n",
    "    sess.run(tf.global_variables_initializer())\n",
    "    vggish_slim.load_vggish_slim_checkpoint(sess, FLAGS.checkpoint)\n",
    "    \n",
    "    # create dataset\n",
    "    labeled_examples = _get_examples_batch()\n",
    "\n",
    "    # The training loop.\n",
    "    features_input = sess.graph.get_tensor_by_name(\n",
    "        vggish_params.INPUT_TENSOR_NAME)\n",
    "    for _ in range(FLAGS.num_batches):\n",
    "      # shuffle original dataset randomly for every epoch\n",
    "      (features, labels) = shuffle_data(labeled_examples)\n",
    "      [num_steps, loss_value, _] = sess.run(\n",
    "          [global_step, loss, train_op],\n",
    "          feed_dict={features_input: features, labels_input: labels})\n",
    "      print('Step %d: loss %g' % (num_steps, loss_value))"
   ]
  },
  {
   "cell_type": "code",
   "execution_count": 49,
   "id": "dfe32344-dcae-45be-a317-221e90ecf4d4",
   "metadata": {},
   "outputs": [
    {
     "name": "stdout",
     "output_type": "stream",
     "text": [
      "INFO:tensorflow:Restoring parameters from vggish_model.ckpt\n"
     ]
    },
    {
     "name": "stderr",
     "output_type": "stream",
     "text": [
      "I1029 04:09:02.457814 140611725608768 saver.py:1410] Restoring parameters from vggish_model.ckpt\n"
     ]
    },
    {
     "name": "stdout",
     "output_type": "stream",
     "text": [
      "finished processing data\n",
      "finished shuffling data\n",
      "Step 0: loss 0.702282\n",
      "finished shuffling data\n",
      "Step 1: loss 0.697097\n",
      "finished shuffling data\n",
      "Step 2: loss 0.693664\n",
      "finished shuffling data\n",
      "Step 3: loss 0.691319\n",
      "finished shuffling data\n",
      "Step 4: loss 0.689453\n"
     ]
    },
    {
     "ename": "SystemExit",
     "evalue": "",
     "output_type": "error",
     "traceback": [
      "An exception has occurred, use %tb to see the full traceback.\n",
      "\u001b[0;31mSystemExit\u001b[0m\n"
     ]
    }
   ],
   "source": [
    "if __name__ == '__main__':\n",
    "  tf.app.run()"
   ]
  },
  {
   "cell_type": "markdown",
   "id": "847d01e4-9e5e-4d18-9766-a8b1f1ea761d",
   "metadata": {},
   "source": [
    "# Using all OpenMIC data for training"
   ]
  },
  {
   "cell_type": "markdown",
   "id": "af3eb1be-9a8c-41b7-b4be-1427ac574e20",
   "metadata": {},
   "source": [
    "## Get time"
   ]
  },
  {
   "cell_type": "code",
   "execution_count": 87,
   "id": "af25b6ad-3d30-472b-b68f-0fdf809fd4c1",
   "metadata": {},
   "outputs": [],
   "source": [
    "from datetime import datetime"
   ]
  },
  {
   "cell_type": "code",
   "execution_count": 86,
   "id": "b7f95b69-f7c3-4032-8084-6ec460c3335c",
   "metadata": {},
   "outputs": [],
   "source": [
    "def get_time():\n",
    "    now = datetime.now()\n",
    "    current_time = now.strftime(\"%H:%M:%S\")\n",
    "    print(\"Current Time =\", current_time)"
   ]
  },
  {
   "cell_type": "code",
   "execution_count": 88,
   "id": "5047c65e-e0d2-4a8e-9947-52c6448f6d0a",
   "metadata": {},
   "outputs": [
    {
     "name": "stdout",
     "output_type": "stream",
     "text": [
      "Current Time = 12:49:07\n"
     ]
    }
   ],
   "source": [
    "get_time()"
   ]
  },
  {
   "cell_type": "markdown",
   "id": "7b1d371e-0616-4728-a025-a7904dd0b7f0",
   "metadata": {},
   "source": [
    "## Get labels"
   ]
  },
  {
   "cell_type": "code",
   "execution_count": 5,
   "id": "99de074d-70d8-4c91-9fa1-d75f14eb7b3a",
   "metadata": {},
   "outputs": [
    {
     "name": "stdout",
     "output_type": "stream",
     "text": [
      "/home/studio-lab-user/sagemaker-studiolab-notebooks\n"
     ]
    }
   ],
   "source": [
    "cd .."
   ]
  },
  {
   "cell_type": "code",
   "execution_count": 6,
   "id": "49f27f1e-a622-4439-aa32-32b68cbe197b",
   "metadata": {},
   "outputs": [
    {
     "name": "stdout",
     "output_type": "stream",
     "text": [
      "/home/studio-lab-user/sagemaker-studiolab-notebooks/openmic-2018\n"
     ]
    }
   ],
   "source": [
    "cd openmic-2018"
   ]
  },
  {
   "cell_type": "code",
   "execution_count": 7,
   "id": "303b69da-c288-4166-b323-e92ff1999cf0",
   "metadata": {},
   "outputs": [],
   "source": [
    "import json\n",
    "import os\n",
    "import numpy as np\n",
    "#!pip install pandas\n",
    "import pandas as pd"
   ]
  },
  {
   "cell_type": "code",
   "execution_count": 8,
   "id": "d7bc19cf-643a-46e5-8d7a-442ead44487d",
   "metadata": {},
   "outputs": [
    {
     "name": "stdout",
     "output_type": "stream",
     "text": [
      "(20000, 10, 128) (20000, 20) (20000, 20) (20000,)\n"
     ]
    }
   ],
   "source": [
    "data = np.load(\"openmic-2018.npz\", allow_pickle = True)\n",
    "X, Y_true, Y_mask, sample_key = data['X'], data['Y_true'], data['Y_mask'], data['sample_key']\n",
    "print(X.shape, Y_true.shape, Y_mask.shape, sample_key.shape)"
   ]
  },
  {
   "cell_type": "markdown",
   "id": "e014b5bd-0a3e-4516-887d-3475acb23aca",
   "metadata": {},
   "source": [
    "## Training proper"
   ]
  },
  {
   "cell_type": "code",
   "execution_count": 31,
   "id": "cc6364ce-f481-444f-bdf1-d0e9a251ccb0",
   "metadata": {},
   "outputs": [
    {
     "name": "stdout",
     "output_type": "stream",
     "text": [
      "/home/studio-lab-user/sagemaker-studiolab-notebooks\n"
     ]
    }
   ],
   "source": [
    "cd .."
   ]
  },
  {
   "cell_type": "code",
   "execution_count": 32,
   "id": "90791d01-abf9-4e49-a998-499428635e33",
   "metadata": {},
   "outputs": [
    {
     "name": "stdout",
     "output_type": "stream",
     "text": [
      "/home/studio-lab-user/sagemaker-studiolab-notebooks/VGGish\n"
     ]
    }
   ],
   "source": [
    "cd VGGish"
   ]
  },
  {
   "cell_type": "code",
   "execution_count": 33,
   "id": "7e0c7cde-b24b-4091-a614-442fca846a46",
   "metadata": {},
   "outputs": [
    {
     "name": "stdout",
     "output_type": "stream",
     "text": [
      "  % Total    % Received % Xferd  Average Speed   Time    Time     Time  Current\n",
      "                                 Dload  Upload   Total   Spent    Left  Speed\n",
      "100  277M  100  277M    0     0  56.0M      0  0:00:04  0:00:04 --:--:-- 61.4M\n",
      "  % Total    % Received % Xferd  Average Speed   Time    Time     Time  Current\n",
      "                                 Dload  Upload   Total   Spent    Left  Speed\n",
      "100 73020  100 73020    0     0   310k      0 --:--:-- --:--:-- --:--:--  308k\n"
     ]
    }
   ],
   "source": [
    "!curl -O https://storage.googleapis.com/audioset/vggish_model.ckpt\n",
    "!curl -O https://storage.googleapis.com/audioset/vggish_pca_params.npz"
   ]
  },
  {
   "cell_type": "code",
   "execution_count": 35,
   "id": "d68637c2-3810-48a4-86ec-2ce95c01b612",
   "metadata": {},
   "outputs": [],
   "source": [
    "from __future__ import print_function\n",
    "\n",
    "from random import shuffle\n",
    "\n",
    "import numpy as np\n",
    "import tensorflow.compat.v1 as tf\n",
    "import tf_slim as slim\n",
    "\n",
    "import vggish_input\n",
    "import vggish_params\n",
    "import vggish_slim"
   ]
  },
  {
   "cell_type": "code",
   "execution_count": 36,
   "id": "ad4ca0b3-2a86-4e1e-915d-5726b8152d0c",
   "metadata": {},
   "outputs": [],
   "source": [
    "flags = tf.app.flags\n",
    "\n",
    "flags.DEFINE_integer(\n",
    "    'num_batches', 5,\n",
    "    'Number of batches of examples to feed into the model. Each batch is of '\n",
    "    'variable size and contains shuffled examples of each class of audio.')\n",
    "\n",
    "flags.DEFINE_boolean(\n",
    "    'train_vggish', True,\n",
    "    'If True, allow VGGish parameters to change during training, thus '\n",
    "    'fine-tuning VGGish. If False, VGGish parameters are fixed, thus using '\n",
    "    'VGGish as a fixed feature extractor.')\n",
    "\n",
    "flags.DEFINE_string(\n",
    "    'checkpoint', 'vggish_model.ckpt',\n",
    "    'Path to the VGGish checkpoint file.')\n",
    "\n",
    "FLAGS = flags.FLAGS\n",
    "\n",
    "_NUM_CLASSES = 20"
   ]
  },
  {
   "cell_type": "code",
   "execution_count": 67,
   "id": "095bf5f2-c334-43a2-b9e7-45146cca7433",
   "metadata": {},
   "outputs": [],
   "source": [
    "import os\n",
    "\n",
    "folder = \"/home/studio-lab-user/sagemaker-studiolab-notebooks/openmic-2018/audio-ogg\"\n",
    "\n",
    "# inputs folder path (e.g. audio-ogg folder) and outputs a list of file paths from the root\n",
    "def get_ogg_files(folder_path):\n",
    "    oggfilelist=[]\n",
    "    for root, dir_names, file_names in os.walk(folder_path):\n",
    "        # returns directory (e.g. folder 000) path from the root i.e. /home/\n",
    "        # and file names\n",
    "        for file in file_names:\n",
    "            # append the full file name to the list\n",
    "            full_name = root + \"/\" + file\n",
    "            oggfilelist.append(full_name)\n",
    "    # print(len(oggfilelist1))\n",
    "    # print(oggfilelist1[0])\n",
    "    return oggfilelist"
   ]
  },
  {
   "cell_type": "code",
   "execution_count": 68,
   "id": "bdf5ef87-52c5-4e6e-89b2-73c4207fb2b3",
   "metadata": {},
   "outputs": [
    {
     "name": "stdout",
     "output_type": "stream",
     "text": [
      "20000\n",
      "/home/studio-lab-user/sagemaker-studiolab-notebooks/openmic-2018/audio-ogg/000/000046_3840.ogg\n"
     ]
    }
   ],
   "source": [
    "folder1 = \"/home/studio-lab-user/sagemaker-studiolab-notebooks/openmic-2018/audio-ogg\"\n",
    "hi = get_ogg_files(folder1)\n",
    "print(len(hi))\n",
    "print(hi[0])"
   ]
  },
  {
   "cell_type": "code",
   "execution_count": 89,
   "id": "2af4c9da-aa9e-4fe6-af81-b3b5064cb2db",
   "metadata": {},
   "outputs": [],
   "source": [
    "def _get_examples_batch(folder):\n",
    "  \"\"\"Returns a shuffled batch of examples of all audio classes.\n",
    "\n",
    "  Returns:\n",
    "    a tuple (features, labels) where features is a NumPy array of shape\n",
    "    [batch_size, num_frames, num_bands] where the batch_size is variable and\n",
    "    each row is a log mel spectrogram patch of shape [num_frames, num_bands]\n",
    "    suitable for feeding VGGish, while labels is a NumPy array of shape\n",
    "    [batch_size, num_classes] where each row is a multi-hot label vector that\n",
    "    provides the labels for corresponding rows in features.\n",
    "  \"\"\"\n",
    "  # Get files from folder directory.\n",
    "  files = get_ogg_files(folder)\n",
    "  \n",
    "  all_examples = []\n",
    "  all_labels = []\n",
    "  # Make examples from all ogg files and their respective labels obtained\n",
    "  counter = 0\n",
    "  for file in files:\n",
    "      file_examples = vggish_input.wavfile_to_examples(file)\n",
    "      file_labels = np.array([Y_true[counter]] * file_examples.shape[0])\n",
    "      all_examples.append(file_examples)\n",
    "      all_labels.append(file_labels)\n",
    "      #print(\"file added\")\n",
    "      counter += 1\n",
    "\n",
    "  # concatenate arrays in the original list\n",
    "  all_examples = np.vstack(all_examples)\n",
    "  all_labels = np.vstack(all_labels)\n",
    "    \n",
    "  # Shuffle (example, label) pairs across all classes.\n",
    "  labeled_examples = list(zip(all_examples, all_labels))\n",
    "  \n",
    "  print(\"finished processing data\")\n",
    "  return labeled_examples"
   ]
  },
  {
   "cell_type": "code",
   "execution_count": 76,
   "id": "32fe06fc-44f0-4ad1-b239-88306487bdd4",
   "metadata": {
    "collapsed": true,
    "jupyter": {
     "outputs_hidden": true
    },
    "scrolled": true,
    "tags": []
   },
   "outputs": [
    {
     "name": "stdout",
     "output_type": "stream",
     "text": [
      "file added\n",
      "file added\n",
      "file added\n",
      "file added\n",
      "file added\n",
      "file added\n",
      "file added\n",
      "file added\n",
      "file added\n",
      "file added\n",
      "file added\n",
      "file added\n",
      "file added\n",
      "file added\n",
      "file added\n",
      "file added\n",
      "file added\n",
      "file added\n",
      "file added\n",
      "file added\n",
      "file added\n",
      "file added\n",
      "file added\n",
      "file added\n",
      "file added\n",
      "file added\n",
      "file added\n",
      "file added\n",
      "file added\n",
      "file added\n",
      "file added\n",
      "file added\n",
      "file added\n",
      "file added\n",
      "file added\n",
      "file added\n",
      "file added\n",
      "file added\n",
      "file added\n",
      "file added\n",
      "file added\n",
      "file added\n",
      "file added\n",
      "file added\n",
      "file added\n",
      "file added\n",
      "file added\n",
      "file added\n",
      "file added\n",
      "file added\n",
      "file added\n",
      "file added\n",
      "file added\n",
      "file added\n",
      "file added\n",
      "file added\n",
      "file added\n",
      "file added\n",
      "file added\n",
      "file added\n",
      "file added\n",
      "file added\n",
      "file added\n",
      "file added\n",
      "file added\n",
      "file added\n",
      "file added\n",
      "file added\n",
      "file added\n",
      "file added\n",
      "file added\n",
      "file added\n",
      "file added\n",
      "file added\n",
      "file added\n",
      "file added\n",
      "file added\n",
      "file added\n",
      "file added\n",
      "file added\n",
      "file added\n",
      "file added\n",
      "file added\n",
      "file added\n",
      "file added\n",
      "file added\n",
      "file added\n",
      "file added\n",
      "file added\n",
      "file added\n",
      "file added\n",
      "file added\n",
      "file added\n",
      "file added\n",
      "file added\n",
      "file added\n",
      "file added\n",
      "file added\n",
      "file added\n",
      "file added\n",
      "file added\n",
      "file added\n",
      "file added\n",
      "file added\n",
      "file added\n",
      "file added\n",
      "file added\n",
      "file added\n",
      "file added\n",
      "file added\n",
      "file added\n",
      "file added\n",
      "file added\n",
      "file added\n",
      "file added\n",
      "file added\n",
      "file added\n",
      "file added\n",
      "file added\n",
      "file added\n",
      "file added\n",
      "file added\n",
      "file added\n",
      "file added\n",
      "file added\n",
      "file added\n",
      "file added\n",
      "file added\n",
      "file added\n",
      "file added\n",
      "file added\n",
      "file added\n",
      "finished processing data\n",
      "[[[-4.60517019 -4.60517019 -4.60517019 ... -4.60517018 -4.60517018\n",
      "   -4.60517018]\n",
      "  [-3.94155248 -3.9357058  -3.93155558 ... -4.59706849 -4.58253814\n",
      "   -4.59383744]\n",
      "  [-1.59588821 -1.65394625 -1.14937582 ... -4.21923166 -4.22545079\n",
      "   -4.41219216]\n",
      "  ...\n",
      "  [ 0.76548139 -0.31419836 -1.25551619 ... -2.6831202  -2.85118572\n",
      "   -3.60847323]\n",
      "  [ 0.79155551 -0.30155892 -0.86230582 ... -2.97918842 -3.01579891\n",
      "   -3.45995776]\n",
      "  [ 0.76927982 -0.30792117 -1.01117965 ... -2.66782123 -2.79286705\n",
      "   -3.60209426]]\n",
      "\n",
      " [[ 0.74437676 -0.33363143 -1.11181284 ... -2.90086933 -2.96260601\n",
      "   -3.86592865]\n",
      "  [ 0.7943631  -0.24775016 -0.77419447 ... -2.87923259 -3.00991247\n",
      "   -4.0562803 ]\n",
      "  [ 0.80614252 -0.25288871 -0.83607917 ... -2.81153544 -2.99438679\n",
      "   -3.92011053]\n",
      "  ...\n",
      "  [ 0.16670749 -0.74853886 -0.45776602 ... -3.44136588 -2.95652666\n",
      "   -3.54402445]\n",
      "  [ 0.15776797 -1.01660273 -0.36791859 ... -2.99970814 -2.96428181\n",
      "   -3.57591045]\n",
      "  [ 0.13645763 -1.00499936 -0.40712822 ... -3.38280572 -2.70620402\n",
      "   -3.25416036]]\n",
      "\n",
      " [[ 0.11426039 -0.7600699  -0.38932365 ... -3.45624847 -2.8649446\n",
      "   -3.42716033]\n",
      "  [ 0.12276186 -0.95158338 -0.46880119 ... -3.52470979 -3.25407152\n",
      "   -3.54237434]\n",
      "  [ 0.13046307 -1.11373212 -0.32730294 ... -3.56193273 -3.29412472\n",
      "   -3.33589749]\n",
      "  ...\n",
      "  [-0.51192334 -1.66681586 -0.20347185 ... -3.0138732  -2.56814664\n",
      "   -3.52334908]\n",
      "  [-0.62550486 -1.50165533 -0.22635014 ... -2.96554849 -2.58020088\n",
      "   -3.28828635]\n",
      "  [-0.50546204 -1.77665627 -0.16763697 ... -3.15205538 -2.84299076\n",
      "   -3.60568865]]\n",
      "\n",
      " ...\n",
      "\n",
      " [[ 2.57543792  3.09304439  2.93689124 ... -1.30356548 -0.81781538\n",
      "   -0.93476639]\n",
      "  [ 2.0926874   2.90761882  2.80048188 ... -1.05369238 -0.52495399\n",
      "   -0.34592847]\n",
      "  [ 2.42576967  2.8384654   2.57305699 ... -1.09472893 -0.74022038\n",
      "   -0.73964358]\n",
      "  ...\n",
      "  [ 1.90144355  2.36138243  1.99089369 ... -1.09083571 -0.38329198\n",
      "   -1.06501673]\n",
      "  [ 1.84342222  2.35966367  2.19031709 ... -0.76171076 -0.6191598\n",
      "   -1.23242873]\n",
      "  [ 1.57334839  2.27033983  2.21128476 ... -0.50342717 -0.57642175\n",
      "   -0.88659153]]\n",
      "\n",
      " [[ 1.90836732  2.31976079  1.97260409 ... -0.60884252 -0.34999822\n",
      "   -0.8848128 ]\n",
      "  [ 1.62580172  2.26822352  2.02333661 ... -0.55172265 -0.61201334\n",
      "   -0.79500195]\n",
      "  [ 1.78530264  2.32089951  2.25756112 ... -0.6130848  -0.60845359\n",
      "   -0.7805301 ]\n",
      "  ...\n",
      "  [ 1.95329001  2.21938389  1.51586548 ... -0.16773761 -0.04312441\n",
      "   -0.27672977]\n",
      "  [ 2.37547361  2.52240737  1.98710895 ... -0.52815487 -0.64527247\n",
      "   -0.05102499]\n",
      "  [ 2.32940488  2.60665262  2.1312043  ... -0.18593048 -0.25781328\n",
      "    0.26184518]]\n",
      "\n",
      " [[ 2.51149453  2.60651203  1.96133896 ... -0.521486   -0.08668707\n",
      "    0.56043407]\n",
      "  [ 2.34245532  2.46880769  1.74214255 ... -0.20441542 -0.13434715\n",
      "   -0.17198743]\n",
      "  [ 2.36846426  2.47827471  1.8040517  ... -0.04506807  0.16628694\n",
      "    0.38816167]\n",
      "  ...\n",
      "  [ 2.32895718  2.87466782  2.54148587 ... -0.47428836 -0.35848927\n",
      "   -0.57632454]\n",
      "  [ 2.69073276  2.9098468   2.44787603 ... -0.43853564 -0.50331557\n",
      "   -0.66511921]\n",
      "  [ 2.39707648  2.81003938  2.3965639  ... -0.03917692 -0.55333859\n",
      "   -0.42275099]]]\n",
      "[[[-4.60517019 -4.60517019 -4.60517019 ... -4.60517014 -4.60517012\n",
      "   -4.6051701 ]\n",
      "  [-3.41496833 -3.55346447 -3.64175458 ... -3.68486715 -3.58752429\n",
      "   -3.64830443]\n",
      "  [ 0.88815754  0.25996079 -0.80448801 ... -0.18548638 -0.32806252\n",
      "   -0.30434265]\n",
      "  ...\n",
      "  [ 2.75165775  2.94114699  2.81470197 ...  0.91993235  0.89933348\n",
      "    0.274154  ]\n",
      "  [ 0.32010584  1.80578126  2.01136491 ...  1.11106786  1.15425457\n",
      "    0.05780091]\n",
      "  [ 1.47926492  2.08981104  2.12539559 ...  0.58511788  0.37617967\n",
      "    0.50977814]]\n",
      "\n",
      " [[ 1.85310274  2.40507354  2.13459028 ...  0.96819961  0.64373466\n",
      "    0.52908828]\n",
      "  [ 1.90875745  2.41088557  2.17407707 ...  0.93274921  0.65420069\n",
      "    0.15159022]\n",
      "  [ 1.82132291  2.47125537  2.5188227  ...  1.0757243   0.83712201\n",
      "    0.60371042]\n",
      "  ...\n",
      "  [ 1.45898428  1.21604712  0.49155892 ... -0.23097319 -0.03134018\n",
      "   -0.08261642]\n",
      "  [ 1.60802432  1.86772023  1.32628195 ...  0.37507083  0.45928136\n",
      "    0.07690329]\n",
      "  [ 2.19630483  2.31979255  1.71053824 ...  0.10936475  0.31041218\n",
      "    0.10119259]]\n",
      "\n",
      " [[ 1.87054157  2.15769924  1.76589936 ...  0.23609442 -0.01897661\n",
      "   -0.04096161]\n",
      "  [ 1.18124448  1.76346638  1.47711318 ...  0.28286485  0.45801263\n",
      "   -0.25301967]\n",
      "  [ 1.03700186  1.45116908  1.26560907 ...  0.63325932  0.13855689\n",
      "   -0.55326943]\n",
      "  ...\n",
      "  [ 2.04665594  2.80561993  2.61255663 ...  0.71193417  0.74366068\n",
      "    0.11057586]\n",
      "  [ 2.29362604  2.84555607  2.61414684 ...  0.47252974  0.38482102\n",
      "    0.02614757]\n",
      "  [ 2.28866936  2.88127064  2.86168342 ...  1.23764505  1.13123015\n",
      "    0.69656046]]\n",
      "\n",
      " ...\n",
      "\n",
      " [[ 2.00719983  1.95209577  0.62225669 ...  0.48551207  0.29982613\n",
      "   -0.23622978]\n",
      "  [ 2.34707901  2.2542495   1.50094898 ... -0.12159351  0.49249944\n",
      "    0.2494377 ]\n",
      "  [ 2.37847596  2.32688154  1.37621566 ...  0.05708949 -0.16733751\n",
      "   -0.2530948 ]\n",
      "  ...\n",
      "  [ 0.97691467  1.67591051  2.04827514 ...  1.01806627  1.14262855\n",
      "    0.81921352]\n",
      "  [ 0.65816686  1.01779825  1.80076125 ...  1.37342675  1.17393005\n",
      "    0.82621864]\n",
      "  [ 1.46254185  1.73911494  2.2374225  ...  1.37624471  1.37396653\n",
      "    0.77970585]]\n",
      "\n",
      " [[ 1.79222864  1.82300604  2.18831192 ...  0.90931095  0.87863407\n",
      "    0.67766315]\n",
      "  [ 2.15386599  1.65547051  1.59202578 ...  0.98960507  0.55087388\n",
      "    0.24961528]\n",
      "  [ 2.29688174  2.00551262  1.01466178 ...  0.63106648  0.75645621\n",
      "    0.82636019]\n",
      "  ...\n",
      "  [ 1.1880379   1.30398733  1.10726288 ...  0.80932324  0.35794202\n",
      "    0.44827536]\n",
      "  [ 1.69201909  1.44891441  1.81899111 ...  1.08118863  0.84997103\n",
      "    0.46564684]\n",
      "  [ 1.35438622  1.69768289  1.44947504 ...  1.29574975  1.16349145\n",
      "    0.95670456]]\n",
      "\n",
      " [[ 0.54566354  1.29729731  1.0640654  ...  1.45901379  1.37124914\n",
      "    0.92127184]\n",
      "  [ 0.93709894  1.17628259  1.44582185 ...  1.47467699  1.44567679\n",
      "    0.92061717]\n",
      "  [ 2.10396038  2.20679477  1.85051456 ...  1.53440892  0.96744647\n",
      "    0.83592573]\n",
      "  ...\n",
      "  [ 2.57899595  3.26019658  3.17713013 ...  0.66417104  0.70492969\n",
      "    0.50405035]\n",
      "  [ 2.9026615   3.34409561  3.17767368 ...  0.32943437  0.42889078\n",
      "    0.38319113]\n",
      "  [ 2.2996261   3.09212828  2.97443163 ...  0.49350692  0.25339355\n",
      "    0.35382344]]]\n"
     ]
    }
   ],
   "source": [
    "folder1 = \"/home/studio-lab-user/sagemaker-studiolab-notebooks/openmic-2018/audio-ogg/000\"\n",
    "examples = _get_examples_batch(folder1)\n",
    "print(examples[0][0])\n",
    "print(examples[1][0])"
   ]
  },
  {
   "cell_type": "code",
   "execution_count": 79,
   "id": "1ba2356b-3b5c-4339-b7a7-382ac126bc0a",
   "metadata": {},
   "outputs": [
    {
     "data": {
      "text/plain": [
       "132"
      ]
     },
     "execution_count": 79,
     "metadata": {},
     "output_type": "execute_result"
    }
   ],
   "source": [
    "len(examples)"
   ]
  },
  {
   "cell_type": "code",
   "execution_count": 46,
   "id": "5e20343f-0e65-4ae1-9667-290f96f897ac",
   "metadata": {},
   "outputs": [],
   "source": [
    "def shuffle_data(labeled_examples):\n",
    "    shuffle(labeled_examples)\n",
    "    # Separate and return the features and labels.\n",
    "    features = [example for (example, _) in labeled_examples]\n",
    "    labels = [label for (_, label) in labeled_examples]\n",
    "    print(\"finished shuffling data\")\n",
    "    return (features, labels)"
   ]
  },
  {
   "cell_type": "code",
   "execution_count": 80,
   "id": "16bf6cd5-62d8-4960-a6f8-31247cad3c1a",
   "metadata": {},
   "outputs": [],
   "source": [
    "def main(_):\n",
    "  with tf.Graph().as_default(), tf.Session() as sess:\n",
    "    # Define VGGish.\n",
    "    embeddings = vggish_slim.define_vggish_slim(training=FLAGS.train_vggish)\n",
    "\n",
    "    # Define a shallow classification model and associated training ops on top\n",
    "    # of VGGish.\n",
    "    with tf.variable_scope('mymodel'):\n",
    "      # Add a fully connected layer with 100 units. Add an activation function\n",
    "      # to the embeddings since they are pre-activation.\n",
    "      num_units = 100\n",
    "      fc = slim.fully_connected(tf.nn.relu(embeddings), num_units)\n",
    "\n",
    "      # Add a classifier layer at the end, consisting of parallel logistic\n",
    "      # classifiers, one per class. This allows for multi-class tasks.\n",
    "      logits = slim.fully_connected(\n",
    "          fc, _NUM_CLASSES, activation_fn=None, scope='logits')\n",
    "      tf.sigmoid(logits, name='prediction')\n",
    "\n",
    "      # Add training ops.\n",
    "      with tf.variable_scope('train'):\n",
    "        global_step = tf.train.create_global_step()\n",
    "\n",
    "        # Labels are assumed to be fed as a batch multi-hot vectors, with\n",
    "        # a 1 in the position of each positive class label, and 0 elsewhere.\n",
    "        labels_input = tf.placeholder(\n",
    "            tf.float32, shape=(None, _NUM_CLASSES), name='labels')\n",
    "\n",
    "        # Cross-entropy label loss.\n",
    "        xent = tf.nn.sigmoid_cross_entropy_with_logits(\n",
    "            logits=logits, labels=labels_input, name='xent')\n",
    "        loss = tf.reduce_mean(xent, name='loss_op')\n",
    "        tf.summary.scalar('loss', loss)\n",
    "\n",
    "        # We use the same optimizer and hyperparameters as used to train VGGish.\n",
    "        optimizer = tf.train.AdamOptimizer(\n",
    "            learning_rate=vggish_params.LEARNING_RATE,\n",
    "            epsilon=vggish_params.ADAM_EPSILON)\n",
    "        #print(f\"model set epoch\n",
    "        train_op = optimizer.minimize(loss, global_step=global_step)\n",
    "\n",
    "    # Initialize all variables in the model, and then load the pre-trained\n",
    "    # VGGish checkpoint.\n",
    "    sess.run(tf.global_variables_initializer())\n",
    "    vggish_slim.load_vggish_slim_checkpoint(sess, FLAGS.checkpoint)\n",
    "    \n",
    "    # create dataset\n",
    "    labeled_examples = _get_examples_batch(folder1)\n",
    "    # print current time\n",
    "    get_time()\n",
    "\n",
    "    # The training loop.\n",
    "    features_input = sess.graph.get_tensor_by_name(\n",
    "        vggish_params.INPUT_TENSOR_NAME)\n",
    "    for _ in range(FLAGS.num_batches):\n",
    "      # shuffle original dataset randomly for every epoch\n",
    "      (features, labels) = shuffle_data(labeled_examples)\n",
    "      [num_steps, loss_value, _] = sess.run(\n",
    "          [global_step, loss, train_op],\n",
    "          feed_dict={features_input: features, labels_input: labels})\n",
    "      get_time()\n",
    "      print('Step %d: loss %g' % (num_steps, loss_value))"
   ]
  },
  {
   "cell_type": "code",
   "execution_count": 85,
   "id": "1a3a1700-5a9f-4c79-a699-29ab2192ba22",
   "metadata": {},
   "outputs": [
    {
     "name": "stdout",
     "output_type": "stream",
     "text": [
      "INFO:tensorflow:Restoring parameters from vggish_model.ckpt\n"
     ]
    },
    {
     "name": "stderr",
     "output_type": "stream",
     "text": [
      "I1029 12:40:13.930780 140611725608768 saver.py:1410] Restoring parameters from vggish_model.ckpt\n"
     ]
    },
    {
     "name": "stdout",
     "output_type": "stream",
     "text": [
      "finished processing data\n",
      "finished shuffling data\n"
     ]
    },
    {
     "name": "stderr",
     "output_type": "stream",
     "text": [
      "2022-10-29 12:41:07.605076: W tensorflow/core/framework/cpu_allocator_impl.cc:82] Allocation of 2076180480 exceeds 10% of free system memory.\n",
      "2022-10-29 12:41:08.652798: W tensorflow/core/framework/cpu_allocator_impl.cc:82] Allocation of 519045120 exceeds 10% of free system memory.\n",
      "2022-10-29 12:41:08.936525: W tensorflow/core/framework/cpu_allocator_impl.cc:82] Allocation of 1038090240 exceeds 10% of free system memory.\n",
      "2022-10-29 12:41:10.671034: W tensorflow/core/framework/cpu_allocator_impl.cc:82] Allocation of 519045120 exceeds 10% of free system memory.\n",
      "2022-10-29 12:41:12.048669: W tensorflow/core/framework/cpu_allocator_impl.cc:82] Allocation of 519045120 exceeds 10% of free system memory.\n"
     ]
    },
    {
     "name": "stdout",
     "output_type": "stream",
     "text": [
      "Step 0: loss 0.701833\n",
      "finished shuffling data\n",
      "Step 1: loss 0.700097\n",
      "finished shuffling data\n",
      "Step 2: loss 0.698753\n",
      "finished shuffling data\n",
      "Step 3: loss 0.697666\n",
      "finished shuffling data\n",
      "Step 4: loss 0.69671\n"
     ]
    },
    {
     "ename": "SystemExit",
     "evalue": "",
     "output_type": "error",
     "traceback": [
      "An exception has occurred, use %tb to see the full traceback.\n",
      "\u001b[0;31mSystemExit\u001b[0m\n"
     ]
    }
   ],
   "source": [
    "if __name__ == '__main__':\n",
    "  tf.app.run()"
   ]
  },
  {
   "cell_type": "code",
   "execution_count": null,
   "id": "b0877690-b688-487b-a526-70df8f6ecbaf",
   "metadata": {},
   "outputs": [],
   "source": []
  }
 ],
 "metadata": {
  "kernelspec": {
   "display_name": "default:Python",
   "language": "python",
   "name": "conda-env-default-py"
  },
  "language_info": {
   "codemirror_mode": {
    "name": "ipython",
    "version": 3
   },
   "file_extension": ".py",
   "mimetype": "text/x-python",
   "name": "python",
   "nbconvert_exporter": "python",
   "pygments_lexer": "ipython3",
   "version": "3.9.13"
  }
 },
 "nbformat": 4,
 "nbformat_minor": 5
}
