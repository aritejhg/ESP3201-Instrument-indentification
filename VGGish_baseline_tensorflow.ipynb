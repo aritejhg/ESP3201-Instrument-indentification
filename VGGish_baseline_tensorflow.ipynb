{
  "nbformat": 4,
  "nbformat_minor": 0,
  "metadata": {
    "colab": {
      "provenance": [],
      "collapsed_sections": [],
      "authorship_tag": "ABX9TyPjvII6fbMZIc9BQkuPKHwd",
      "include_colab_link": true
    },
    "kernelspec": {
      "name": "python3",
      "display_name": "Python 3"
    },
    "language_info": {
      "name": "python"
    },
    "accelerator": "GPU",
    "gpuClass": "standard"
  },
  "cells": [
    {
      "cell_type": "markdown",
      "metadata": {
        "id": "view-in-github",
        "colab_type": "text"
      },
      "source": [
        "<a href=\"https://colab.research.google.com/github/aritejhg/ESP3201-Instrument-indentification/blob/main/VGGish_baseline_tensorflow.ipynb\" target=\"_parent\"><img src=\"https://colab.research.google.com/assets/colab-badge.svg\" alt=\"Open In Colab\"/></a>"
      ]
    },
    {
      "cell_type": "markdown",
      "source": [
        "This colab demonstrates how to extract the AudioSet embeddings, using a VGGish deep neural network (DNN).\n",
        "\n",
        "It's an updated version of malcolmslaney's original, modified to work with the updated tensorflow/models VGGish distribution, as well as TensorFlow 2."
      ],
      "metadata": {
        "id": "DgBODMCAnzuG"
      }
    },
    {
      "cell_type": "code",
      "execution_count": null,
      "metadata": {
        "id": "Q1Ds3Uuyrb4C"
      },
      "outputs": [],
      "source": [
        "# Upgrade pip first. Also make sure wheel is installed.\n",
        "!pip install --upgrade pip wheel"
      ]
    },
    {
      "cell_type": "code",
      "source": [
        "# Download original zip\n",
        "!wget https://zenodo.org/record/1432913/files/openmic-2018-v1.0.0.tgz"
      ],
      "metadata": {
        "colab": {
          "base_uri": "https://localhost:8080/"
        },
        "id": "RN1ugAtKWG0u",
        "outputId": "a8d20400-d385-4b23-de35-6eac69d10d7c"
      },
      "execution_count": null,
      "outputs": [
        {
          "output_type": "stream",
          "name": "stdout",
          "text": [
            "--2022-11-03 03:08:48--  https://zenodo.org/record/1432913/files/openmic-2018-v1.0.0.tgz\n",
            "Resolving zenodo.org (zenodo.org)... 188.184.117.155\n",
            "Connecting to zenodo.org (zenodo.org)|188.184.117.155|:443... connected.\n",
            "HTTP request sent, awaiting response... 200 OK\n",
            "Length: 2623376754 (2.4G) [application/octet-stream]\n",
            "Saving to: ‘openmic-2018-v1.0.0.tgz’\n",
            "\n",
            "openmic-2018-v1.0.0 100%[===================>]   2.44G  22.7MB/s    in 2m 10s  \n",
            "\n",
            "2022-11-03 03:11:00 (19.2 MB/s) - ‘openmic-2018-v1.0.0.tgz’ saved [2623376754/2623376754]\n",
            "\n"
          ]
        }
      ]
    },
    {
      "cell_type": "code",
      "source": [
        "# no need to copy zip to drive anymore since download is fast\n",
        "# %cp \"/content/openmic-2018-v1.0.0.tgz\" \"/content/drive/MyDrive/ESP3201/Datasets/openmic-2018-v1.0.0.tgz\""
      ],
      "metadata": {
        "id": "txycXlwmdvlo"
      },
      "execution_count": null,
      "outputs": []
    },
    {
      "cell_type": "code",
      "source": [
        "# Extract and delete the zip\n",
        "!tar --extract --file /content/openmic-2018-v1.0.0.tgz\n",
        "!rm /content/openmic-2018-v1.0.0.tgz"
      ],
      "metadata": {
        "id": "Nyv1bcohe8tR"
      },
      "execution_count": null,
      "outputs": []
    },
    {
      "cell_type": "code",
      "source": [
        "%cd .."
      ],
      "metadata": {
        "colab": {
          "base_uri": "https://localhost:8080/"
        },
        "id": "XUrP9GpBIZp5",
        "outputId": "4302e5af-6ef5-4361-d100-8823fa42a86d"
      },
      "execution_count": null,
      "outputs": [
        {
          "output_type": "stream",
          "name": "stdout",
          "text": [
            "/content\n"
          ]
        }
      ]
    },
    {
      "cell_type": "code",
      "source": [
        "%cd /content/openmic-2018"
      ],
      "metadata": {
        "colab": {
          "base_uri": "https://localhost:8080/"
        },
        "id": "yePIIieiGK_x",
        "outputId": "0f07c1fc-2cfe-42fb-da2a-5c5b2fb08604"
      },
      "execution_count": null,
      "outputs": [
        {
          "output_type": "stream",
          "name": "stdout",
          "text": [
            "/content/openmic-2018\n"
          ]
        }
      ]
    },
    {
      "cell_type": "code",
      "source": [
        "!pwd"
      ],
      "metadata": {
        "colab": {
          "base_uri": "https://localhost:8080/"
        },
        "id": "760fXB-BGU3M",
        "outputId": "e1105fd9-984e-4cd2-ec91-982f86f47ac0"
      },
      "execution_count": null,
      "outputs": [
        {
          "output_type": "stream",
          "name": "stdout",
          "text": [
            "/content/openmic-2018\n"
          ]
        }
      ]
    },
    {
      "cell_type": "code",
      "source": [
        "# These dependencies are necessary for loading the data\n",
        "import json\n",
        "import os\n",
        "import numpy as np\n",
        "#!pip install pandas\n",
        "import pandas as pd\n",
        "import tensorflow as tf\n",
        "import matplotlib.pyplot as plt\n",
        "#import wandb\n",
        "#from wandb.keras import WandbCallback\n",
        "\n",
        "from keras.callbacks import EarlyStopping, ModelCheckpoint, ReduceLROnPlateau\n",
        "from sklearn.metrics import multilabel_confusion_matrix, classification_report"
      ],
      "metadata": {
        "id": "0Y9vcFuLESNI"
      },
      "execution_count": null,
      "outputs": []
    },
    {
      "cell_type": "markdown",
      "source": [
        "## Load data using oepnmic-2018.npz"
      ],
      "metadata": {
        "id": "Y6UcLTQJGwc0"
      }
    },
    {
      "cell_type": "code",
      "source": [
        "OPENMIC = np.load('openmic-2018.npz', allow_pickle=True)\n",
        "# rename columns to specific variables\n",
        "X, Y_true, Y_mask, sample_key = OPENMIC['X'], OPENMIC['Y_true'], OPENMIC['Y_mask'], OPENMIC['sample_key']\n",
        "\n",
        "# check data\n",
        "print(X.shape)\n",
        "print(Y_true.shape)\n",
        "print(Y_mask.shape)\n",
        "print(sample_key.shape)"
      ],
      "metadata": {
        "colab": {
          "base_uri": "https://localhost:8080/"
        },
        "id": "5IPoXLKLEk5V",
        "outputId": "320ba4b1-6d6a-4409-a119-562bf104ae25"
      },
      "execution_count": null,
      "outputs": [
        {
          "output_type": "stream",
          "name": "stdout",
          "text": [
            "(20000, 10, 128)\n",
            "(20000, 20)\n",
            "(20000, 20)\n",
            "(20000,)\n"
          ]
        }
      ]
    },
    {
      "cell_type": "code",
      "source": [
        "print(X[0])\n",
        "print(Y_true[0])\n",
        "print(Y_mask[0])\n",
        "print(sample_key[0])"
      ],
      "metadata": {
        "colab": {
          "base_uri": "https://localhost:8080/"
        },
        "id": "lIMPMG72G7zR",
        "outputId": "cd49222f-161d-46a9-f72b-f77e51445b94"
      },
      "execution_count": null,
      "outputs": [
        {
          "output_type": "stream",
          "name": "stdout",
          "text": [
            "[[173  16 162 ...  42  37 255]\n",
            " [175  13 171 ...  55  82 255]\n",
            " [176  14 174 ... 153  59 255]\n",
            " ...\n",
            " [195  39 210 ...   0   0 255]\n",
            " [188  21 176 ...   0  96 255]\n",
            " [193  23 178 ...   0 200 255]]\n",
            "[0.5     0.5     0.5     0.5     0.17105 0.5     0.5     0.      0.5\n",
            " 0.5     0.5     0.5     0.5     0.5     0.5     0.5     0.      0.5\n",
            " 0.5     0.5    ]\n",
            "[False False False False  True False False  True False False False False\n",
            " False False False False  True False False False]\n",
            "000046_3840\n"
          ]
        }
      ]
    },
    {
      "cell_type": "markdown",
      "source": [
        "## Load the class map"
      ],
      "metadata": {
        "id": "BMdw0YdgG3oH"
      }
    },
    {
      "cell_type": "code",
      "source": [
        "with open('class-map.json', 'r') as f:\n",
        "    class_map = json.load(f)\n",
        "print(class_map)"
      ],
      "metadata": {
        "colab": {
          "base_uri": "https://localhost:8080/"
        },
        "id": "diNCmU0TFrBF",
        "outputId": "3d936f19-0014-4719-87c6-710bf48c10ca"
      },
      "execution_count": null,
      "outputs": [
        {
          "output_type": "stream",
          "name": "stdout",
          "text": [
            "{'accordion': 0, 'banjo': 1, 'bass': 2, 'cello': 3, 'clarinet': 4, 'cymbals': 5, 'drums': 6, 'flute': 7, 'guitar': 8, 'mallet_percussion': 9, 'mandolin': 10, 'organ': 11, 'piano': 12, 'saxophone': 13, 'synthesizer': 14, 'trombone': 15, 'trumpet': 16, 'ukulele': 17, 'violin': 18, 'voice': 19}\n"
          ]
        }
      ]
    },
    {
      "cell_type": "markdown",
      "source": [
        "## Splitting data based on given train and test splits\n",
        "OpenMIC-2018 comes with a pre-defined train-test split. Great care was taken to ensure that this split is approximately balanced and artists are not represented in both sides of the split, so please use it!\n",
        "\n",
        "This is done by sample key, not row number, so you will need to go through the sample_key array to slice the data."
      ],
      "metadata": {
        "id": "OHeWq3XDHWcI"
      }
    },
    {
      "cell_type": "code",
      "source": [
        "# Let's split the data into the training and test set\n",
        "# We use squeeze=True here to return a single array for each, rather than a full DataFrame\n",
        "\n",
        "split_train = pd.read_csv('partitions/split01_train.csv', \n",
        "                          header=None, squeeze=True)\n",
        "split_test = pd.read_csv('partitions/split01_test.csv', \n",
        "                         header=None, squeeze=True)"
      ],
      "metadata": {
        "id": "QYoRaTQiHOVf"
      },
      "execution_count": null,
      "outputs": []
    },
    {
      "cell_type": "code",
      "source": [
        "# These two tables contain the sample keys for training and testing examples\n",
        "# Let's see the keys for the first five training example\n",
        "split_train.head(5)"
      ],
      "metadata": {
        "colab": {
          "base_uri": "https://localhost:8080/"
        },
        "id": "MpI0kIlcHq2Q",
        "outputId": "c8f97156-4289-4126-dab0-167699ecb0ff"
      },
      "execution_count": null,
      "outputs": [
        {
          "output_type": "execute_result",
          "data": {
            "text/plain": [
              "0      000046_3840\n",
              "1    000135_483840\n",
              "2    000139_119040\n",
              "3    000141_153600\n",
              "4     000144_30720\n",
              "Name: 0, dtype: object"
            ]
          },
          "metadata": {},
          "execution_count": 10
        }
      ]
    },
    {
      "cell_type": "code",
      "source": [
        "# How many train and test examples do we have?  About 75%/25%\n",
        "print('# Train: {},  # Test: {}'.format(len(split_train), len(split_test)))"
      ],
      "metadata": {
        "colab": {
          "base_uri": "https://localhost:8080/"
        },
        "id": "8cTzEeb2H8YE",
        "outputId": "e61c0fc9-8e19-4261-b001-169523e8bfa2"
      },
      "execution_count": null,
      "outputs": [
        {
          "output_type": "stream",
          "name": "stdout",
          "text": [
            "# Train: 14915,  # Test: 5085\n"
          ]
        }
      ]
    },
    {
      "cell_type": "code",
      "source": [
        "# easier to use as a set\n",
        "train_set = set(split_train)\n",
        "test_set = set(split_test)"
      ],
      "metadata": {
        "id": "EM5ZTkAwIAZS"
      },
      "execution_count": null,
      "outputs": []
    },
    {
      "cell_type": "code",
      "source": [
        "# These loops go through all sample keys, and save their row numbers\n",
        "# to either idx_train or idx_test\n",
        "#\n",
        "# This will be useful in the next step for slicing the array data\n",
        "idx_train, idx_test = [], []\n",
        "\n",
        "for idx, n in enumerate(sample_key):\n",
        "    if n in train_set:\n",
        "        idx_train.append(idx)\n",
        "    elif n in test_set:\n",
        "        idx_test.append(idx)\n",
        "    else:\n",
        "        # This should never happen, but better safe than sorry.\n",
        "        raise RuntimeError('Unknown sample key={}! Abort!'.format(sample_key[n]))\n",
        "        \n",
        "# Finally, cast the idx_* arrays to numpy structures\n",
        "idx_train = np.asarray(idx_train)\n",
        "idx_test = np.asarray(idx_test)"
      ],
      "metadata": {
        "id": "Uaq8qfFqIHFm"
      },
      "execution_count": null,
      "outputs": []
    },
    {
      "cell_type": "code",
      "source": [
        "print(idx_train[20:30])\n",
        "print(idx_test[20:30])"
      ],
      "metadata": {
        "colab": {
          "base_uri": "https://localhost:8080/"
        },
        "id": "O0h9DB3hJAtM",
        "outputId": "fc80521f-b8ba-408a-82fd-e13198dbbfdd"
      },
      "execution_count": null,
      "outputs": [
        {
          "output_type": "stream",
          "name": "stdout",
          "text": [
            "[21 22 23 24 25 26 27 28 39 40]\n",
            "[ 60  73  74  98  99 100 109 110 117 118]\n"
          ]
        }
      ]
    },
    {
      "cell_type": "code",
      "source": [
        "# Finally, we use the split indices to partition the features, labels, and masks\n",
        "X_train = X[idx_train]\n",
        "X_test = X[idx_test]\n",
        "\n",
        "Y_true_train = Y_true[idx_train]\n",
        "Y_true_test = Y_true[idx_test]\n",
        "\n",
        "Y_mask_train = Y_mask[idx_train]\n",
        "Y_mask_test = Y_mask[idx_test]"
      ],
      "metadata": {
        "id": "qgkRA4_EJEWt"
      },
      "execution_count": null,
      "outputs": []
    },
    {
      "cell_type": "code",
      "source": [
        "# Print out the sliced shapes as a sanity check\n",
        "print(X_train.shape)\n",
        "print(X_test.shape)"
      ],
      "metadata": {
        "colab": {
          "base_uri": "https://localhost:8080/"
        },
        "id": "WwJfd3D0JPzD",
        "outputId": "6fc97ada-7d29-4f57-ca3a-f6ff614b864e"
      },
      "execution_count": null,
      "outputs": [
        {
          "output_type": "stream",
          "name": "stdout",
          "text": [
            "(14915, 10, 128)\n",
            "(5085, 10, 128)\n"
          ]
        }
      ]
    },
    {
      "cell_type": "code",
      "source": [
        "# Convert the Y_true labels to binary\n",
        "print(Y_true_train[0])\n",
        "print(Y_true_test[0])\n",
        "print(Y_mask_train[0])\n",
        "\n",
        "Y_true_train[Y_mask_train==0] = 0\n",
        "Y_true_test[Y_mask_test==0] = 0\n",
        "\n",
        "print(Y_true_train[0])\n",
        "\n",
        "Y_train_labels = np.where(Y_true_train >= 0.5, 1, 0)\n",
        "Y_test_labels = np.where(Y_true_test >= 0.5, 1, 0)\n",
        "\n",
        "print(Y_train_labels[0])\n",
        "print(Y_test_labels[0])"
      ],
      "metadata": {
        "colab": {
          "base_uri": "https://localhost:8080/"
        },
        "id": "iJEQXj_oZ8fA",
        "outputId": "15e2413b-abc0-4b7c-e214-c42f85502fde"
      },
      "execution_count": null,
      "outputs": [
        {
          "output_type": "stream",
          "name": "stdout",
          "text": [
            "[0.5     0.5     0.5     0.5     0.17105 0.5     0.5     0.      0.5\n",
            " 0.5     0.5     0.5     0.5     0.5     0.5     0.5     0.      0.5\n",
            " 0.5     0.5    ]\n",
            "[0.5 0.5 0.5 0.5 0.5 0.5 0.5 0.5 0.5 0.5 0.5 0.5 0.5 0.5 0.5 0.5 0.5 0.5\n",
            " 0.5 1. ]\n",
            "[False False False False  True False False  True False False False False\n",
            " False False False False  True False False False]\n",
            "[0.      0.      0.      0.      0.17105 0.      0.      0.      0.\n",
            " 0.      0.      0.      0.      0.      0.      0.      0.      0.\n",
            " 0.      0.     ]\n",
            "[0 0 0 0 0 0 0 0 0 0 0 0 0 0 0 0 0 0 0 0]\n",
            "[0 0 0 0 0 0 0 0 0 0 0 0 0 0 0 0 0 0 0 1]\n"
          ]
        }
      ]
    },
    {
      "cell_type": "markdown",
      "source": [
        "## Create Tensorflow Dataset"
      ],
      "metadata": {
        "id": "J-FA5rrbL7-0"
      }
    },
    {
      "cell_type": "code",
      "source": [
        "def normalize_function(data, label):\n",
        "    \"\"\"Function that returns a tuple of normalized array and labels array.\n",
        "    Args:\n",
        "        data: array of the given data from X\n",
        "        label: 0/1 one-dimensional array of size N_LABELS\n",
        "    \"\"\"\n",
        "    # Normalize it from [0, 255] to [0.0, 1.0]\n",
        "    data_normalized = tf.cast(data, tf.float32) / 255.0\n",
        "    return data_normalized, label"
      ],
      "metadata": {
        "id": "_m2jsdP0L7nm"
      },
      "execution_count": null,
      "outputs": []
    },
    {
      "cell_type": "code",
      "source": [
        "BATCH_SIZE = 128\n",
        "AUTOTUNE = tf.data.experimental.AUTOTUNE # Adapt preprocessing and prefetching dynamically to reduce GPU and CPU idle time\n",
        "SHUFFLE_BUFFER_SIZE = 128 # Shuffle the training data by a chunck of 128 observations"
      ],
      "metadata": {
        "id": "97lQ8XM3MWn7"
      },
      "execution_count": null,
      "outputs": []
    },
    {
      "cell_type": "code",
      "source": [
        "def create_dataset(data, labels, is_training=True):\n",
        "    \"\"\"Load and parse dataset.\n",
        "    Args:\n",
        "        filenames: list of image paths\n",
        "        labels: numpy array of shape (BATCH_SIZE, N_LABELS)\n",
        "        is_training: boolean to indicate training mode\n",
        "    \"\"\"\n",
        "    \n",
        "    # Create a first dataset of file paths and labels\n",
        "    dataset = tf.data.Dataset.from_tensor_slices((data, labels))\n",
        "    # Parse and preprocess observations in parallel\n",
        "    dataset = dataset.map(normalize_function, num_parallel_calls=AUTOTUNE)\n",
        "    \n",
        "    # if is_training == True:\n",
        "    #     # This is a small dataset, only load it once, and keep it in memory.\n",
        "    #     dataset = dataset.cache()\n",
        "    # Shuffle the data each buffer size\n",
        "    dataset = dataset.shuffle(buffer_size=SHUFFLE_BUFFER_SIZE)\n",
        "        \n",
        "    # Batch the data for multiple steps\n",
        "    dataset = dataset.batch(BATCH_SIZE)\n",
        "    # Fetch batches in the background while the model is training.\n",
        "    dataset = dataset.prefetch(buffer_size=AUTOTUNE)\n",
        "    \n",
        "    return dataset"
      ],
      "metadata": {
        "id": "YvJQlCyRLqzw"
      },
      "execution_count": null,
      "outputs": []
    },
    {
      "cell_type": "code",
      "source": [
        "x_train = create_dataset(X_train, Y_train_labels)\n",
        "print(x_train)\n",
        "\n",
        "x_test = create_dataset(X_test, Y_test_labels)\n",
        "print(x_test)"
      ],
      "metadata": {
        "colab": {
          "base_uri": "https://localhost:8080/"
        },
        "id": "UJmvjKbXZxVi",
        "outputId": "493e8fe2-af79-432f-a817-17d4f2e50263"
      },
      "execution_count": null,
      "outputs": [
        {
          "output_type": "stream",
          "name": "stdout",
          "text": [
            "<PrefetchDataset element_spec=(TensorSpec(shape=(None, 10, 128), dtype=tf.float32, name=None), TensorSpec(shape=(None, 20), dtype=tf.int64, name=None))>\n",
            "<PrefetchDataset element_spec=(TensorSpec(shape=(None, 10, 128), dtype=tf.float32, name=None), TensorSpec(shape=(None, 20), dtype=tf.int64, name=None))>\n"
          ]
        }
      ]
    },
    {
      "cell_type": "markdown",
      "source": [
        "## Create a classification layer"
      ],
      "metadata": {
        "id": "-9D99RjJJbyv"
      }
    },
    {
      "cell_type": "code",
      "source": [
        "import random\n",
        "\n",
        "seeds = [1346, 76, 34, 46, 12]\n",
        "\n",
        "for seed in seeds:\n",
        "  tf.random.set_seed(seed)\n",
        "  random.seed(seed)\n",
        "  np.random.seed(seed)\n",
        "\n",
        "  input = Input(shape =(10, 128))\n",
        "  # Fully connected layer classifier\n",
        "  x = Flatten()(input)\n",
        "  x = Dense(units = 4096, activation ='relu')(x)\n",
        "  x = Dropout(0.5)(x)\n",
        "  x = Dense(units = 4096, activation ='relu')(x)\n",
        "  # x = Dropout(0.5)(x)\n",
        "  output = Dense(units = 20, activation ='sigmoid')(x)\n",
        "  output = output[Y_mask]\n",
        "\n",
        "  # creating the model\n",
        "  model = Model (inputs=input, outputs = output)\n",
        "  model.summary()\n",
        "\n",
        "  LR = 1e-5 # Keep it small when transfer learning\n",
        "  EPOCHS = 30\n",
        "  loss_fn = tf.keras.losses.BinaryCrossentropy()\n",
        "\n",
        "  model.compile(\n",
        "    optimizer=tf.keras.optimizers.Adam(learning_rate=LR),\n",
        "    loss=loss_fn, metrics = ['Recall', 'Precision'])\n",
        "  \n",
        "  earlyStopping = EarlyStopping(monitor='val_loss', patience=10, verbose=0, mode='min')\n",
        "  mcp_save = ModelCheckpoint(f'mdl_wts_{seed}.hdf5', save_best_only=True, monitor='val_loss', mode='min')\n",
        "  reduce_lr_loss = ReduceLROnPlateau(monitor='val_loss', factor=0.5, patience=7, verbose=1, epsilon=1e-4, mode='min')\n",
        "\n",
        "  history = model.fit(x_train, epochs = EPOCHS, callbacks=[earlyStopping, mcp_save, reduce_lr_loss], validation_data = x_test)\n",
        "\n",
        "  # summarize history for loss\n",
        "  plt.plot(history.history['loss'])\n",
        "  plt.plot(history.history['val_loss'])\n",
        "  plt.title(f'model loss {seed}')\n",
        "  plt.ylabel('loss')\n",
        "  plt.xlabel('epoch')\n",
        "  plt.legend(['train', 'test'], loc='upper left')\n",
        "  plt.savefig(f'history_{seed}.png')"
      ],
      "metadata": {
        "colab": {
          "base_uri": "https://localhost:8080/",
          "height": 1000
        },
        "id": "it9OmcrBs3Us",
        "outputId": "0193eca2-7e9d-4492-987f-7ed92cf6e190"
      },
      "execution_count": null,
      "outputs": [
        {
          "output_type": "stream",
          "name": "stdout",
          "text": [
            "Model: \"model_13\"\n",
            "_________________________________________________________________\n",
            " Layer (type)                Output Shape              Param #   \n",
            "=================================================================\n",
            " input_14 (InputLayer)       [(None, 10, 128)]         0         \n",
            "                                                                 \n",
            " flatten_13 (Flatten)        (None, 1280)              0         \n",
            "                                                                 \n",
            " dense_39 (Dense)            (None, 4096)              5246976   \n",
            "                                                                 \n",
            " dropout_16 (Dropout)        (None, 4096)              0         \n",
            "                                                                 \n",
            " dense_40 (Dense)            (None, 4096)              16781312  \n",
            "                                                                 \n",
            " dense_41 (Dense)            (None, 20)                81940     \n",
            "                                                                 \n",
            "=================================================================\n",
            "Total params: 22,110,228\n",
            "Trainable params: 22,110,228\n",
            "Non-trainable params: 0\n",
            "_________________________________________________________________\n"
          ]
        },
        {
          "output_type": "stream",
          "name": "stderr",
          "text": [
            "WARNING:tensorflow:`epsilon` argument is deprecated and will be removed, use `min_delta` instead.\n"
          ]
        },
        {
          "output_type": "stream",
          "name": "stdout",
          "text": [
            "Epoch 1/30\n",
            "117/117 [==============================] - 3s 22ms/step - loss: 0.2208 - recall: 0.0172 - precision: 0.0512 - val_loss: 0.1666 - val_recall: 0.0000e+00 - val_precision: 0.0000e+00 - lr: 1.0000e-05\n",
            "Epoch 2/30\n",
            "117/117 [==============================] - 2s 19ms/step - loss: 0.1558 - recall: 0.0082 - precision: 1.0000 - val_loss: 0.1386 - val_recall: 0.0252 - val_precision: 0.9828 - lr: 1.0000e-05\n",
            "Epoch 3/30\n",
            "117/117 [==============================] - 2s 20ms/step - loss: 0.1286 - recall: 0.0632 - precision: 0.9528 - val_loss: 0.1122 - val_recall: 0.1260 - val_precision: 0.9237 - lr: 1.0000e-05\n",
            "Epoch 4/30\n",
            "117/117 [==============================] - 3s 22ms/step - loss: 0.1080 - recall: 0.1956 - precision: 0.8893 - val_loss: 0.0978 - val_recall: 0.2497 - val_precision: 0.8637 - lr: 1.0000e-05\n",
            "Epoch 5/30\n",
            "117/117 [==============================] - 2s 19ms/step - loss: 0.0966 - recall: 0.2981 - precision: 0.8313 - val_loss: 0.0908 - val_recall: 0.3334 - val_precision: 0.8325 - lr: 1.0000e-05\n",
            "Epoch 6/30\n",
            "117/117 [==============================] - 2s 19ms/step - loss: 0.0901 - recall: 0.3637 - precision: 0.8065 - val_loss: 0.0868 - val_recall: 0.3783 - val_precision: 0.8058 - lr: 1.0000e-05\n",
            "Epoch 7/30\n",
            "117/117 [==============================] - 2s 20ms/step - loss: 0.0859 - recall: 0.4046 - precision: 0.8012 - val_loss: 0.0845 - val_recall: 0.4098 - val_precision: 0.7968 - lr: 1.0000e-05\n",
            "Epoch 8/30\n",
            "117/117 [==============================] - 2s 21ms/step - loss: 0.0834 - recall: 0.4309 - precision: 0.7975 - val_loss: 0.0824 - val_recall: 0.4408 - val_precision: 0.7926 - lr: 1.0000e-05\n",
            "Epoch 9/30\n",
            "117/117 [==============================] - 2s 18ms/step - loss: 0.0809 - recall: 0.4532 - precision: 0.7949 - val_loss: 0.0812 - val_recall: 0.4523 - val_precision: 0.7879 - lr: 1.0000e-05\n",
            "Epoch 10/30\n",
            "117/117 [==============================] - 2s 20ms/step - loss: 0.0791 - recall: 0.4665 - precision: 0.7912 - val_loss: 0.0802 - val_recall: 0.4651 - val_precision: 0.7825 - lr: 1.0000e-05\n",
            "Epoch 11/30\n",
            "117/117 [==============================] - 2s 19ms/step - loss: 0.0777 - recall: 0.4788 - precision: 0.7898 - val_loss: 0.0793 - val_recall: 0.4731 - val_precision: 0.7805 - lr: 1.0000e-05\n",
            "Epoch 12/30\n",
            "117/117 [==============================] - 2s 21ms/step - loss: 0.0764 - recall: 0.4935 - precision: 0.7906 - val_loss: 0.0786 - val_recall: 0.4835 - val_precision: 0.7789 - lr: 1.0000e-05\n",
            "Epoch 13/30\n",
            "117/117 [==============================] - 2s 20ms/step - loss: 0.0752 - recall: 0.5029 - precision: 0.7937 - val_loss: 0.0778 - val_recall: 0.4981 - val_precision: 0.7753 - lr: 1.0000e-05\n",
            "Epoch 14/30\n",
            "117/117 [==============================] - 2s 21ms/step - loss: 0.0743 - recall: 0.5123 - precision: 0.7979 - val_loss: 0.0772 - val_recall: 0.5028 - val_precision: 0.7772 - lr: 1.0000e-05\n",
            "Epoch 15/30\n",
            "117/117 [==============================] - 3s 26ms/step - loss: 0.0735 - recall: 0.5158 - precision: 0.7938 - val_loss: 0.0767 - val_recall: 0.5061 - val_precision: 0.7731 - lr: 1.0000e-05\n",
            "Epoch 16/30\n",
            "117/117 [==============================] - 2s 20ms/step - loss: 0.0724 - recall: 0.5231 - precision: 0.7955 - val_loss: 0.0763 - val_recall: 0.5149 - val_precision: 0.7746 - lr: 1.0000e-05\n",
            "Epoch 17/30\n",
            "117/117 [==============================] - 2s 20ms/step - loss: 0.0717 - recall: 0.5331 - precision: 0.7979 - val_loss: 0.0758 - val_recall: 0.5149 - val_precision: 0.7740 - lr: 1.0000e-05\n",
            "Epoch 18/30\n",
            "117/117 [==============================] - 2s 20ms/step - loss: 0.0707 - recall: 0.5343 - precision: 0.7984 - val_loss: 0.0757 - val_recall: 0.5187 - val_precision: 0.7720 - lr: 1.0000e-05\n",
            "Epoch 19/30\n",
            "117/117 [==============================] - 2s 18ms/step - loss: 0.0704 - recall: 0.5355 - precision: 0.7979 - val_loss: 0.0752 - val_recall: 0.5225 - val_precision: 0.7733 - lr: 1.0000e-05\n",
            "Epoch 20/30\n",
            "117/117 [==============================] - 2s 20ms/step - loss: 0.0695 - recall: 0.5454 - precision: 0.7989 - val_loss: 0.0752 - val_recall: 0.5280 - val_precision: 0.7723 - lr: 1.0000e-05\n",
            "Epoch 21/30\n",
            "117/117 [==============================] - 2s 20ms/step - loss: 0.0691 - recall: 0.5466 - precision: 0.7995 - val_loss: 0.0748 - val_recall: 0.5284 - val_precision: 0.7725 - lr: 1.0000e-05\n",
            "Epoch 22/30\n",
            "117/117 [==============================] - 2s 19ms/step - loss: 0.0686 - recall: 0.5494 - precision: 0.7974 - val_loss: 0.0744 - val_recall: 0.5366 - val_precision: 0.7700 - lr: 1.0000e-05\n",
            "Epoch 23/30\n",
            "117/117 [==============================] - 2s 13ms/step - loss: 0.0679 - recall: 0.5555 - precision: 0.8020 - val_loss: 0.0744 - val_recall: 0.5439 - val_precision: 0.7659 - lr: 1.0000e-05\n",
            "Epoch 24/30\n",
            "117/117 [==============================] - 2s 20ms/step - loss: 0.0673 - recall: 0.5599 - precision: 0.8041 - val_loss: 0.0740 - val_recall: 0.5462 - val_precision: 0.7702 - lr: 1.0000e-05\n",
            "Epoch 25/30\n",
            "117/117 [==============================] - 2s 13ms/step - loss: 0.0670 - recall: 0.5647 - precision: 0.8083 - val_loss: 0.0741 - val_recall: 0.5495 - val_precision: 0.7639 - lr: 1.0000e-05\n",
            "Epoch 26/30\n",
            "117/117 [==============================] - 2s 19ms/step - loss: 0.0662 - recall: 0.5697 - precision: 0.8044 - val_loss: 0.0737 - val_recall: 0.5493 - val_precision: 0.7691 - lr: 1.0000e-05\n",
            "Epoch 27/30\n",
            "117/117 [==============================] - 2s 19ms/step - loss: 0.0657 - recall: 0.5730 - precision: 0.8077 - val_loss: 0.0735 - val_recall: 0.5532 - val_precision: 0.7682 - lr: 1.0000e-05\n",
            "Epoch 28/30\n",
            "117/117 [==============================] - 1s 12ms/step - loss: 0.0655 - recall: 0.5748 - precision: 0.8088 - val_loss: 0.0736 - val_recall: 0.5524 - val_precision: 0.7635 - lr: 1.0000e-05\n",
            "Epoch 29/30\n",
            "117/117 [==============================] - 2s 18ms/step - loss: 0.0650 - recall: 0.5771 - precision: 0.8074 - val_loss: 0.0733 - val_recall: 0.5568 - val_precision: 0.7677 - lr: 1.0000e-05\n",
            "Epoch 30/30\n",
            "117/117 [==============================] - 2s 20ms/step - loss: 0.0647 - recall: 0.5760 - precision: 0.8058 - val_loss: 0.0732 - val_recall: 0.5517 - val_precision: 0.7682 - lr: 1.0000e-05\n",
            "Model: \"model_14\"\n",
            "_________________________________________________________________\n",
            " Layer (type)                Output Shape              Param #   \n",
            "=================================================================\n",
            " input_15 (InputLayer)       [(None, 10, 128)]         0         \n",
            "                                                                 \n",
            " flatten_14 (Flatten)        (None, 1280)              0         \n",
            "                                                                 \n",
            " dense_42 (Dense)            (None, 4096)              5246976   \n",
            "                                                                 \n",
            " dropout_17 (Dropout)        (None, 4096)              0         \n",
            "                                                                 \n",
            " dense_43 (Dense)            (None, 4096)              16781312  \n",
            "                                                                 \n",
            " dense_44 (Dense)            (None, 20)                81940     \n",
            "                                                                 \n",
            "=================================================================\n",
            "Total params: 22,110,228\n",
            "Trainable params: 22,110,228\n",
            "Non-trainable params: 0\n",
            "_________________________________________________________________\n"
          ]
        },
        {
          "output_type": "stream",
          "name": "stderr",
          "text": [
            "WARNING:tensorflow:`epsilon` argument is deprecated and will be removed, use `min_delta` instead.\n"
          ]
        },
        {
          "output_type": "stream",
          "name": "stdout",
          "text": [
            "Epoch 1/30\n",
            "117/117 [==============================] - 3s 21ms/step - loss: 0.2288 - recall: 0.0164 - precision: 0.0377 - val_loss: 0.1674 - val_recall: 0.0000e+00 - val_precision: 0.0000e+00 - lr: 1.0000e-05\n",
            "Epoch 2/30\n",
            "117/117 [==============================] - 2s 20ms/step - loss: 0.1569 - recall: 0.0033 - precision: 1.0000 - val_loss: 0.1393 - val_recall: 0.0204 - val_precision: 1.0000 - lr: 1.0000e-05\n",
            "Epoch 3/30\n",
            "117/117 [==============================] - 2s 20ms/step - loss: 0.1299 - recall: 0.0570 - precision: 0.9455 - val_loss: 0.1134 - val_recall: 0.1158 - val_precision: 0.9423 - lr: 1.0000e-05\n",
            "Epoch 4/30\n",
            "117/117 [==============================] - 2s 18ms/step - loss: 0.1092 - recall: 0.1835 - precision: 0.8870 - val_loss: 0.0986 - val_recall: 0.2395 - val_precision: 0.8740 - lr: 1.0000e-05\n",
            "Epoch 5/30\n",
            "117/117 [==============================] - 3s 23ms/step - loss: 0.0973 - recall: 0.2882 - precision: 0.8359 - val_loss: 0.0912 - val_recall: 0.3192 - val_precision: 0.8393 - lr: 1.0000e-05\n",
            "Epoch 6/30\n",
            "117/117 [==============================] - 2s 18ms/step - loss: 0.0906 - recall: 0.3589 - precision: 0.8165 - val_loss: 0.0869 - val_recall: 0.3764 - val_precision: 0.8146 - lr: 1.0000e-05\n",
            "Epoch 7/30\n",
            "117/117 [==============================] - 2s 20ms/step - loss: 0.0863 - recall: 0.4009 - precision: 0.8039 - val_loss: 0.0842 - val_recall: 0.4069 - val_precision: 0.8051 - lr: 1.0000e-05\n",
            "Epoch 8/30\n",
            "117/117 [==============================] - 2s 19ms/step - loss: 0.0834 - recall: 0.4293 - precision: 0.7971 - val_loss: 0.0825 - val_recall: 0.4383 - val_precision: 0.7949 - lr: 1.0000e-05\n",
            "Epoch 9/30\n",
            "117/117 [==============================] - 2s 18ms/step - loss: 0.0813 - recall: 0.4507 - precision: 0.7915 - val_loss: 0.0811 - val_recall: 0.4510 - val_precision: 0.7895 - lr: 1.0000e-05\n",
            "Epoch 10/30\n",
            "117/117 [==============================] - 2s 20ms/step - loss: 0.0795 - recall: 0.4657 - precision: 0.7898 - val_loss: 0.0803 - val_recall: 0.4689 - val_precision: 0.7804 - lr: 1.0000e-05\n",
            "Epoch 11/30\n",
            "117/117 [==============================] - 2s 18ms/step - loss: 0.0783 - recall: 0.4778 - precision: 0.7916 - val_loss: 0.0792 - val_recall: 0.4758 - val_precision: 0.7789 - lr: 1.0000e-05\n",
            "Epoch 12/30\n",
            "117/117 [==============================] - 2s 20ms/step - loss: 0.0766 - recall: 0.4913 - precision: 0.7898 - val_loss: 0.0786 - val_recall: 0.4848 - val_precision: 0.7752 - lr: 1.0000e-05\n",
            "Epoch 13/30\n",
            "117/117 [==============================] - 2s 19ms/step - loss: 0.0755 - recall: 0.4991 - precision: 0.7887 - val_loss: 0.0777 - val_recall: 0.4913 - val_precision: 0.7778 - lr: 1.0000e-05\n",
            "Epoch 14/30\n",
            "117/117 [==============================] - 2s 20ms/step - loss: 0.0743 - recall: 0.5083 - precision: 0.7895 - val_loss: 0.0772 - val_recall: 0.5014 - val_precision: 0.7757 - lr: 1.0000e-05\n",
            "Epoch 15/30\n",
            "117/117 [==============================] - 2s 19ms/step - loss: 0.0736 - recall: 0.5151 - precision: 0.7924 - val_loss: 0.0769 - val_recall: 0.5096 - val_precision: 0.7730 - lr: 1.0000e-05\n",
            "Epoch 16/30\n",
            "117/117 [==============================] - 3s 26ms/step - loss: 0.0728 - recall: 0.5199 - precision: 0.7944 - val_loss: 0.0763 - val_recall: 0.5134 - val_precision: 0.7753 - lr: 1.0000e-05\n",
            "Epoch 17/30\n",
            "117/117 [==============================] - 3s 26ms/step - loss: 0.0721 - recall: 0.5245 - precision: 0.7921 - val_loss: 0.0759 - val_recall: 0.5191 - val_precision: 0.7755 - lr: 1.0000e-05\n",
            "Epoch 18/30\n",
            "117/117 [==============================] - 2s 19ms/step - loss: 0.0711 - recall: 0.5313 - precision: 0.7981 - val_loss: 0.0755 - val_recall: 0.5222 - val_precision: 0.7780 - lr: 1.0000e-05\n",
            "Epoch 19/30\n",
            "117/117 [==============================] - 2s 20ms/step - loss: 0.0703 - recall: 0.5391 - precision: 0.8000 - val_loss: 0.0753 - val_recall: 0.5249 - val_precision: 0.7774 - lr: 1.0000e-05\n",
            "Epoch 20/30\n",
            "117/117 [==============================] - 2s 20ms/step - loss: 0.0699 - recall: 0.5414 - precision: 0.7974 - val_loss: 0.0750 - val_recall: 0.5293 - val_precision: 0.7755 - lr: 1.0000e-05\n",
            "Epoch 21/30\n",
            "117/117 [==============================] - 2s 20ms/step - loss: 0.0694 - recall: 0.5456 - precision: 0.8007 - val_loss: 0.0746 - val_recall: 0.5338 - val_precision: 0.7723 - lr: 1.0000e-05\n",
            "Epoch 22/30\n",
            "117/117 [==============================] - 2s 20ms/step - loss: 0.0685 - recall: 0.5549 - precision: 0.8013 - val_loss: 0.0746 - val_recall: 0.5384 - val_precision: 0.7721 - lr: 1.0000e-05\n",
            "Epoch 23/30\n",
            "117/117 [==============================] - 3s 26ms/step - loss: 0.0680 - recall: 0.5571 - precision: 0.8032 - val_loss: 0.0743 - val_recall: 0.5384 - val_precision: 0.7758 - lr: 1.0000e-05\n",
            "Epoch 24/30\n",
            "117/117 [==============================] - 2s 20ms/step - loss: 0.0675 - recall: 0.5623 - precision: 0.8045 - val_loss: 0.0740 - val_recall: 0.5402 - val_precision: 0.7748 - lr: 1.0000e-05\n",
            "Epoch 25/30\n",
            "117/117 [==============================] - 2s 21ms/step - loss: 0.0669 - recall: 0.5665 - precision: 0.8012 - val_loss: 0.0738 - val_recall: 0.5433 - val_precision: 0.7732 - lr: 1.0000e-05\n",
            "Epoch 26/30\n",
            "117/117 [==============================] - 2s 13ms/step - loss: 0.0665 - recall: 0.5662 - precision: 0.8045 - val_loss: 0.0740 - val_recall: 0.5486 - val_precision: 0.7717 - lr: 1.0000e-05\n",
            "Epoch 27/30\n",
            "117/117 [==============================] - 2s 18ms/step - loss: 0.0660 - recall: 0.5717 - precision: 0.8086 - val_loss: 0.0735 - val_recall: 0.5495 - val_precision: 0.7706 - lr: 1.0000e-05\n",
            "Epoch 28/30\n",
            "117/117 [==============================] - 2s 19ms/step - loss: 0.0656 - recall: 0.5728 - precision: 0.8103 - val_loss: 0.0735 - val_recall: 0.5513 - val_precision: 0.7699 - lr: 1.0000e-05\n",
            "Epoch 29/30\n",
            "117/117 [==============================] - 2s 20ms/step - loss: 0.0651 - recall: 0.5756 - precision: 0.8079 - val_loss: 0.0734 - val_recall: 0.5535 - val_precision: 0.7690 - lr: 1.0000e-05\n",
            "Epoch 30/30\n",
            "117/117 [==============================] - 2s 20ms/step - loss: 0.0647 - recall: 0.5804 - precision: 0.8092 - val_loss: 0.0731 - val_recall: 0.5539 - val_precision: 0.7708 - lr: 1.0000e-05\n",
            "Model: \"model_15\"\n",
            "_________________________________________________________________\n",
            " Layer (type)                Output Shape              Param #   \n",
            "=================================================================\n",
            " input_16 (InputLayer)       [(None, 10, 128)]         0         \n",
            "                                                                 \n",
            " flatten_15 (Flatten)        (None, 1280)              0         \n",
            "                                                                 \n",
            " dense_45 (Dense)            (None, 4096)              5246976   \n",
            "                                                                 \n",
            " dropout_18 (Dropout)        (None, 4096)              0         \n",
            "                                                                 \n",
            " dense_46 (Dense)            (None, 4096)              16781312  \n",
            "                                                                 \n",
            " dense_47 (Dense)            (None, 20)                81940     \n",
            "                                                                 \n",
            "=================================================================\n",
            "Total params: 22,110,228\n",
            "Trainable params: 22,110,228\n",
            "Non-trainable params: 0\n",
            "_________________________________________________________________\n"
          ]
        },
        {
          "output_type": "stream",
          "name": "stderr",
          "text": [
            "WARNING:tensorflow:`epsilon` argument is deprecated and will be removed, use `min_delta` instead.\n"
          ]
        },
        {
          "output_type": "stream",
          "name": "stdout",
          "text": [
            "Epoch 1/30\n",
            "117/117 [==============================] - 3s 21ms/step - loss: 0.2263 - recall: 0.0241 - precision: 0.0548 - val_loss: 0.1670 - val_recall: 0.0000e+00 - val_precision: 0.0000e+00 - lr: 1.0000e-05\n",
            "Epoch 2/30\n",
            "117/117 [==============================] - 2s 19ms/step - loss: 0.1563 - recall: 0.0056 - precision: 1.0000 - val_loss: 0.1390 - val_recall: 0.0221 - val_precision: 1.0000 - lr: 1.0000e-05\n",
            "Epoch 3/30\n",
            "117/117 [==============================] - 2s 20ms/step - loss: 0.1288 - recall: 0.0632 - precision: 0.9420 - val_loss: 0.1131 - val_recall: 0.1233 - val_precision: 0.9283 - lr: 1.0000e-05\n",
            "Epoch 4/30\n",
            "117/117 [==============================] - 2s 20ms/step - loss: 0.1084 - recall: 0.1942 - precision: 0.8827 - val_loss: 0.0983 - val_recall: 0.2477 - val_precision: 0.8688 - lr: 1.0000e-05\n",
            "Epoch 5/30\n",
            "117/117 [==============================] - 2s 19ms/step - loss: 0.0969 - recall: 0.2979 - precision: 0.8335 - val_loss: 0.0910 - val_recall: 0.3294 - val_precision: 0.8317 - lr: 1.0000e-05\n",
            "Epoch 6/30\n",
            "117/117 [==============================] - 2s 19ms/step - loss: 0.0904 - recall: 0.3608 - precision: 0.8097 - val_loss: 0.0868 - val_recall: 0.3746 - val_precision: 0.8096 - lr: 1.0000e-05\n",
            "Epoch 7/30\n",
            "117/117 [==============================] - 2s 20ms/step - loss: 0.0868 - recall: 0.3992 - precision: 0.7957 - val_loss: 0.0842 - val_recall: 0.4098 - val_precision: 0.8037 - lr: 1.0000e-05\n",
            "Epoch 8/30\n",
            "117/117 [==============================] - 2s 20ms/step - loss: 0.0835 - recall: 0.4290 - precision: 0.7902 - val_loss: 0.0826 - val_recall: 0.4304 - val_precision: 0.7980 - lr: 1.0000e-05\n",
            "Epoch 9/30\n",
            "117/117 [==============================] - 2s 18ms/step - loss: 0.0813 - recall: 0.4519 - precision: 0.7965 - val_loss: 0.0811 - val_recall: 0.4552 - val_precision: 0.7865 - lr: 1.0000e-05\n",
            "Epoch 10/30\n",
            "117/117 [==============================] - 2s 20ms/step - loss: 0.0795 - recall: 0.4690 - precision: 0.7902 - val_loss: 0.0802 - val_recall: 0.4634 - val_precision: 0.7851 - lr: 1.0000e-05\n",
            "Epoch 11/30\n",
            "117/117 [==============================] - 3s 22ms/step - loss: 0.0780 - recall: 0.4809 - precision: 0.7883 - val_loss: 0.0792 - val_recall: 0.4716 - val_precision: 0.7851 - lr: 1.0000e-05\n",
            "Epoch 12/30\n",
            "117/117 [==============================] - 2s 21ms/step - loss: 0.0766 - recall: 0.4890 - precision: 0.7870 - val_loss: 0.0783 - val_recall: 0.4888 - val_precision: 0.7813 - lr: 1.0000e-05\n",
            "Epoch 13/30\n",
            "117/117 [==============================] - 2s 19ms/step - loss: 0.0752 - recall: 0.4981 - precision: 0.7934 - val_loss: 0.0777 - val_recall: 0.4986 - val_precision: 0.7787 - lr: 1.0000e-05\n",
            "Epoch 14/30\n",
            "117/117 [==============================] - 2s 20ms/step - loss: 0.0747 - recall: 0.5068 - precision: 0.7896 - val_loss: 0.0771 - val_recall: 0.5028 - val_precision: 0.7807 - lr: 1.0000e-05\n",
            "Epoch 15/30\n",
            "117/117 [==============================] - 2s 19ms/step - loss: 0.0734 - recall: 0.5157 - precision: 0.7946 - val_loss: 0.0766 - val_recall: 0.5072 - val_precision: 0.7819 - lr: 1.0000e-05\n",
            "Epoch 16/30\n",
            "117/117 [==============================] - 2s 21ms/step - loss: 0.0723 - recall: 0.5216 - precision: 0.7976 - val_loss: 0.0762 - val_recall: 0.5141 - val_precision: 0.7779 - lr: 1.0000e-05\n",
            "Epoch 17/30\n",
            "117/117 [==============================] - 2s 18ms/step - loss: 0.0721 - recall: 0.5260 - precision: 0.7915 - val_loss: 0.0757 - val_recall: 0.5172 - val_precision: 0.7842 - lr: 1.0000e-05\n",
            "Epoch 18/30\n",
            "117/117 [==============================] - 2s 20ms/step - loss: 0.0713 - recall: 0.5332 - precision: 0.7949 - val_loss: 0.0753 - val_recall: 0.5209 - val_precision: 0.7815 - lr: 1.0000e-05\n",
            "Epoch 19/30\n",
            "117/117 [==============================] - 3s 22ms/step - loss: 0.0705 - recall: 0.5378 - precision: 0.7973 - val_loss: 0.0749 - val_recall: 0.5284 - val_precision: 0.7785 - lr: 1.0000e-05\n",
            "Epoch 20/30\n",
            "117/117 [==============================] - 2s 21ms/step - loss: 0.0700 - recall: 0.5394 - precision: 0.7987 - val_loss: 0.0747 - val_recall: 0.5298 - val_precision: 0.7797 - lr: 1.0000e-05\n",
            "Epoch 21/30\n",
            "117/117 [==============================] - 2s 20ms/step - loss: 0.0692 - recall: 0.5477 - precision: 0.8024 - val_loss: 0.0745 - val_recall: 0.5344 - val_precision: 0.7772 - lr: 1.0000e-05\n",
            "Epoch 22/30\n",
            "117/117 [==============================] - 2s 19ms/step - loss: 0.0686 - recall: 0.5532 - precision: 0.8001 - val_loss: 0.0742 - val_recall: 0.5369 - val_precision: 0.7755 - lr: 1.0000e-05\n",
            "Epoch 23/30\n",
            "117/117 [==============================] - 2s 21ms/step - loss: 0.0680 - recall: 0.5572 - precision: 0.8022 - val_loss: 0.0740 - val_recall: 0.5366 - val_precision: 0.7814 - lr: 1.0000e-05\n",
            "Epoch 24/30\n",
            "117/117 [==============================] - 2s 18ms/step - loss: 0.0676 - recall: 0.5578 - precision: 0.8056 - val_loss: 0.0738 - val_recall: 0.5400 - val_precision: 0.7777 - lr: 1.0000e-05\n",
            "Epoch 25/30\n",
            "117/117 [==============================] - 2s 20ms/step - loss: 0.0670 - recall: 0.5621 - precision: 0.8041 - val_loss: 0.0738 - val_recall: 0.5435 - val_precision: 0.7744 - lr: 1.0000e-05\n",
            "Epoch 26/30\n",
            "117/117 [==============================] - 2s 20ms/step - loss: 0.0667 - recall: 0.5661 - precision: 0.8034 - val_loss: 0.0735 - val_recall: 0.5521 - val_precision: 0.7717 - lr: 1.0000e-05\n",
            "Epoch 27/30\n",
            "117/117 [==============================] - 2s 18ms/step - loss: 0.0659 - recall: 0.5704 - precision: 0.8066 - val_loss: 0.0733 - val_recall: 0.5457 - val_precision: 0.7769 - lr: 1.0000e-05\n",
            "Epoch 28/30\n",
            "117/117 [==============================] - 1s 13ms/step - loss: 0.0655 - recall: 0.5701 - precision: 0.8059 - val_loss: 0.0733 - val_recall: 0.5544 - val_precision: 0.7724 - lr: 1.0000e-05\n",
            "Epoch 29/30\n",
            "117/117 [==============================] - 2s 13ms/step - loss: 0.0653 - recall: 0.5763 - precision: 0.8059 - val_loss: 0.0733 - val_recall: 0.5544 - val_precision: 0.7740 - lr: 1.0000e-05\n",
            "Epoch 30/30\n",
            "117/117 [==============================] - 2s 19ms/step - loss: 0.0645 - recall: 0.5810 - precision: 0.8095 - val_loss: 0.0730 - val_recall: 0.5555 - val_precision: 0.7732 - lr: 1.0000e-05\n",
            "Model: \"model_16\"\n",
            "_________________________________________________________________\n",
            " Layer (type)                Output Shape              Param #   \n",
            "=================================================================\n",
            " input_17 (InputLayer)       [(None, 10, 128)]         0         \n",
            "                                                                 \n",
            " flatten_16 (Flatten)        (None, 1280)              0         \n",
            "                                                                 \n",
            " dense_48 (Dense)            (None, 4096)              5246976   \n",
            "                                                                 \n",
            " dropout_19 (Dropout)        (None, 4096)              0         \n",
            "                                                                 \n",
            " dense_49 (Dense)            (None, 4096)              16781312  \n",
            "                                                                 \n",
            " dense_50 (Dense)            (None, 20)                81940     \n",
            "                                                                 \n",
            "=================================================================\n",
            "Total params: 22,110,228\n",
            "Trainable params: 22,110,228\n",
            "Non-trainable params: 0\n",
            "_________________________________________________________________\n"
          ]
        },
        {
          "output_type": "stream",
          "name": "stderr",
          "text": [
            "WARNING:tensorflow:`epsilon` argument is deprecated and will be removed, use `min_delta` instead.\n"
          ]
        },
        {
          "output_type": "stream",
          "name": "stdout",
          "text": [
            "Epoch 1/30\n",
            "117/117 [==============================] - 4s 30ms/step - loss: 0.2178 - recall: 0.0142 - precision: 0.0544 - val_loss: 0.1663 - val_recall: 0.0000e+00 - val_precision: 0.0000e+00 - lr: 1.0000e-05\n",
            "Epoch 2/30\n",
            "117/117 [==============================] - 2s 20ms/step - loss: 0.1553 - recall: 0.0075 - precision: 0.9899 - val_loss: 0.1379 - val_recall: 0.0310 - val_precision: 1.0000 - lr: 1.0000e-05\n",
            "Epoch 3/30\n",
            "117/117 [==============================] - 2s 18ms/step - loss: 0.1276 - recall: 0.0690 - precision: 0.9506 - val_loss: 0.1116 - val_recall: 0.1337 - val_precision: 0.9364 - lr: 1.0000e-05\n",
            "Epoch 4/30\n",
            "117/117 [==============================] - 2s 20ms/step - loss: 0.1073 - recall: 0.2021 - precision: 0.8865 - val_loss: 0.0975 - val_recall: 0.2621 - val_precision: 0.8674 - lr: 1.0000e-05\n",
            "Epoch 5/30\n",
            "117/117 [==============================] - 2s 20ms/step - loss: 0.0964 - recall: 0.3040 - precision: 0.8379 - val_loss: 0.0907 - val_recall: 0.3314 - val_precision: 0.8303 - lr: 1.0000e-05\n",
            "Epoch 6/30\n",
            "117/117 [==============================] - 2s 19ms/step - loss: 0.0906 - recall: 0.3634 - precision: 0.8061 - val_loss: 0.0869 - val_recall: 0.3719 - val_precision: 0.8167 - lr: 1.0000e-05\n",
            "Epoch 7/30\n",
            "117/117 [==============================] - 2s 20ms/step - loss: 0.0863 - recall: 0.4051 - precision: 0.8015 - val_loss: 0.0843 - val_recall: 0.4054 - val_precision: 0.8063 - lr: 1.0000e-05\n",
            "Epoch 8/30\n",
            "117/117 [==============================] - 2s 18ms/step - loss: 0.0833 - recall: 0.4354 - precision: 0.7954 - val_loss: 0.0825 - val_recall: 0.4346 - val_precision: 0.7993 - lr: 1.0000e-05\n",
            "Epoch 9/30\n",
            "117/117 [==============================] - 2s 20ms/step - loss: 0.0812 - recall: 0.4557 - precision: 0.7981 - val_loss: 0.0810 - val_recall: 0.4518 - val_precision: 0.7929 - lr: 1.0000e-05\n",
            "Epoch 10/30\n",
            "117/117 [==============================] - 2s 19ms/step - loss: 0.0791 - recall: 0.4709 - precision: 0.7938 - val_loss: 0.0801 - val_recall: 0.4598 - val_precision: 0.7909 - lr: 1.0000e-05\n",
            "Epoch 11/30\n",
            "117/117 [==============================] - 2s 20ms/step - loss: 0.0777 - recall: 0.4799 - precision: 0.7901 - val_loss: 0.0792 - val_recall: 0.4704 - val_precision: 0.7847 - lr: 1.0000e-05\n",
            "Epoch 12/30\n",
            "117/117 [==============================] - 2s 18ms/step - loss: 0.0763 - recall: 0.4950 - precision: 0.7919 - val_loss: 0.0784 - val_recall: 0.4831 - val_precision: 0.7849 - lr: 1.0000e-05\n",
            "Epoch 13/30\n",
            "117/117 [==============================] - 2s 19ms/step - loss: 0.0754 - recall: 0.4985 - precision: 0.7889 - val_loss: 0.0777 - val_recall: 0.4897 - val_precision: 0.7822 - lr: 1.0000e-05\n",
            "Epoch 14/30\n",
            "117/117 [==============================] - 2s 20ms/step - loss: 0.0743 - recall: 0.5069 - precision: 0.7939 - val_loss: 0.0770 - val_recall: 0.5003 - val_precision: 0.7807 - lr: 1.0000e-05\n",
            "Epoch 15/30\n",
            "117/117 [==============================] - 2s 20ms/step - loss: 0.0735 - recall: 0.5166 - precision: 0.7963 - val_loss: 0.0765 - val_recall: 0.5054 - val_precision: 0.7789 - lr: 1.0000e-05\n",
            "Epoch 16/30\n",
            "117/117 [==============================] - 2s 20ms/step - loss: 0.0729 - recall: 0.5207 - precision: 0.7936 - val_loss: 0.0762 - val_recall: 0.5070 - val_precision: 0.7821 - lr: 1.0000e-05\n",
            "Epoch 17/30\n",
            "117/117 [==============================] - 2s 20ms/step - loss: 0.0721 - recall: 0.5267 - precision: 0.7946 - val_loss: 0.0758 - val_recall: 0.5156 - val_precision: 0.7808 - lr: 1.0000e-05\n",
            "Epoch 18/30\n",
            "117/117 [==============================] - 2s 19ms/step - loss: 0.0712 - recall: 0.5323 - precision: 0.7967 - val_loss: 0.0756 - val_recall: 0.5158 - val_precision: 0.7808 - lr: 1.0000e-05\n",
            "Epoch 19/30\n",
            "117/117 [==============================] - 2s 20ms/step - loss: 0.0703 - recall: 0.5382 - precision: 0.7983 - val_loss: 0.0752 - val_recall: 0.5218 - val_precision: 0.7781 - lr: 1.0000e-05\n",
            "Epoch 20/30\n",
            "117/117 [==============================] - 2s 21ms/step - loss: 0.0698 - recall: 0.5409 - precision: 0.8005 - val_loss: 0.0749 - val_recall: 0.5278 - val_precision: 0.7776 - lr: 1.0000e-05\n",
            "Epoch 21/30\n",
            "117/117 [==============================] - 3s 23ms/step - loss: 0.0691 - recall: 0.5471 - precision: 0.8006 - val_loss: 0.0746 - val_recall: 0.5293 - val_precision: 0.7771 - lr: 1.0000e-05\n",
            "Epoch 22/30\n",
            "117/117 [==============================] - 3s 22ms/step - loss: 0.0688 - recall: 0.5543 - precision: 0.7998 - val_loss: 0.0744 - val_recall: 0.5360 - val_precision: 0.7732 - lr: 1.0000e-05\n",
            "Epoch 23/30\n",
            "117/117 [==============================] - 2s 20ms/step - loss: 0.0680 - recall: 0.5565 - precision: 0.8039 - val_loss: 0.0741 - val_recall: 0.5366 - val_precision: 0.7769 - lr: 1.0000e-05\n",
            "Epoch 24/30\n",
            "117/117 [==============================] - 2s 13ms/step - loss: 0.0675 - recall: 0.5591 - precision: 0.8037 - val_loss: 0.0741 - val_recall: 0.5364 - val_precision: 0.7746 - lr: 1.0000e-05\n",
            "Epoch 25/30\n",
            "117/117 [==============================] - 2s 20ms/step - loss: 0.0667 - recall: 0.5633 - precision: 0.8099 - val_loss: 0.0736 - val_recall: 0.5389 - val_precision: 0.7784 - lr: 1.0000e-05\n",
            "Epoch 26/30\n",
            "117/117 [==============================] - 2s 20ms/step - loss: 0.0667 - recall: 0.5688 - precision: 0.8049 - val_loss: 0.0736 - val_recall: 0.5451 - val_precision: 0.7759 - lr: 1.0000e-05\n",
            "Epoch 27/30\n",
            "117/117 [==============================] - 2s 13ms/step - loss: 0.0658 - recall: 0.5730 - precision: 0.8082 - val_loss: 0.0736 - val_recall: 0.5415 - val_precision: 0.7745 - lr: 1.0000e-05\n",
            "Epoch 28/30\n",
            "117/117 [==============================] - 2s 20ms/step - loss: 0.0658 - recall: 0.5704 - precision: 0.8027 - val_loss: 0.0733 - val_recall: 0.5451 - val_precision: 0.7781 - lr: 1.0000e-05\n",
            "Epoch 29/30\n",
            "117/117 [==============================] - 2s 18ms/step - loss: 0.0651 - recall: 0.5776 - precision: 0.8067 - val_loss: 0.0733 - val_recall: 0.5497 - val_precision: 0.7706 - lr: 1.0000e-05\n",
            "Epoch 30/30\n",
            "117/117 [==============================] - 2s 20ms/step - loss: 0.0648 - recall: 0.5787 - precision: 0.8089 - val_loss: 0.0732 - val_recall: 0.5486 - val_precision: 0.7710 - lr: 1.0000e-05\n",
            "Model: \"model_17\"\n",
            "_________________________________________________________________\n",
            " Layer (type)                Output Shape              Param #   \n",
            "=================================================================\n",
            " input_18 (InputLayer)       [(None, 10, 128)]         0         \n",
            "                                                                 \n",
            " flatten_17 (Flatten)        (None, 1280)              0         \n",
            "                                                                 \n",
            " dense_51 (Dense)            (None, 4096)              5246976   \n",
            "                                                                 \n",
            " dropout_20 (Dropout)        (None, 4096)              0         \n",
            "                                                                 \n",
            " dense_52 (Dense)            (None, 4096)              16781312  \n",
            "                                                                 \n",
            " dense_53 (Dense)            (None, 20)                81940     \n",
            "                                                                 \n",
            "=================================================================\n",
            "Total params: 22,110,228\n",
            "Trainable params: 22,110,228\n",
            "Non-trainable params: 0\n",
            "_________________________________________________________________\n"
          ]
        },
        {
          "output_type": "stream",
          "name": "stderr",
          "text": [
            "WARNING:tensorflow:`epsilon` argument is deprecated and will be removed, use `min_delta` instead.\n"
          ]
        },
        {
          "output_type": "stream",
          "name": "stdout",
          "text": [
            "Epoch 1/30\n",
            "117/117 [==============================] - 3s 21ms/step - loss: 0.2292 - recall: 0.0181 - precision: 0.0376 - val_loss: 0.1672 - val_recall: 0.0000e+00 - val_precision: 0.0000e+00 - lr: 1.0000e-05\n",
            "Epoch 2/30\n",
            "117/117 [==============================] - 2s 20ms/step - loss: 0.1568 - recall: 0.0040 - precision: 1.0000 - val_loss: 0.1392 - val_recall: 0.0201 - val_precision: 1.0000 - lr: 1.0000e-05\n",
            "Epoch 3/30\n",
            "117/117 [==============================] - 3s 22ms/step - loss: 0.1294 - recall: 0.0573 - precision: 0.9470 - val_loss: 0.1133 - val_recall: 0.1209 - val_precision: 0.9349 - lr: 1.0000e-05\n",
            "Epoch 4/30\n",
            "117/117 [==============================] - 2s 21ms/step - loss: 0.1086 - recall: 0.1909 - precision: 0.8887 - val_loss: 0.0985 - val_recall: 0.2406 - val_precision: 0.8724 - lr: 1.0000e-05\n",
            "Epoch 5/30\n",
            "117/117 [==============================] - 2s 20ms/step - loss: 0.0971 - recall: 0.2933 - precision: 0.8341 - val_loss: 0.0914 - val_recall: 0.3288 - val_precision: 0.8343 - lr: 1.0000e-05\n",
            "Epoch 6/30\n",
            "117/117 [==============================] - 2s 20ms/step - loss: 0.0906 - recall: 0.3560 - precision: 0.8093 - val_loss: 0.0873 - val_recall: 0.3748 - val_precision: 0.8104 - lr: 1.0000e-05\n",
            "Epoch 7/30\n",
            "117/117 [==============================] - 2s 19ms/step - loss: 0.0867 - recall: 0.4013 - precision: 0.7962 - val_loss: 0.0846 - val_recall: 0.4031 - val_precision: 0.8054 - lr: 1.0000e-05\n",
            "Epoch 8/30\n",
            "117/117 [==============================] - 2s 21ms/step - loss: 0.0835 - recall: 0.4303 - precision: 0.7957 - val_loss: 0.0827 - val_recall: 0.4275 - val_precision: 0.7963 - lr: 1.0000e-05\n",
            "Epoch 9/30\n",
            "117/117 [==============================] - 2s 20ms/step - loss: 0.0815 - recall: 0.4477 - precision: 0.7876 - val_loss: 0.0812 - val_recall: 0.4468 - val_precision: 0.7914 - lr: 1.0000e-05\n",
            "Epoch 10/30\n",
            "117/117 [==============================] - 3s 25ms/step - loss: 0.0796 - recall: 0.4653 - precision: 0.7856 - val_loss: 0.0804 - val_recall: 0.4638 - val_precision: 0.7838 - lr: 1.0000e-05\n",
            "Epoch 11/30\n",
            "117/117 [==============================] - 3s 23ms/step - loss: 0.0780 - recall: 0.4790 - precision: 0.7903 - val_loss: 0.0794 - val_recall: 0.4742 - val_precision: 0.7829 - lr: 1.0000e-05\n",
            "Epoch 12/30\n",
            "117/117 [==============================] - 2s 21ms/step - loss: 0.0771 - recall: 0.4878 - precision: 0.7890 - val_loss: 0.0785 - val_recall: 0.4842 - val_precision: 0.7800 - lr: 1.0000e-05\n",
            "Epoch 13/30\n",
            "117/117 [==============================] - 2s 21ms/step - loss: 0.0756 - recall: 0.4990 - precision: 0.7909 - val_loss: 0.0777 - val_recall: 0.4893 - val_precision: 0.7779 - lr: 1.0000e-05\n",
            "Epoch 14/30\n",
            "117/117 [==============================] - 2s 21ms/step - loss: 0.0746 - recall: 0.5108 - precision: 0.7942 - val_loss: 0.0773 - val_recall: 0.4981 - val_precision: 0.7756 - lr: 1.0000e-05\n",
            "Epoch 15/30\n",
            "117/117 [==============================] - 2s 21ms/step - loss: 0.0736 - recall: 0.5162 - precision: 0.7942 - val_loss: 0.0771 - val_recall: 0.5032 - val_precision: 0.7776 - lr: 1.0000e-05\n",
            "Epoch 16/30\n",
            "117/117 [==============================] - 2s 21ms/step - loss: 0.0728 - recall: 0.5216 - precision: 0.7955 - val_loss: 0.0762 - val_recall: 0.5118 - val_precision: 0.7766 - lr: 1.0000e-05\n",
            "Epoch 17/30\n",
            "117/117 [==============================] - 2s 19ms/step - loss: 0.0719 - recall: 0.5261 - precision: 0.7982 - val_loss: 0.0758 - val_recall: 0.5141 - val_precision: 0.7808 - lr: 1.0000e-05\n",
            "Epoch 18/30\n",
            "117/117 [==============================] - 2s 21ms/step - loss: 0.0712 - recall: 0.5338 - precision: 0.7946 - val_loss: 0.0756 - val_recall: 0.5222 - val_precision: 0.7737 - lr: 1.0000e-05\n",
            "Epoch 19/30\n",
            "117/117 [==============================] - 2s 21ms/step - loss: 0.0707 - recall: 0.5345 - precision: 0.7957 - val_loss: 0.0754 - val_recall: 0.5200 - val_precision: 0.7781 - lr: 1.0000e-05\n",
            "Epoch 20/30\n",
            "117/117 [==============================] - 2s 20ms/step - loss: 0.0702 - recall: 0.5409 - precision: 0.7972 - val_loss: 0.0751 - val_recall: 0.5256 - val_precision: 0.7766 - lr: 1.0000e-05\n",
            "Epoch 21/30\n",
            "117/117 [==============================] - 2s 20ms/step - loss: 0.0693 - recall: 0.5475 - precision: 0.8019 - val_loss: 0.0748 - val_recall: 0.5265 - val_precision: 0.7779 - lr: 1.0000e-05\n",
            "Epoch 22/30\n",
            "117/117 [==============================] - 2s 20ms/step - loss: 0.0690 - recall: 0.5521 - precision: 0.8010 - val_loss: 0.0746 - val_recall: 0.5304 - val_precision: 0.7759 - lr: 1.0000e-05\n",
            "Epoch 23/30\n",
            "117/117 [==============================] - 2s 20ms/step - loss: 0.0683 - recall: 0.5539 - precision: 0.8032 - val_loss: 0.0744 - val_recall: 0.5333 - val_precision: 0.7758 - lr: 1.0000e-05\n",
            "Epoch 24/30\n",
            "117/117 [==============================] - 3s 21ms/step - loss: 0.0676 - recall: 0.5565 - precision: 0.8035 - val_loss: 0.0742 - val_recall: 0.5386 - val_precision: 0.7746 - lr: 1.0000e-05\n",
            "Epoch 25/30\n",
            "117/117 [==============================] - 3s 21ms/step - loss: 0.0670 - recall: 0.5605 - precision: 0.8036 - val_loss: 0.0739 - val_recall: 0.5437 - val_precision: 0.7789 - lr: 1.0000e-05\n",
            "Epoch 26/30\n",
            "117/117 [==============================] - 2s 21ms/step - loss: 0.0666 - recall: 0.5668 - precision: 0.8071 - val_loss: 0.0735 - val_recall: 0.5437 - val_precision: 0.7792 - lr: 1.0000e-05\n",
            "Epoch 27/30\n",
            "117/117 [==============================] - 2s 13ms/step - loss: 0.0665 - recall: 0.5720 - precision: 0.8041 - val_loss: 0.0736 - val_recall: 0.5506 - val_precision: 0.7760 - lr: 1.0000e-05\n",
            "Epoch 28/30\n",
            "117/117 [==============================] - 3s 25ms/step - loss: 0.0658 - recall: 0.5712 - precision: 0.8057 - val_loss: 0.0732 - val_recall: 0.5479 - val_precision: 0.7790 - lr: 1.0000e-05\n",
            "Epoch 29/30\n",
            "117/117 [==============================] - 2s 16ms/step - loss: 0.0653 - recall: 0.5772 - precision: 0.8090 - val_loss: 0.0733 - val_recall: 0.5544 - val_precision: 0.7712 - lr: 1.0000e-05\n",
            "Epoch 30/30\n",
            "117/117 [==============================] - 2s 19ms/step - loss: 0.0648 - recall: 0.5783 - precision: 0.8091 - val_loss: 0.0732 - val_recall: 0.5546 - val_precision: 0.7727 - lr: 1.0000e-05\n"
          ]
        },
        {
          "output_type": "display_data",
          "data": {
            "text/plain": [
              "<Figure size 432x288 with 1 Axes>"
            ],
            "image/png": "[encoded data removed]"
          },
          "metadata": {
            "needs_background": "light"
          }
        }
      ]
    },
    {
      "cell_type": "code",
      "source": [
        "# import necessary layers  \n",
        "from tensorflow.keras.layers import Input, Conv2D \n",
        "from tensorflow.keras.layers import MaxPool2D, Flatten, Dense, Dropout \n",
        "from tensorflow.keras import Model\n",
        "\n",
        "input = Input(shape =(10, 128))\n",
        "# Fully connected layer classifier\n",
        "x = Flatten()(input)\n",
        "x = Dense(units = 4096, activation ='relu')(x)\n",
        "x = Dropout(0.5)(x)\n",
        "x = Dense(units = 4096, activation ='relu')(x)\n",
        "# x = Dropout(0.5)(x)\n",
        "output = Dense(units = 20, activation ='sigmoid')(x)\n",
        "\n",
        "# creating the model\n",
        "model = Model (inputs=input, outputs =output)\n",
        "model.summary()"
      ],
      "metadata": {
        "colab": {
          "base_uri": "https://localhost:8080/"
        },
        "id": "ZAIG-i8CJbf_",
        "outputId": "ec83d775-2de2-433f-c38b-46f3a8cefa3d"
      },
      "execution_count": null,
      "outputs": [
        {
          "output_type": "stream",
          "name": "stdout",
          "text": [
            "Model: \"model_7\"\n",
            "_________________________________________________________________\n",
            " Layer (type)                Output Shape              Param #   \n",
            "=================================================================\n",
            " input_8 (InputLayer)        [(None, 10, 128)]         0         \n",
            "                                                                 \n",
            " flatten_7 (Flatten)         (None, 1280)              0         \n",
            "                                                                 \n",
            " dense_21 (Dense)            (None, 4096)              5246976   \n",
            "                                                                 \n",
            " dropout_10 (Dropout)        (None, 4096)              0         \n",
            "                                                                 \n",
            " dense_22 (Dense)            (None, 4096)              16781312  \n",
            "                                                                 \n",
            " dense_23 (Dense)            (None, 20)                81940     \n",
            "                                                                 \n",
            "=================================================================\n",
            "Total params: 22,110,228\n",
            "Trainable params: 22,110,228\n",
            "Non-trainable params: 0\n",
            "_________________________________________________________________\n"
          ]
        }
      ]
    },
    {
      "cell_type": "code",
      "source": [
        "LR = 1e-5 # Keep it small when transfer learning\n",
        "EPOCHS = 30\n",
        "loss_fn = tf.keras.losses.BinaryCrossentropy()"
      ],
      "metadata": {
        "id": "nAVOuQpZJTRL"
      },
      "execution_count": null,
      "outputs": []
    },
    {
      "cell_type": "code",
      "source": [
        "model.compile(\n",
        "  optimizer=tf.keras.optimizers.Adam(learning_rate=LR),\n",
        "  loss=loss_fn, metrics = ['Recall', 'Precision'])"
      ],
      "metadata": {
        "id": "JEE3Q2x-cfCU"
      },
      "execution_count": null,
      "outputs": []
    },
    {
      "cell_type": "code",
      "source": [
        "earlyStopping = EarlyStopping(monitor='val_loss', patience=10, verbose=0, mode='min')\n",
        "mcp_save = ModelCheckpoint('mdl_wts.hdf5', save_best_only=True, monitor='val_loss', mode='min')\n",
        "reduce_lr_loss = ReduceLROnPlateau(monitor='val_loss', factor=0.5, patience=7, verbose=1, epsilon=1e-4, mode='min')\n",
        "\n",
        "history = model.fit(x_train, epochs = EPOCHS, callbacks=[earlyStopping, mcp_save, reduce_lr_loss], validation_data = x_test)"
      ],
      "metadata": {
        "colab": {
          "base_uri": "https://localhost:8080/"
        },
        "id": "d-FurJiIcgn5",
        "outputId": "1e88674b-99d5-47b5-ce53-ff823285a8f1"
      },
      "execution_count": null,
      "outputs": [
        {
          "output_type": "stream",
          "name": "stderr",
          "text": [
            "WARNING:tensorflow:`epsilon` argument is deprecated and will be removed, use `min_delta` instead.\n"
          ]
        },
        {
          "output_type": "stream",
          "name": "stdout",
          "text": [
            "Epoch 1/30\n",
            "117/117 [==============================] - 3s 23ms/step - loss: 0.2215 - recall: 0.0137 - precision: 0.0456 - val_loss: 0.1663 - val_recall: 0.0000e+00 - val_precision: 0.0000e+00 - lr: 1.0000e-05\n",
            "Epoch 2/30\n",
            "117/117 [==============================] - 2s 21ms/step - loss: 0.1559 - recall: 0.0048 - precision: 0.9844 - val_loss: 0.1382 - val_recall: 0.0268 - val_precision: 0.9918 - lr: 1.0000e-05\n",
            "Epoch 3/30\n",
            "117/117 [==============================] - 2s 20ms/step - loss: 0.1287 - recall: 0.0641 - precision: 0.9491 - val_loss: 0.1118 - val_recall: 0.1304 - val_precision: 0.9394 - lr: 1.0000e-05\n",
            "Epoch 4/30\n",
            "117/117 [==============================] - 2s 20ms/step - loss: 0.1075 - recall: 0.1962 - precision: 0.8780 - val_loss: 0.0973 - val_recall: 0.2590 - val_precision: 0.8616 - lr: 1.0000e-05\n",
            "Epoch 5/30\n",
            "117/117 [==============================] - 2s 20ms/step - loss: 0.0963 - recall: 0.3026 - precision: 0.8306 - val_loss: 0.0901 - val_recall: 0.3367 - val_precision: 0.8302 - lr: 1.0000e-05\n",
            "Epoch 6/30\n",
            "117/117 [==============================] - 3s 29ms/step - loss: 0.0898 - recall: 0.3618 - precision: 0.8069 - val_loss: 0.0861 - val_recall: 0.3845 - val_precision: 0.8075 - lr: 1.0000e-05\n",
            "Epoch 7/30\n",
            "117/117 [==============================] - 2s 21ms/step - loss: 0.0858 - recall: 0.4056 - precision: 0.7980 - val_loss: 0.0837 - val_recall: 0.4180 - val_precision: 0.7966 - lr: 1.0000e-05\n",
            "Epoch 8/30\n",
            "117/117 [==============================] - 2s 20ms/step - loss: 0.0832 - recall: 0.4335 - precision: 0.7947 - val_loss: 0.0821 - val_recall: 0.4428 - val_precision: 0.7865 - lr: 1.0000e-05\n",
            "Epoch 9/30\n",
            "117/117 [==============================] - 2s 19ms/step - loss: 0.0806 - recall: 0.4551 - precision: 0.7928 - val_loss: 0.0807 - val_recall: 0.4563 - val_precision: 0.7798 - lr: 1.0000e-05\n",
            "Epoch 10/30\n",
            "117/117 [==============================] - 3s 26ms/step - loss: 0.0791 - recall: 0.4706 - precision: 0.7895 - val_loss: 0.0795 - val_recall: 0.4720 - val_precision: 0.7767 - lr: 1.0000e-05\n",
            "Epoch 11/30\n",
            "117/117 [==============================] - 2s 21ms/step - loss: 0.0777 - recall: 0.4809 - precision: 0.7889 - val_loss: 0.0788 - val_recall: 0.4793 - val_precision: 0.7768 - lr: 1.0000e-05\n",
            "Epoch 12/30\n",
            "117/117 [==============================] - 2s 19ms/step - loss: 0.0764 - recall: 0.4894 - precision: 0.7865 - val_loss: 0.0780 - val_recall: 0.4855 - val_precision: 0.7760 - lr: 1.0000e-05\n",
            "Epoch 13/30\n",
            "117/117 [==============================] - 2s 21ms/step - loss: 0.0751 - recall: 0.4977 - precision: 0.7919 - val_loss: 0.0774 - val_recall: 0.4950 - val_precision: 0.7745 - lr: 1.0000e-05\n",
            "Epoch 14/30\n",
            "117/117 [==============================] - 2s 19ms/step - loss: 0.0743 - recall: 0.5116 - precision: 0.7925 - val_loss: 0.0768 - val_recall: 0.5037 - val_precision: 0.7749 - lr: 1.0000e-05\n",
            "Epoch 15/30\n",
            "117/117 [==============================] - 2s 21ms/step - loss: 0.0732 - recall: 0.5207 - precision: 0.7934 - val_loss: 0.0763 - val_recall: 0.5096 - val_precision: 0.7725 - lr: 1.0000e-05\n",
            "Epoch 16/30\n",
            "117/117 [==============================] - 2s 21ms/step - loss: 0.0722 - recall: 0.5266 - precision: 0.7954 - val_loss: 0.0759 - val_recall: 0.5101 - val_precision: 0.7779 - lr: 1.0000e-05\n",
            "Epoch 17/30\n",
            "117/117 [==============================] - 2s 21ms/step - loss: 0.0715 - recall: 0.5281 - precision: 0.7953 - val_loss: 0.0754 - val_recall: 0.5174 - val_precision: 0.7759 - lr: 1.0000e-05\n",
            "Epoch 18/30\n",
            "117/117 [==============================] - 2s 19ms/step - loss: 0.0709 - recall: 0.5366 - precision: 0.7951 - val_loss: 0.0753 - val_recall: 0.5209 - val_precision: 0.7702 - lr: 1.0000e-05\n",
            "Epoch 19/30\n",
            "117/117 [==============================] - 2s 19ms/step - loss: 0.0703 - recall: 0.5413 - precision: 0.8029 - val_loss: 0.0749 - val_recall: 0.5191 - val_precision: 0.7744 - lr: 1.0000e-05\n",
            "Epoch 20/30\n",
            "117/117 [==============================] - 2s 20ms/step - loss: 0.0697 - recall: 0.5455 - precision: 0.8002 - val_loss: 0.0746 - val_recall: 0.5335 - val_precision: 0.7702 - lr: 1.0000e-05\n",
            "Epoch 21/30\n",
            "117/117 [==============================] - 2s 20ms/step - loss: 0.0690 - recall: 0.5484 - precision: 0.8008 - val_loss: 0.0742 - val_recall: 0.5311 - val_precision: 0.7729 - lr: 1.0000e-05\n",
            "Epoch 22/30\n",
            "117/117 [==============================] - 2s 19ms/step - loss: 0.0684 - recall: 0.5523 - precision: 0.8027 - val_loss: 0.0740 - val_recall: 0.5393 - val_precision: 0.7685 - lr: 1.0000e-05\n",
            "Epoch 23/30\n",
            "117/117 [==============================] - 2s 13ms/step - loss: 0.0678 - recall: 0.5554 - precision: 0.8015 - val_loss: 0.0740 - val_recall: 0.5382 - val_precision: 0.7735 - lr: 1.0000e-05\n",
            "Epoch 24/30\n",
            "117/117 [==============================] - 2s 19ms/step - loss: 0.0673 - recall: 0.5628 - precision: 0.8055 - val_loss: 0.0736 - val_recall: 0.5433 - val_precision: 0.7688 - lr: 1.0000e-05\n",
            "Epoch 25/30\n",
            "117/117 [==============================] - 2s 20ms/step - loss: 0.0669 - recall: 0.5646 - precision: 0.8069 - val_loss: 0.0734 - val_recall: 0.5442 - val_precision: 0.7715 - lr: 1.0000e-05\n",
            "Epoch 26/30\n",
            "117/117 [==============================] - 2s 20ms/step - loss: 0.0665 - recall: 0.5655 - precision: 0.8042 - val_loss: 0.0733 - val_recall: 0.5428 - val_precision: 0.7720 - lr: 1.0000e-05\n",
            "Epoch 27/30\n",
            "117/117 [==============================] - 3s 23ms/step - loss: 0.0661 - recall: 0.5690 - precision: 0.8042 - val_loss: 0.0731 - val_recall: 0.5486 - val_precision: 0.7700 - lr: 1.0000e-05\n",
            "Epoch 28/30\n",
            "117/117 [==============================] - 3s 23ms/step - loss: 0.0651 - recall: 0.5751 - precision: 0.8113 - val_loss: 0.0731 - val_recall: 0.5517 - val_precision: 0.7677 - lr: 1.0000e-05\n",
            "Epoch 29/30\n",
            "117/117 [==============================] - 2s 20ms/step - loss: 0.0651 - recall: 0.5768 - precision: 0.8066 - val_loss: 0.0727 - val_recall: 0.5504 - val_precision: 0.7725 - lr: 1.0000e-05\n",
            "Epoch 30/30\n",
            "117/117 [==============================] - 1s 13ms/step - loss: 0.0646 - recall: 0.5783 - precision: 0.8085 - val_loss: 0.0728 - val_recall: 0.5504 - val_precision: 0.7718 - lr: 1.0000e-05\n"
          ]
        }
      ]
    },
    {
      "cell_type": "code",
      "source": [
        "# list all data in history\n",
        "print(history.history.keys())"
      ],
      "metadata": {
        "colab": {
          "base_uri": "https://localhost:8080/"
        },
        "id": "ViMCopeVcgh6",
        "outputId": "1d9e5360-ebfc-481d-de8e-01cd20666148"
      },
      "execution_count": null,
      "outputs": [
        {
          "output_type": "stream",
          "name": "stdout",
          "text": [
            "dict_keys(['loss', 'recall', 'precision', 'val_loss', 'val_recall', 'val_precision', 'lr'])\n"
          ]
        }
      ]
    },
    {
      "cell_type": "code",
      "source": [
        "# summarize history for accuracy\n",
        "# plt.plot(history.history['recall'])\n",
        "# plt.plot(history.history['precision'])\n",
        "# plt.title('train precision-recall')\n",
        "# plt.ylabel('precision')\n",
        "# plt.xlabel('epoch')\n",
        "# plt.legend(['train', 'test'], loc='upper left')\n",
        "# plt.show()\n",
        "# summarize history for loss\n",
        "plt.plot(history.history['loss'])\n",
        "plt.plot(history.history['val_loss'])\n",
        "plt.title('model loss')\n",
        "plt.ylabel('loss')\n",
        "plt.xlabel('epoch')\n",
        "plt.legend(['train', 'test'], loc='upper left')\n",
        "plt.show()"
      ],
      "metadata": {
        "colab": {
          "base_uri": "https://localhost:8080/",
          "height": 295
        },
        "id": "MbWhfv6-eYJm",
        "outputId": "a10ded66-3621-4199-e3d3-d9c89c1a5a62"
      },
      "execution_count": null,
      "outputs": [
        {
          "output_type": "display_data",
          "data": {
            "text/plain": [
              "<Figure size 432x288 with 1 Axes>"
            ],
            "image/png": "[encoded data removed]"
          },
          "metadata": {
            "needs_background": "light"
          }
        }
      ]
    },
    {
      "cell_type": "code",
      "source": [
        "from keras.models import load_model\n",
        "\n",
        "for seed in seeds:\n",
        "  model = load_model(f'mdl_wts_{seed}.hdf5')\n",
        "  y_pred = model.predict(x_test, batch_size = 1)\n",
        "  y_pred1 = np.where(y_pred >= 0.5, 1, 0)\n",
        "  print(classification_report(Y_test_labels, y_pred1))"
      ],
      "metadata": {
        "colab": {
          "base_uri": "https://localhost:8080/"
        },
        "id": "66iwhlyAyrjl",
        "outputId": "3d3c4004-2fe5-40d7-ada3-c0345a03f439"
      },
      "execution_count": null,
      "outputs": [
        {
          "output_type": "stream",
          "name": "stdout",
          "text": [
            "40/40 [==============================] - 0s 6ms/step\n",
            "              precision    recall  f1-score   support\n",
            "\n",
            "           0       0.03      0.02      0.02       115\n",
            "           1       0.01      0.01      0.01       140\n",
            "           2       0.00      0.00      0.00       134\n",
            "           3       0.09      0.04      0.06       226\n",
            "           4       0.00      0.00      0.00       137\n",
            "           5       0.06      0.05      0.06       297\n",
            "           6       0.05      0.04      0.04       278\n",
            "           7       0.02      0.01      0.01       175\n",
            "           8       0.09      0.08      0.08       286\n",
            "           9       0.02      0.01      0.01       211\n",
            "          10       0.06      0.05      0.05       193\n",
            "          11       0.10      0.03      0.05       121\n",
            "          12       0.07      0.07      0.07       285\n",
            "          13       0.05      0.05      0.05       305\n",
            "          14       0.06      0.06      0.06       268\n",
            "          15       0.03      0.02      0.02       228\n",
            "          16       0.04      0.03      0.03       318\n",
            "          17       0.02      0.02      0.02       182\n",
            "          18       0.10      0.07      0.09       394\n",
            "          19       0.08      0.06      0.07       224\n",
            "\n",
            "   micro avg       0.06      0.04      0.05      4517\n",
            "   macro avg       0.05      0.04      0.04      4517\n",
            "weighted avg       0.05      0.04      0.05      4517\n",
            " samples avg       0.03      0.03      0.03      4517\n",
            "\n"
          ]
        },
        {
          "output_type": "stream",
          "name": "stderr",
          "text": [
            "/usr/local/lib/python3.7/dist-packages/sklearn/metrics/_classification.py:1318: UndefinedMetricWarning: Precision and F-score are ill-defined and being set to 0.0 in samples with no predicted labels. Use `zero_division` parameter to control this behavior.\n",
            "  _warn_prf(average, modifier, msg_start, len(result))\n",
            "/usr/local/lib/python3.7/dist-packages/sklearn/metrics/_classification.py:1318: UndefinedMetricWarning: Recall and F-score are ill-defined and being set to 0.0 in samples with no true labels. Use `zero_division` parameter to control this behavior.\n",
            "  _warn_prf(average, modifier, msg_start, len(result))\n"
          ]
        },
        {
          "output_type": "stream",
          "name": "stdout",
          "text": [
            "40/40 [==============================] - 0s 6ms/step\n",
            "              precision    recall  f1-score   support\n",
            "\n",
            "           0       0.02      0.01      0.01       115\n",
            "           1       0.02      0.01      0.02       140\n",
            "           2       0.02      0.01      0.01       134\n",
            "           3       0.09      0.05      0.06       226\n",
            "           4       0.03      0.01      0.01       137\n",
            "           5       0.07      0.05      0.06       297\n",
            "           6       0.04      0.03      0.04       278\n",
            "           7       0.05      0.03      0.04       175\n",
            "           8       0.06      0.06      0.06       286\n",
            "           9       0.06      0.03      0.04       211\n",
            "          10       0.04      0.04      0.04       193\n",
            "          11       0.02      0.01      0.01       121\n",
            "          12       0.08      0.07      0.07       285\n",
            "          13       0.04      0.04      0.04       305\n",
            "          14       0.06      0.06      0.06       268\n",
            "          15       0.04      0.02      0.03       228\n",
            "          16       0.05      0.03      0.04       318\n",
            "          17       0.04      0.04      0.04       182\n",
            "          18       0.11      0.08      0.09       394\n",
            "          19       0.05      0.04      0.04       224\n",
            "\n",
            "   micro avg       0.06      0.04      0.05      4517\n",
            "   macro avg       0.05      0.04      0.04      4517\n",
            "weighted avg       0.06      0.04      0.05      4517\n",
            " samples avg       0.03      0.03      0.03      4517\n",
            "\n"
          ]
        },
        {
          "output_type": "stream",
          "name": "stderr",
          "text": [
            "/usr/local/lib/python3.7/dist-packages/sklearn/metrics/_classification.py:1318: UndefinedMetricWarning: Precision and F-score are ill-defined and being set to 0.0 in samples with no predicted labels. Use `zero_division` parameter to control this behavior.\n",
            "  _warn_prf(average, modifier, msg_start, len(result))\n",
            "/usr/local/lib/python3.7/dist-packages/sklearn/metrics/_classification.py:1318: UndefinedMetricWarning: Recall and F-score are ill-defined and being set to 0.0 in samples with no true labels. Use `zero_division` parameter to control this behavior.\n",
            "  _warn_prf(average, modifier, msg_start, len(result))\n"
          ]
        },
        {
          "output_type": "stream",
          "name": "stdout",
          "text": [
            "40/40 [==============================] - 0s 6ms/step\n",
            "              precision    recall  f1-score   support\n",
            "\n",
            "           0       0.05      0.03      0.04       115\n",
            "           1       0.04      0.03      0.03       140\n",
            "           2       0.04      0.01      0.02       134\n",
            "           3       0.01      0.00      0.01       226\n",
            "           4       0.02      0.01      0.01       137\n",
            "           5       0.07      0.05      0.06       297\n",
            "           6       0.08      0.05      0.06       278\n",
            "           7       0.02      0.01      0.01       175\n",
            "           8       0.06      0.06      0.06       286\n",
            "           9       0.04      0.03      0.03       211\n",
            "          10       0.06      0.05      0.05       193\n",
            "          11       0.03      0.01      0.01       121\n",
            "          12       0.07      0.06      0.07       285\n",
            "          13       0.08      0.07      0.07       305\n",
            "          14       0.06      0.06      0.06       268\n",
            "          15       0.06      0.04      0.04       228\n",
            "          16       0.06      0.04      0.05       318\n",
            "          17       0.03      0.03      0.03       182\n",
            "          18       0.12      0.08      0.10       394\n",
            "          19       0.05      0.04      0.05       224\n",
            "\n",
            "   micro avg       0.06      0.04      0.05      4517\n",
            "   macro avg       0.05      0.04      0.04      4517\n",
            "weighted avg       0.06      0.04      0.05      4517\n",
            " samples avg       0.03      0.03      0.03      4517\n",
            "\n"
          ]
        },
        {
          "output_type": "stream",
          "name": "stderr",
          "text": [
            "/usr/local/lib/python3.7/dist-packages/sklearn/metrics/_classification.py:1318: UndefinedMetricWarning: Precision and F-score are ill-defined and being set to 0.0 in samples with no predicted labels. Use `zero_division` parameter to control this behavior.\n",
            "  _warn_prf(average, modifier, msg_start, len(result))\n",
            "/usr/local/lib/python3.7/dist-packages/sklearn/metrics/_classification.py:1318: UndefinedMetricWarning: Recall and F-score are ill-defined and being set to 0.0 in samples with no true labels. Use `zero_division` parameter to control this behavior.\n",
            "  _warn_prf(average, modifier, msg_start, len(result))\n"
          ]
        },
        {
          "output_type": "stream",
          "name": "stdout",
          "text": [
            "40/40 [==============================] - 0s 5ms/step\n",
            "              precision    recall  f1-score   support\n",
            "\n",
            "           0       0.02      0.01      0.01       115\n",
            "           1       0.01      0.01      0.01       140\n",
            "           2       0.08      0.04      0.05       134\n",
            "           3       0.03      0.01      0.02       226\n",
            "           4       0.03      0.01      0.01       137\n",
            "           5       0.06      0.05      0.06       297\n",
            "           6       0.06      0.04      0.05       278\n",
            "           7       0.05      0.03      0.03       175\n",
            "           8       0.05      0.05      0.05       286\n",
            "           9       0.05      0.03      0.04       211\n",
            "          10       0.03      0.02      0.02       193\n",
            "          11       0.10      0.03      0.05       121\n",
            "          12       0.06      0.06      0.06       285\n",
            "          13       0.06      0.05      0.05       305\n",
            "          14       0.07      0.06      0.06       268\n",
            "          15       0.05      0.03      0.04       228\n",
            "          16       0.05      0.03      0.04       318\n",
            "          17       0.03      0.02      0.02       182\n",
            "          18       0.12      0.08      0.10       394\n",
            "          19       0.04      0.03      0.04       224\n",
            "\n",
            "   micro avg       0.06      0.04      0.05      4517\n",
            "   macro avg       0.05      0.03      0.04      4517\n",
            "weighted avg       0.06      0.04      0.05      4517\n",
            " samples avg       0.03      0.03      0.03      4517\n",
            "\n"
          ]
        },
        {
          "output_type": "stream",
          "name": "stderr",
          "text": [
            "/usr/local/lib/python3.7/dist-packages/sklearn/metrics/_classification.py:1318: UndefinedMetricWarning: Precision and F-score are ill-defined and being set to 0.0 in samples with no predicted labels. Use `zero_division` parameter to control this behavior.\n",
            "  _warn_prf(average, modifier, msg_start, len(result))\n",
            "/usr/local/lib/python3.7/dist-packages/sklearn/metrics/_classification.py:1318: UndefinedMetricWarning: Recall and F-score are ill-defined and being set to 0.0 in samples with no true labels. Use `zero_division` parameter to control this behavior.\n",
            "  _warn_prf(average, modifier, msg_start, len(result))\n"
          ]
        },
        {
          "output_type": "stream",
          "name": "stdout",
          "text": [
            "40/40 [==============================] - 0s 6ms/step\n",
            "              precision    recall  f1-score   support\n",
            "\n",
            "           0       0.04      0.02      0.02       115\n",
            "           1       0.06      0.04      0.04       140\n",
            "           2       0.02      0.01      0.01       134\n",
            "           3       0.05      0.03      0.04       226\n",
            "           4       0.00      0.00      0.00       137\n",
            "           5       0.06      0.05      0.05       297\n",
            "           6       0.07      0.05      0.06       278\n",
            "           7       0.05      0.03      0.04       175\n",
            "           8       0.08      0.07      0.08       286\n",
            "           9       0.06      0.03      0.04       211\n",
            "          10       0.05      0.04      0.04       193\n",
            "          11       0.02      0.01      0.01       121\n",
            "          12       0.05      0.05      0.05       285\n",
            "          13       0.08      0.08      0.08       305\n",
            "          14       0.08      0.07      0.07       268\n",
            "          15       0.05      0.03      0.04       228\n",
            "          16       0.07      0.04      0.05       318\n",
            "          17       0.04      0.04      0.04       182\n",
            "          18       0.10      0.07      0.08       394\n",
            "          19       0.02      0.02      0.02       224\n",
            "\n",
            "   micro avg       0.06      0.04      0.05      4517\n",
            "   macro avg       0.05      0.04      0.04      4517\n",
            "weighted avg       0.06      0.04      0.05      4517\n",
            " samples avg       0.03      0.03      0.03      4517\n",
            "\n"
          ]
        },
        {
          "output_type": "stream",
          "name": "stderr",
          "text": [
            "/usr/local/lib/python3.7/dist-packages/sklearn/metrics/_classification.py:1318: UndefinedMetricWarning: Precision and F-score are ill-defined and being set to 0.0 in samples with no predicted labels. Use `zero_division` parameter to control this behavior.\n",
            "  _warn_prf(average, modifier, msg_start, len(result))\n",
            "/usr/local/lib/python3.7/dist-packages/sklearn/metrics/_classification.py:1318: UndefinedMetricWarning: Recall and F-score are ill-defined and being set to 0.0 in samples with no true labels. Use `zero_division` parameter to control this behavior.\n",
            "  _warn_prf(average, modifier, msg_start, len(result))\n"
          ]
        }
      ]
    },
    {
      "cell_type": "code",
      "source": [
        "y_pred = model.predict(x_test, batch_size = 1)\n",
        "print(y_pred[0])\n",
        "y_pred1 = np.where(y_pred >= 0.5, 1, 0)\n",
        "print(y_pred1[0])"
      ],
      "metadata": {
        "colab": {
          "base_uri": "https://localhost:8080/"
        },
        "id": "0MA-Sc8Ie-k5",
        "outputId": "da996e7f-77e0-4fb7-c30c-dff004737852"
      },
      "execution_count": null,
      "outputs": [
        {
          "output_type": "stream",
          "name": "stdout",
          "text": [
            "40/40 [==============================] - 0s 6ms/step\n",
            "[2.1384990e-01 1.1609243e-03 1.4079579e-04 1.9858375e-02 8.4768385e-03\n",
            " 1.1870984e-03 7.2388037e-04 3.7915925e-03 1.0523508e-02 9.1048109e-04\n",
            " 9.0123899e-04 1.2783759e-02 1.3230937e-03 2.6681878e-02 9.0120435e-03\n",
            " 3.5972991e-03 5.7203528e-03 2.4728877e-03 2.4128115e-02 6.7566023e-03]\n",
            "[0 0 0 0 0 0 0 0 0 0 0 0 0 0 0 0 0 0 0 0]\n"
          ]
        }
      ]
    },
    {
      "cell_type": "code",
      "source": [
        "print(multilabel_confusion_matrix(Y_test_labels, y_pred1))"
      ],
      "metadata": {
        "id": "eMLYlFu0fXRu"
      },
      "execution_count": null,
      "outputs": []
    },
    {
      "cell_type": "code",
      "source": [
        "print(classification_report(Y_test_labels, y_pred1))"
      ],
      "metadata": {
        "colab": {
          "base_uri": "https://localhost:8080/"
        },
        "id": "ECUMXfiefW7k",
        "outputId": "108177ef-e8ea-4945-b671-f3e31d8972e8"
      },
      "execution_count": null,
      "outputs": [
        {
          "output_type": "stream",
          "name": "stdout",
          "text": [
            "              precision    recall  f1-score   support\n",
            "\n",
            "           0       0.02      0.01      0.01       115\n",
            "           1       0.06      0.04      0.05       140\n",
            "           2       0.04      0.01      0.02       134\n",
            "           3       0.05      0.03      0.03       226\n",
            "           4       0.00      0.00      0.00       137\n",
            "           5       0.07      0.06      0.06       297\n",
            "           6       0.06      0.04      0.05       278\n",
            "           7       0.01      0.01      0.01       175\n",
            "           8       0.06      0.05      0.06       286\n",
            "           9       0.04      0.02      0.03       211\n",
            "          10       0.04      0.04      0.04       193\n",
            "          11       0.02      0.01      0.01       121\n",
            "          12       0.07      0.06      0.06       285\n",
            "          13       0.07      0.07      0.07       305\n",
            "          14       0.10      0.09      0.09       268\n",
            "          15       0.03      0.02      0.02       228\n",
            "          16       0.08      0.05      0.06       318\n",
            "          17       0.04      0.04      0.04       182\n",
            "          18       0.09      0.07      0.08       394\n",
            "          19       0.05      0.04      0.04       224\n",
            "\n",
            "   micro avg       0.06      0.04      0.05      4517\n",
            "   macro avg       0.05      0.04      0.04      4517\n",
            "weighted avg       0.06      0.04      0.05      4517\n",
            " samples avg       0.03      0.03      0.03      4517\n",
            "\n"
          ]
        },
        {
          "output_type": "stream",
          "name": "stderr",
          "text": [
            "/usr/local/lib/python3.7/dist-packages/sklearn/metrics/_classification.py:1318: UndefinedMetricWarning: Precision and F-score are ill-defined and being set to 0.0 in samples with no predicted labels. Use `zero_division` parameter to control this behavior.\n",
            "  _warn_prf(average, modifier, msg_start, len(result))\n",
            "/usr/local/lib/python3.7/dist-packages/sklearn/metrics/_classification.py:1318: UndefinedMetricWarning: Recall and F-score are ill-defined and being set to 0.0 in samples with no true labels. Use `zero_division` parameter to control this behavior.\n",
            "  _warn_prf(average, modifier, msg_start, len(result))\n"
          ]
        }
      ]
    },
    {
      "cell_type": "code",
      "source": [],
      "metadata": {
        "id": "Zobl5Rs0gL56"
      },
      "execution_count": null,
      "outputs": []
    }
  ]
}