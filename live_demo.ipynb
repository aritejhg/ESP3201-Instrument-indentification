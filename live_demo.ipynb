{
  "nbformat": 4,
  "nbformat_minor": 0,
  "metadata": {
    "colab": {
      "provenance": [],
      "authorship_tag": "ABX9TyM7EjujqbETs+Fdeyi183tK",
      "include_colab_link": true
    },
    "kernelspec": {
      "name": "python3",
      "display_name": "Python 3"
    },
    "language_info": {
      "name": "python"
    }
  },
  "cells": [
    {
      "cell_type": "markdown",
      "metadata": {
        "id": "view-in-github",
        "colab_type": "text"
      },
      "source": [
        "<a href=\"https://colab.research.google.com/github/aritejhg/ESP3201-Instrument-indentification/blob/main/live_demo.ipynb\" target=\"_parent\"><img src=\"https://colab.research.google.com/assets/colab-badge.svg\" alt=\"Open In Colab\"/></a>"
      ]
    },
    {
      "cell_type": "code",
      "execution_count": null,
      "metadata": {
        "id": "4zP7eRz3MuU5"
      },
      "outputs": [],
      "source": [
        "!git clone https://github.com/cosmir/openmic-2018.git"
      ]
    },
    {
      "cell_type": "code",
      "source": [
        "%cd /content/openmic-2018"
      ],
      "metadata": {
        "colab": {
          "base_uri": "https://localhost:8080/"
        },
        "id": "DVvc2IVVM5aU",
        "outputId": "03a5b0bf-fdb4-4b44-85ae-92a30fc4caf9"
      },
      "execution_count": null,
      "outputs": [
        {
          "output_type": "stream",
          "name": "stdout",
          "text": [
            "/content/openmic-2018\n"
          ]
        }
      ]
    },
    {
      "cell_type": "code",
      "source": [
        "pwd"
      ],
      "metadata": {
        "colab": {
          "base_uri": "https://localhost:8080/",
          "height": 35
        },
        "id": "kf_Ih2TnNHiB",
        "outputId": "fa897c33-83ce-4da4-e1a8-0f863c556cbf"
      },
      "execution_count": null,
      "outputs": [
        {
          "output_type": "execute_result",
          "data": {
            "text/plain": [
              "'/content/openmic-2018'"
            ],
            "application/vnd.google.colaboratory.intrinsic+json": {
              "type": "string"
            }
          },
          "metadata": {},
          "execution_count": 8
        }
      ]
    },
    {
      "cell_type": "code",
      "source": [
        "!./scripts/download-deps.sh"
      ],
      "metadata": {
        "id": "YbM_P9q8NNY3"
      },
      "execution_count": null,
      "outputs": []
    },
    {
      "cell_type": "code",
      "source": [
        "!pip install ."
      ],
      "metadata": {
        "id": "rw16oTNWNUFQ"
      },
      "execution_count": null,
      "outputs": []
    },
    {
      "cell_type": "code",
      "source": [
        "%cd .."
      ],
      "metadata": {
        "colab": {
          "base_uri": "https://localhost:8080/"
        },
        "id": "qI2-MbQHlXh-",
        "outputId": "bb099aac-1a5f-414d-a6c8-e9f794edd2ef"
      },
      "execution_count": null,
      "outputs": [
        {
          "output_type": "stream",
          "name": "stdout",
          "text": [
            "/content/openmic-2018\n"
          ]
        }
      ]
    },
    {
      "cell_type": "code",
      "source": [
        "#!python scripts/featurefy.py --file Voice_027.wav ./features\n",
        "# !python scripts/featurefy.py --file guitar.wav ./features\n",
        "!python scripts/featurefy.py --file 000046_3840.wav ./features"
      ],
      "metadata": {
        "id": "e-PvnTp0NYyK"
      },
      "execution_count": null,
      "outputs": []
    },
    {
      "cell_type": "code",
      "source": [
        "!git clone https://github.com/aritejhg/AttentionMIC.git"
      ],
      "metadata": {
        "id": "dc0nenXcRlso"
      },
      "execution_count": null,
      "outputs": []
    },
    {
      "cell_type": "code",
      "source": [
        "%cd AttentionMIC"
      ],
      "metadata": {
        "colab": {
          "base_uri": "https://localhost:8080/"
        },
        "id": "SmuF8EPnSO4_",
        "outputId": "ddd085d5-dae4-4b80-8d46-95a6e0e3ca0a"
      },
      "execution_count": null,
      "outputs": [
        {
          "output_type": "stream",
          "name": "stdout",
          "text": [
            "/content/openmic-2018/AttentionMIC\n"
          ]
        }
      ]
    },
    {
      "cell_type": "code",
      "source": [
        "import torch\n",
        "from Attention import *\n",
        "import numpy as np"
      ],
      "metadata": {
        "id": "LjjbT5yfUull"
      },
      "execution_count": null,
      "outputs": []
    },
    {
      "cell_type": "code",
      "source": [
        "model = DecisionLevelSingleAttention(\n",
        "                freq_bins=128,\n",
        "                classes_num=20,\n",
        "                emb_layers=3,\n",
        "                hidden_units=128,\n",
        "                drop_rate=0.6)\n",
        "\n",
        "model.load_state_dict(torch.load('/content/openmic-2018/best_f1_score_weighted.pth', map_location=torch.device('cpu')))"
      ],
      "metadata": {
        "colab": {
          "base_uri": "https://localhost:8080/"
        },
        "id": "m6aay18GN0G4",
        "outputId": "5c583dfe-1240-424a-b28e-9091504672d5"
      },
      "execution_count": null,
      "outputs": [
        {
          "output_type": "stream",
          "name": "stdout",
          "text": [
            "55336\n"
          ]
        },
        {
          "output_type": "execute_result",
          "data": {
            "text/plain": [
              "<All keys matched successfully>"
            ]
          },
          "metadata": {},
          "execution_count": 26
        }
      ]
    },
    {
      "cell_type": "code",
      "source": [
        "input = np.load('/content/openmic-2018/features/000046_3840.npz')\n",
        "#input = np.load('/content/openmic-2018/features/Voice_027.npz')\n",
        "#input = np.load('/content/openmic-2018/features/Voice_piano.npz')\n",
        "input = input[\"features_z\"]\n",
        "input = np.expand_dims(input, axis = 0)\n",
        "x = torch.tensor(input, requires_grad=False, dtype = torch.float32)\n",
        "\n",
        "model.eval()\n",
        "out = model(x)\n",
        "print(out)"
      ],
      "metadata": {
        "colab": {
          "base_uri": "https://localhost:8080/"
        },
        "id": "aQm82e99O88Y",
        "outputId": "e4c879e5-f85a-4767-e047-0db39cdab668"
      },
      "execution_count": null,
      "outputs": [
        {
          "output_type": "stream",
          "name": "stdout",
          "text": [
            "tensor([[0.2000, 0.0000, 0.0000, 0.0000, 0.0000, 0.0000, 0.0000, 0.0000, 0.0000,\n",
            "         0.0000, 0.0000, 0.0000, 0.0000, 0.0000, 0.0000, 0.0000, 0.0000, 0.0000,\n",
            "         0.0000, 1.0000]], grad_fn=<HardtanhBackward0>)\n"
          ]
        }
      ]
    }
  ]
}